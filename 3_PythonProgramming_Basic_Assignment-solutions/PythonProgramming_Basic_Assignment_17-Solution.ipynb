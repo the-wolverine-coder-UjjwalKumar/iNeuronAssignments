{
 "cells": [
  {
   "cell_type": "markdown",
   "metadata": {},
   "source": [
    "========================================================================================================================="
   ]
  },
  {
   "cell_type": "markdown",
   "metadata": {},
   "source": [
    "<h1 align=\"center\">iNeuron-Full Stack Data Science</h1>\n",
    "<h2 align=\"center\">Python Basic</h2>\n",
    "<h3 align=\"center\">Assignment_17-Solution</h3>\n",
    "<div align=\"left\">\n",
    "    <h3 >Mentors :-</h3>\n",
    "    <h3 >Sudhanshu Kumar</h3>\n",
    "    <h3 >Krish Naik</h3>\n",
    "</div>\n",
    "\n",
    "<div align=\"right\">\n",
    "    <h3 >Submitted By :-</h3>\n",
    "    <h3 >Name :- UJJWAL KUMAR</h3>\n",
    "    <h3 >Mobile No. :- 7634900918</h3>\n",
    "    <h3 >Email :- uk9334336553@gmail.com</h3>\n",
    "</div>\n",
    "\n"
   ]
  },
  {
   "cell_type": "markdown",
   "metadata": {},
   "source": [
    "======================================================================================================================="
   ]
  },
  {
   "cell_type": "markdown",
   "metadata": {},
   "source": [
    "### Question1.\n",
    "##### Create a function that takes three arguments a, b, c and returns the sum of the numbers that are evenly divided by c from the range a, b inclusive.\n",
    "##### Examples\n",
    "##### evenly_divisible(1, 10, 20) ➞ 0\n",
    "##### No number between 1 and 10 can be evenly divided by 20.\n",
    "\n",
    "##### evenly_divisible(1, 10, 2) ➞ 30\n",
    "##### 2 + 4 + 6 + 8 + 10 = 30\n",
    "\n",
    "##### evenly_divisible(1, 10, 3) ➞ 18\n",
    "##### 3 + 6 + 9 = 18\n"
   ]
  },
  {
   "cell_type": "code",
   "execution_count": 4,
   "metadata": {},
   "outputs": [
    {
     "name": "stdout",
     "output_type": "stream",
     "text": [
      "1 10 2\n",
      "30\n"
     ]
    }
   ],
   "source": [
    "def evenlyDivisible(a,b,c):\n",
    "    if c>b or c==0:\n",
    "        return 0\n",
    "    elif c==1:\n",
    "        i = a\n",
    "        sumA = 0\n",
    "        while i <= b :\n",
    "            sumA += i\n",
    "            i +=1\n",
    "        \n",
    "        return sumA\n",
    "    else:\n",
    "        i = a\n",
    "        sumA = 0\n",
    "        while i<=b:\n",
    "            if i%c==0:\n",
    "                sumA += i\n",
    "            i+=1\n",
    "        \n",
    "        return sumA\n",
    "    \n",
    "    \n",
    "temp = list(map(int,input().split()))\n",
    "a,b,c = temp[0],temp[1],temp[2]\n",
    "print(evenlyDivisible(a,b,c))        "
   ]
  },
  {
   "cell_type": "markdown",
   "metadata": {},
   "source": [
    "### Question2.\n",
    "##### Create a function that returns True if a given inequality expression is correct and False otherwise.\n",
    "##### Examples\n",
    "##### correct_signs(\"3 < 7 < 11\") ➞ True\n",
    "\n",
    "##### correct_signs(\"13 > 44 > 33 > 1\") ➞ False\n",
    "\n",
    "##### correct_signs(\"1 < 2 < 6 < 9 > 3\") ➞ True"
   ]
  },
  {
   "cell_type": "code",
   "execution_count": 5,
   "metadata": {},
   "outputs": [
    {
     "data": {
      "text/plain": [
       "True"
      ]
     },
     "execution_count": 5,
     "metadata": {},
     "output_type": "execute_result"
    }
   ],
   "source": [
    "def correct_signs(deg): \n",
    "    if all(i.isnumeric() or i in \"< >.\" for i in deg):\n",
    "        return eval(deg)\n",
    "        \n",
    "            \n",
    "correct_signs('3<7<11')"
   ]
  },
  {
   "cell_type": "markdown",
   "metadata": {},
   "source": [
    "### Question3.\n",
    "##### Create a function that replaces all the vowels in a string with a specified character.\n",
    "##### Examples\n",
    "##### replace_vowels(\"the aardvark\", \"#\") ➞ \"th# ##rdv#rk\"\n",
    "\n",
    "##### replace_vowels(\"minnie mouse\", \"?\") ➞ \"m?nn?? m??s?\"\n",
    "\n",
    "##### replace_vowels(\"shakespeare\", \"*\") ➞ \"sh*k*sp**r*\""
   ]
  },
  {
   "cell_type": "code",
   "execution_count": 7,
   "metadata": {},
   "outputs": [
    {
     "name": "stdout",
     "output_type": "stream",
     "text": [
      "m?nn?? m??s?\n"
     ]
    }
   ],
   "source": [
    "def replaceVowels(string,char):\n",
    "    s = \"\"\n",
    "    for ch in string:\n",
    "        if ch=='a' or ch=='e' or ch=='i' or ch=='o' or ch=='u':\n",
    "            s+=char\n",
    "        else:\n",
    "            s += ch\n",
    "            \n",
    "    return s\n",
    "\n",
    "print(replaceVowels(\"minnie mouse\",'?'))"
   ]
  },
  {
   "cell_type": "markdown",
   "metadata": {},
   "source": [
    "### Question4.\n",
    "##### Write a function that calculates the factorial of a number recursively.\n",
    "##### Examples\n",
    "##### factorial(5) ➞ 120\n",
    "\n",
    "##### factorial(3) ➞ 6\n",
    "\n",
    "##### factorial(1) ➞ 1\n",
    "\n",
    "##### factorial(0) ➞ 1"
   ]
  },
  {
   "cell_type": "code",
   "execution_count": 8,
   "metadata": {},
   "outputs": [
    {
     "name": "stdout",
     "output_type": "stream",
     "text": [
      "120\n"
     ]
    }
   ],
   "source": [
    "def factorial(n):\n",
    "    if n<0:\n",
    "        return -1\n",
    "    elif n==1 or n==0:\n",
    "        return 1\n",
    "    else:\n",
    "        return n * factorial(n-1)\n",
    "    \n",
    "print(factorial(5))"
   ]
  },
  {
   "cell_type": "markdown",
   "metadata": {},
   "source": [
    "### Question 5\n",
    "##### Hamming distance is the number of characters that differ between two strings.\n",
    "##### To illustrate:\n",
    "##### String1: \"abcbba\"\n",
    "##### String2: \"abcbda\"\n",
    "\n",
    "##### Hamming Distance: 1 - \"b\" vs. \"d\" is the only difference.\n",
    "##### Create a function that computes the hamming distance between two strings.\n",
    "##### Examples\n",
    "##### hamming_distance(\"abcde\", \"bcdef\") ➞ 5\n",
    "\n",
    "##### hamming_distance(\"abcde\", \"abcde\") ➞ 0\n",
    "\n",
    "##### hamming_distance(\"strong\", \"strung\") ➞ 1"
   ]
  },
  {
   "cell_type": "code",
   "execution_count": 11,
   "metadata": {},
   "outputs": [
    {
     "name": "stdout",
     "output_type": "stream",
     "text": [
      "5\n"
     ]
    }
   ],
   "source": [
    "def hammingDistance(string1,string2):\n",
    "    distance = 0\n",
    "    if len(string1)!=len(string2):\n",
    "        return distance\n",
    "    else:\n",
    "        for i in range(len(string1)):\n",
    "            if string1[i]!=string2[i]:\n",
    "                distance +=1\n",
    "        return distance\n",
    "    \n",
    "ans = (hammingDistance(\"abcde\",\"bcdef\"))\n",
    "print(ans)"
   ]
  },
  {
   "cell_type": "code",
   "execution_count": null,
   "metadata": {},
   "outputs": [],
   "source": []
  }
 ],
 "metadata": {
  "kernelspec": {
   "display_name": "Python 3",
   "language": "python",
   "name": "python3"
  },
  "language_info": {
   "codemirror_mode": {
    "name": "ipython",
    "version": 3
   },
   "file_extension": ".py",
   "mimetype": "text/x-python",
   "name": "python",
   "nbconvert_exporter": "python",
   "pygments_lexer": "ipython3",
   "version": "3.7.6"
  }
 },
 "nbformat": 4,
 "nbformat_minor": 4
}
