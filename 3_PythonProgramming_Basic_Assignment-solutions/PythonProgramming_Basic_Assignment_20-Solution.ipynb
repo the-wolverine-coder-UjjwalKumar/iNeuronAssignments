{
 "cells": [
  {
   "cell_type": "markdown",
   "metadata": {},
   "source": [
    "========================================================================================================================="
   ]
  },
  {
   "cell_type": "markdown",
   "metadata": {},
   "source": [
    "<h1 align=\"center\">iNeuron-Full Stack Data Science</h1>\n",
    "<h2 align=\"center\">Python Basic</h2>\n",
    "<h3 align=\"center\">Assignment_20-Solution</h3>\n",
    "<div align=\"left\">\n",
    "    <h3 >Mentors :-</h3>\n",
    "    <h3 >Sudhanshu Kumar</h3>\n",
    "    <h3 >Krish Naik</h3>\n",
    "</div>\n",
    "\n",
    "<div align=\"right\">\n",
    "    <h3 >Submitted By :-</h3>\n",
    "    <h3 >Name :- UJJWAL KUMAR</h3>\n",
    "    <h3 >Mobile No. :- 7634900918</h3>\n",
    "    <h3 >Email :- uk9334336553@gmail.com</h3>\n",
    "</div>\n",
    "\n"
   ]
  },
  {
   "cell_type": "markdown",
   "metadata": {},
   "source": [
    "======================================================================================================================="
   ]
  },
  {
   "cell_type": "markdown",
   "metadata": {},
   "source": [
    "### Question1\n",
    "##### Create a function that takes a list of strings and integers, and filters out the list so that it returns a list of integers only.\n",
    "##### Examples\n",
    "##### filter_list([1, 2, 3, \"a\", \"b\", 4]) ➞ [1, 2, 3, 4]\n",
    "\n",
    "##### filter_list([\"A\", 0, \"Edabit\", 1729, \"Python\", \"1729\"]) ➞ [0, 1729]\n",
    "\n",
    "##### filter_list([\"Nothing\", \"here\"]) ➞ []"
   ]
  },
  {
   "cell_type": "code",
   "execution_count": 1,
   "metadata": {},
   "outputs": [
    {
     "name": "stdout",
     "output_type": "stream",
     "text": [
      "1 2 3 a b c 5 6\n",
      "[1, 2, 3, 5, 6]\n"
     ]
    }
   ],
   "source": [
    "def filterList(inputList):\n",
    "    ans = []\n",
    "    for element in inputList:\n",
    "        if element.isnumeric():\n",
    "            ans.append(int(element))\n",
    "            \n",
    "    return ans\n",
    "\n",
    "inputList = list(map(str,input().split()))\n",
    "res = filterList(inputList)\n",
    "\n",
    "if len(res)!=0:\n",
    "    print(res)\n",
    "else:\n",
    "    print(\"Sorry no integers are present in the input list !!\")"
   ]
  },
  {
   "cell_type": "markdown",
   "metadata": {},
   "source": [
    "### Question2\n",
    "##### Given a list of numbers, create a function which returns the list but with each element's index in the list added to itself. This means you add 0 to the number at index 0, add 1 to the number at index 1, etc...\n",
    "##### Examples\n",
    "##### add_indexes([0, 0, 0, 0, 0]) ➞ [0, 1, 2, 3, 4]\n",
    "\n",
    "##### add_indexes([1, 2, 3, 4, 5]) ➞ [1, 3, 5, 7, 9]\n",
    "\n",
    "##### add_indexes([5, 4, 3, 2, 1]) ➞ [5, 5, 5, 5, 5]"
   ]
  },
  {
   "cell_type": "code",
   "execution_count": 2,
   "metadata": {},
   "outputs": [
    {
     "name": "stdout",
     "output_type": "stream",
     "text": [
      "5,4,3,2,1\n",
      "[5, 5, 5, 5, 5]\n"
     ]
    }
   ],
   "source": [
    "def addIndex(inputList):\n",
    "    ans = []\n",
    "    for i in range(len(inputList)):\n",
    "        ans.append((inputList[i] + i))\n",
    "    return ans\n",
    "\n",
    "inputList = list(map(int,input().split(\",\")))\n",
    "print(addIndex(inputList))"
   ]
  },
  {
   "cell_type": "markdown",
   "metadata": {},
   "source": [
    "### Question3\n",
    "##### Create a function that takes the height and radius of a cone as arguments and returns the volume of the cone rounded to the nearest hundredth. See the resources tab for the formula.\n",
    "\n",
    "##### Examples\n",
    "##### cone_volume(3, 2) ➞ 12.57\n",
    "\n",
    "##### cone_volume(15, 6) ➞ 565.49\n",
    "\n",
    "##### cone_volume(18, 0) ➞ 0"
   ]
  },
  {
   "cell_type": "code",
   "execution_count": 10,
   "metadata": {},
   "outputs": [
    {
     "name": "stdout",
     "output_type": "stream",
     "text": [
      "15,6\n",
      "565.20\n"
     ]
    }
   ],
   "source": [
    "def coneVolume(height,radius):\n",
    "    return (3.14*(radius**2)*height)/3\n",
    "\n",
    "temp = list(map(int,input().split(',')))\n",
    "height,radius = temp[0],temp[1]\n",
    "\n",
    "print(\"{:.2f}\".format(coneVolume(height,radius)))"
   ]
  },
  {
   "cell_type": "markdown",
   "metadata": {},
   "source": [
    "### Question4\n",
    "##### This Triangular Number Sequence is generated from a pattern of dots that form a triangle. The first 5 numbers of the sequence, or dots, are: \n",
    "##### 1, 3, 6, 10, 15\n",
    "##### This means that the first triangle has just one dot, the second one has three dots, the third one has 6 dots and so on.\n",
    "##### Write a function that gives the number of dots with its corresponding triangle number of the sequence.\n",
    "##### Examples\n",
    "##### triangle(1) ➞ 1\n",
    "\n",
    "##### triangle(6) ➞ 21\n",
    "\n",
    "##### triangle(215) ➞ 23220"
   ]
  },
  {
   "cell_type": "code",
   "execution_count": 11,
   "metadata": {},
   "outputs": [
    {
     "name": "stdout",
     "output_type": "stream",
     "text": [
      "215\n",
      "23220\n"
     ]
    }
   ],
   "source": [
    "def triangle(n):\n",
    "    return n*(n+1)//2\n",
    "\n",
    "print(triangle(int(input())))"
   ]
  },
  {
   "cell_type": "markdown",
   "metadata": {},
   "source": [
    "### Question5\n",
    "##### Create a function that takes a list of numbers between 1 and 10 (excluding one number) and returns the missing number.\n",
    "##### Examples\n",
    "##### missing_num([1, 2, 3, 4, 6, 7, 8, 9, 10]) ➞ 5\n",
    "\n",
    "##### missing_num([7, 2, 3, 6, 5, 9, 1, 4, 8]) ➞ 10\n",
    "\n",
    "##### missing_num([10, 5, 1, 2, 4, 6, 8, 3, 9]) ➞ 7"
   ]
  },
  {
   "cell_type": "code",
   "execution_count": 12,
   "metadata": {},
   "outputs": [
    {
     "name": "stdout",
     "output_type": "stream",
     "text": [
      "1 2 3 4 5 6 8 9 10\n",
      "7\n"
     ]
    }
   ],
   "source": [
    "def missingNum(inputList):\n",
    "    ans = -1\n",
    "    if len(inputList)==9:\n",
    "        inputList.sort()\n",
    "        i = 1\n",
    "        while i<=10:\n",
    "            if inputList[i-1]!= i:\n",
    "                ans = i\n",
    "                break\n",
    "            i += 1\n",
    "            \n",
    "        return ans\n",
    "    else:\n",
    "        return ans\n",
    "    \n",
    "inputList = list(map(int,input().split()))\n",
    "res = missingNum(inputList)\n",
    "if res!=-1:\n",
    "    print(res)\n",
    "else:\n",
    "    print(\"Invalid input !!\")"
   ]
  },
  {
   "cell_type": "code",
   "execution_count": null,
   "metadata": {},
   "outputs": [],
   "source": []
  }
 ],
 "metadata": {
  "kernelspec": {
   "display_name": "Python 3",
   "language": "python",
   "name": "python3"
  },
  "language_info": {
   "codemirror_mode": {
    "name": "ipython",
    "version": 3
   },
   "file_extension": ".py",
   "mimetype": "text/x-python",
   "name": "python",
   "nbconvert_exporter": "python",
   "pygments_lexer": "ipython3",
   "version": "3.7.6"
  }
 },
 "nbformat": 4,
 "nbformat_minor": 4
}
