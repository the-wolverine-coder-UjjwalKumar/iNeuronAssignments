{
 "cells": [
  {
   "cell_type": "markdown",
   "metadata": {},
   "source": [
    "========================================================================================================================="
   ]
  },
  {
   "cell_type": "markdown",
   "metadata": {},
   "source": [
    "<h1 align=\"center\">iNeuron-Full Stack Data Science</h1>\n",
    "<h2 align=\"center\">Python Basic</h2>\n",
    "<h3 align=\"center\">Assignment_24-Solution</h3>\n",
    "<div align=\"left\">\n",
    "    <h3 >Mentors :-</h3>\n",
    "    <h3 >Sudhanshu Kumar</h3>\n",
    "    <h3 >Krish Naik</h3>\n",
    "</div>\n",
    "\n",
    "<div align=\"right\">\n",
    "    <h3 >Submitted By :-</h3>\n",
    "    <h3 >Name :- UJJWAL KUMAR</h3>\n",
    "    <h3 >Mobile No. :- 7634900918</h3>\n",
    "    <h3 >Email :- uk9334336553@gmail.com</h3>\n",
    "</div>\n",
    "\n"
   ]
  },
  {
   "cell_type": "markdown",
   "metadata": {},
   "source": [
    "======================================================================================================================="
   ]
  },
  {
   "cell_type": "markdown",
   "metadata": {},
   "source": [
    "### Question1\n",
    "##### Create a function that takes an integer and returns a list from 1 to the given number, where:\n",
    "##### If the number can be divided evenly by 4, amplify it by 10 (i.e. return 10 times the number).\n",
    "##### If the number cannot be divided evenly by 4, simply return the number.\n",
    "##### Examples\n",
    "##### amplify(4) ➞ [1, 2, 3, 40]\n",
    "\n",
    "##### amplify(3) ➞ [1, 2, 3]\n",
    "\n",
    "##### amplify(25) ➞ [1, 2, 3, 40, 5, 6, 7, 80, 9, 10, 11, 120, 13, 14, 15, 160, 17, 18, 19, 200, 21, 22, 23, 240, 25]\n",
    "##### Notes\n",
    "##### The given integer will always be equal to or greater than 1.\n",
    "##### Include the number (see example above).\n",
    "##### To perform this problem with its intended purpose, try doing it with list comprehensions. If that's too difficult, just solve the challenge any way you can.\n"
   ]
  },
  {
   "cell_type": "code",
   "execution_count": 1,
   "metadata": {},
   "outputs": [
    {
     "name": "stdout",
     "output_type": "stream",
     "text": [
      "25\n",
      "[1, 2, 3, 40, 5, 6, 7, 80, 9, 10, 11, 120, 13, 14, 15, 160, 17, 18, 19, 200, 21, 22, 23, 240, 25]\n"
     ]
    }
   ],
   "source": [
    "def amplify(n):\n",
    "    i = 1\n",
    "    ans = []\n",
    "    while i<=n:\n",
    "        if i%4!=0:\n",
    "            ans.append(i)\n",
    "        else:\n",
    "            ans.append((10*i))\n",
    "            \n",
    "        i +=1\n",
    "        \n",
    "    return ans\n",
    "\n",
    "print(amplify(int(input())))"
   ]
  },
  {
   "cell_type": "markdown",
   "metadata": {},
   "source": [
    "### Question2\n",
    "##### Create a function that takes a list of numbers and return the number that's unique.\n",
    "##### Examples\n",
    "##### unique([3, 3, 3, 7, 3, 3]) ➞ 7\n",
    "\n",
    "##### unique([0, 0, 0.77, 0, 0]) ➞ 0.77\n",
    "\n",
    "##### unique([0, 1, 1, 1, 1, 1, 1, 1]) ➞ 0\n",
    "##### Notes\n",
    "##### Test cases will always have exactly one unique number while all others are the same.\n"
   ]
  },
  {
   "cell_type": "code",
   "execution_count": 4,
   "metadata": {},
   "outputs": [
    {
     "name": "stdout",
     "output_type": "stream",
     "text": [
      "3,3,3,7,3,3\n",
      "[7]\n"
     ]
    }
   ],
   "source": [
    "def unique(list1):\n",
    "    ans = []\n",
    "    for ele in list1:\n",
    "        if list1.count(ele)<=1:\n",
    "            ans.append(ele)\n",
    "        \n",
    "    return ans\n",
    "\n",
    "print(unique(list(map(int,input().split(\",\")))))"
   ]
  },
  {
   "cell_type": "markdown",
   "metadata": {},
   "source": [
    "### Question3\n",
    "##### Your task is to create a Circle constructor that creates a circle with a radius provided by an argument. The circles constructed must have two getters getArea() (PIr^2) and getPerimeter() (2PI*r) which give both respective areas and perimeter (circumference).\n",
    "##### For help with this class, I have provided you with a Rectangle constructor which you can use as a base example.\n",
    "##### Examples\n",
    "##### circy = Circle(11)\n",
    "##### circy.getArea()\n",
    "\n",
    "##### Should return 380.132711084365\n",
    "\n",
    "##### circy = Circle(4.44)\n",
    "##### circy.getPerimeter()\n",
    "\n",
    "##### Should return 27.897342763877365\n"
   ]
  },
  {
   "cell_type": "code",
   "execution_count": 7,
   "metadata": {},
   "outputs": [
    {
     "data": {
      "text/plain": [
       "380.2857142857143"
      ]
     },
     "execution_count": 7,
     "metadata": {},
     "output_type": "execute_result"
    }
   ],
   "source": [
    "class Circle():\n",
    "    def __init__(self,radius):\n",
    "        self.radius = radius\n",
    "        \n",
    "    def getArea(self):\n",
    "        return 3.142857142857143*(self.radius*self.radius)\n",
    "    \n",
    "    def getParameter(self):\n",
    "        return 2*3.142857142857143*self.radius\n",
    "    \n",
    "circy = Circle(11)\n",
    "circy.getArea()"
   ]
  },
  {
   "cell_type": "markdown",
   "metadata": {},
   "source": [
    "### Question4\n",
    "##### Create a function that takes a list of strings and return a list, sorted from shortest to longest.\n",
    "##### Examples\n",
    "##### sort_by_length([\"Google\", \"Apple\", \"Microsoft\"])\n",
    "##### ➞ [\"Apple\", \"Google\", \"Microsoft\"]\n",
    "\n",
    "##### sort_by_length([\"Leonardo\", \"Michelangelo\", \"Raphael\", \"Donatello\"])\n",
    "##### ➞ [\"Raphael\", \"Leonardo\", \"Donatello\", \"Michelangelo\"]\n",
    "\n",
    "##### sort_by_length([\"Turing\", \"Einstein\", \"Jung\"])\n",
    "##### ➞ [\"Jung\", \"Turing\", \"Einstein\"]\n",
    "##### Notes\n",
    "##### All test cases contain lists with strings of different lengths, so you won't have to deal with multiple strings of the same length."
   ]
  },
  {
   "cell_type": "code",
   "execution_count": 11,
   "metadata": {},
   "outputs": [
    {
     "name": "stdout",
     "output_type": "stream",
     "text": [
      "['Apple', 'Google', 'Microsoft']\n"
     ]
    }
   ],
   "source": [
    "def sortByLength(list1):\n",
    "    list1.sort(key = lambda x: len(x))\n",
    "    #ans = sorted(list1,key = len)\n",
    "    return list1\n",
    "\n",
    "print(sortByLength([\"Google\", \"Apple\", \"Microsoft\"]))"
   ]
  },
  {
   "cell_type": "markdown",
   "metadata": {},
   "source": [
    "### Question5\n",
    "##### Create a function that validates whether three given integers form a Pythagorean triplet. The sum of the squares of the two smallest integers must equal the square of the largest number to be validated.\n",
    "\n",
    "##### Examples\n",
    "##### is_triplet(3, 4, 5) ➞ True\n",
    "##### 3² + 4² = 25\n",
    "##### 5² = 25\n",
    "\n",
    "##### is_triplet(13, 5, 12) ➞ True\n",
    "##### 5² + 12² = 169\n",
    "##### 13² = 169\n",
    "\n",
    "##### is_triplet(1, 2, 3) ➞ False\n",
    "##### 1² + 2² = 5\n",
    "##### 3² = 9\n",
    "##### Notes\n",
    "##### Numbers may not be given in a sorted order."
   ]
  },
  {
   "cell_type": "code",
   "execution_count": 14,
   "metadata": {},
   "outputs": [
    {
     "name": "stdout",
     "output_type": "stream",
     "text": [
      "True\n"
     ]
    }
   ],
   "source": [
    "def isTriple(x,y,z):\n",
    "    temp = [x,y,z]\n",
    "    temp.sort()\n",
    "    return (temp[0]**2 + temp[1]**2) == temp[2]**2\n",
    "\n",
    "print(isTriple(13,5,12))"
   ]
  },
  {
   "cell_type": "code",
   "execution_count": null,
   "metadata": {},
   "outputs": [],
   "source": []
  }
 ],
 "metadata": {
  "kernelspec": {
   "display_name": "Python 3",
   "language": "python",
   "name": "python3"
  },
  "language_info": {
   "codemirror_mode": {
    "name": "ipython",
    "version": 3
   },
   "file_extension": ".py",
   "mimetype": "text/x-python",
   "name": "python",
   "nbconvert_exporter": "python",
   "pygments_lexer": "ipython3",
   "version": "3.7.6"
  }
 },
 "nbformat": 4,
 "nbformat_minor": 4
}
