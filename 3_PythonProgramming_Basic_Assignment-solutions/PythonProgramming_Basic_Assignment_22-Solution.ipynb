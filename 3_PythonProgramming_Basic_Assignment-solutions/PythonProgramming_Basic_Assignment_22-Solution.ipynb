{
 "cells": [
  {
   "cell_type": "markdown",
   "metadata": {},
   "source": [
    "========================================================================================================================="
   ]
  },
  {
   "cell_type": "markdown",
   "metadata": {},
   "source": [
    "<h1 align=\"center\">iNeuron-Full Stack Data Science</h1>\n",
    "<h2 align=\"center\">Python Basic</h2>\n",
    "<h3 align=\"center\">Assignment_22-Solution</h3>\n",
    "<div align=\"left\">\n",
    "    <h3 >Mentors :-</h3>\n",
    "    <h3 >Sudhanshu Kumar</h3>\n",
    "    <h3 >Krish Naik</h3>\n",
    "</div>\n",
    "\n",
    "<div align=\"right\">\n",
    "    <h3 >Submitted By :-</h3>\n",
    "    <h3 >Name :- UJJWAL KUMAR</h3>\n",
    "    <h3 >Mobile No. :- 7634900918</h3>\n",
    "    <h3 >Email :- uk9334336553@gmail.com</h3>\n",
    "</div>\n",
    "\n"
   ]
  },
  {
   "cell_type": "markdown",
   "metadata": {},
   "source": [
    "======================================================================================================================="
   ]
  },
  {
   "cell_type": "markdown",
   "metadata": {},
   "source": [
    "### Question1\n",
    "##### Create a function that takes three parameters where:\n",
    "##### x is the start of the range (inclusive).\n",
    "##### y is the end of the range (inclusive).\n",
    "##### n is the divisor to be checked against.\n",
    "##### Return an ordered list with numbers in the range that are divisible by the third parameter n. Return an empty list if there are no numbers that are divisible by n.\n",
    "##### Examples\n",
    "##### list_operation(1, 10, 3) ➞ [3, 6, 9]\n",
    "\n",
    "##### list_operation(7, 9, 2) ➞ [8]\n",
    "\n",
    "##### list_operation(15, 20, 7) ➞ []"
   ]
  },
  {
   "cell_type": "code",
   "execution_count": 1,
   "metadata": {},
   "outputs": [
    {
     "name": "stdout",
     "output_type": "stream",
     "text": [
      "1,10,3\n",
      "[3, 6, 9]\n"
     ]
    }
   ],
   "source": [
    "def listOperation(x,y,n):\n",
    "    ans = []\n",
    "    for i in range(x,y+1,1):\n",
    "        if i%n==0:\n",
    "            ans.append(i)\n",
    "            \n",
    "    return ans\n",
    "\n",
    "inputList = list(map(int,input().split(\",\")))\n",
    "x,y,n = inputList[0],inputList[1],inputList[2]\n",
    "\n",
    "print(listOperation(x,y,n))"
   ]
  },
  {
   "cell_type": "markdown",
   "metadata": {},
   "source": [
    "### Question2\n",
    "###### Create a function that takes in two lists and returns True if the second list follows the first list by one element, and False otherwise. In other words, determine if the second list is the first list shifted to the right by 1.\n",
    "##### Examples\n",
    "##### simon_says([1, 2], [5, 1]) ➞ True\n",
    "\n",
    "##### simon_says([1, 2], [5, 5]) ➞ False\n",
    "\n",
    "##### simon_says([1, 2, 3, 4, 5], [5, 1, 2, 3, 4]) ➞ True\n",
    "\n",
    "##### simon_says([1, 2, 3, 4, 5], [5, 5, 1, 2, 3]) ➞ False\n",
    "##### Notes\n",
    "##### Both input lists will be of the same length, and will have a minimum length of 2.\n",
    "##### The values of the 0-indexed element in the second list and the n-1th indexed element in the first list do not matter."
   ]
  },
  {
   "cell_type": "code",
   "execution_count": 4,
   "metadata": {},
   "outputs": [
    {
     "name": "stdout",
     "output_type": "stream",
     "text": [
      "1 2 3 4 5\n",
      "5 1 2 3 4\n",
      "True\n"
     ]
    }
   ],
   "source": [
    "def simonSayS(list1,list2):\n",
    "    tempList = list1[-1:] + list1[:-1]\n",
    "    \n",
    "    return tempList == list2\n",
    "\n",
    "list1 = list(map(int,input().split()))\n",
    "list2 = list(map(int,input().split()))\n",
    "\n",
    "print(simonSayS(list1,list2))"
   ]
  },
  {
   "cell_type": "markdown",
   "metadata": {},
   "source": [
    "### Question3\n",
    "##### A group of friends have decided to start a secret society. The name will be the first letter of each of their names, sorted in alphabetical order.\n",
    "##### Create a function that takes in a list of names and returns the name of the secret society.\n",
    "##### Examples\n",
    "##### society_name([\"Adam\", \"Sarah\", \"Malcolm\"]) ➞ \"AMS\"\n",
    "\n",
    "##### society_name([\"Harry\", \"Newt\", \"Luna\", \"Cho\"]) ➞ \"CHLN\"\n",
    "\n",
    "##### society_name([\"Phoebe\", \"Chandler\", \"Rachel\", \"Ross\", \"Monica\", \"Joey\"]) ➞ \"PCRRMJ\"\n"
   ]
  },
  {
   "cell_type": "code",
   "execution_count": 5,
   "metadata": {},
   "outputs": [
    {
     "name": "stdout",
     "output_type": "stream",
     "text": [
      "PCRRMJ\n"
     ]
    }
   ],
   "source": [
    "def societyName(list1):\n",
    "    name = ''\n",
    "    for ele in list1:\n",
    "        if ord(ele[0])>=65 and ord(ele[0])<90:\n",
    "            name += ele[0]\n",
    "            \n",
    "    return name\n",
    "\n",
    "print(societyName([\"Phoebe\", \"Chandler\", \"Rachel\", \"Ross\", \"Monica\", \"Joey\"]))"
   ]
  },
  {
   "cell_type": "markdown",
   "metadata": {},
   "source": [
    "### Question4\n",
    "##### An isogram is a word that has no duplicate letters. Create a function that takes a string and returns either True or False depending on whether or not it's an \"isogram\".\n",
    "##### Examples\n",
    "##### is_isogram(\"Algorism\") ➞ True\n",
    "\n",
    "##### is_isogram(\"PasSword\") ➞ False\n",
    "##### Not case sensitive.\n",
    "\n",
    "##### is_isogram(\"Consecutive\") ➞ False\n",
    "##### Notes\n",
    "##### Ignore letter case (should not be case sensitive).\n",
    "##### All test cases contain valid one word strings.\n"
   ]
  },
  {
   "cell_type": "code",
   "execution_count": 9,
   "metadata": {},
   "outputs": [
    {
     "name": "stdout",
     "output_type": "stream",
     "text": [
      "Algorism\n",
      "True\n"
     ]
    }
   ],
   "source": [
    "def isIsogram(string):\n",
    "    temp = (\"\").join(sorted(list(set(string))))\n",
    "    newS = (\"\").join(sorted(string))\n",
    "    return temp == newS\n",
    "\n",
    "print(isIsogram(input()))"
   ]
  },
  {
   "cell_type": "markdown",
   "metadata": {},
   "source": [
    "### Question5\n",
    "##### Create a function that takes a string and returns True or False, depending on whether the characters are in order or not.\n",
    "##### Examples\n",
    "##### is_in_order(\"abc\") ➞ True\n",
    "\n",
    "##### is_in_order(\"edabit\") ➞ False\n",
    "\n",
    "##### is_in_order(\"123\") ➞ True\n",
    "\n",
    "##### is_in_order(\"xyzz\") ➞ True\n",
    "##### Notes\n",
    "##### You don't have to handle empty strings.\n"
   ]
  },
  {
   "cell_type": "code",
   "execution_count": 10,
   "metadata": {},
   "outputs": [
    {
     "name": "stdout",
     "output_type": "stream",
     "text": [
      "True\n"
     ]
    }
   ],
   "source": [
    "def isInOrder(string):\n",
    "    newS = (\"\").join(sorted(string))\n",
    "    \n",
    "    return newS == string\n",
    "\n",
    "print(isInOrder(\"123\"))"
   ]
  },
  {
   "cell_type": "code",
   "execution_count": null,
   "metadata": {},
   "outputs": [],
   "source": []
  }
 ],
 "metadata": {
  "kernelspec": {
   "display_name": "Python 3",
   "language": "python",
   "name": "python3"
  },
  "language_info": {
   "codemirror_mode": {
    "name": "ipython",
    "version": 3
   },
   "file_extension": ".py",
   "mimetype": "text/x-python",
   "name": "python",
   "nbconvert_exporter": "python",
   "pygments_lexer": "ipython3",
   "version": "3.7.6"
  }
 },
 "nbformat": 4,
 "nbformat_minor": 4
}
