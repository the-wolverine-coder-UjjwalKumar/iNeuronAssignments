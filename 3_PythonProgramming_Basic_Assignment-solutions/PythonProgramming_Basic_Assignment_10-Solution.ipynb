{
 "cells": [
  {
   "cell_type": "markdown",
   "metadata": {},
   "source": [
    "========================================================================================================================="
   ]
  },
  {
   "cell_type": "markdown",
   "metadata": {},
   "source": [
    "<h1 align=\"center\">iNeuron-Full Stack Data Science</h1>\n",
    "<h2 align=\"center\">Python Basic</h2>\n",
    "<h3 align=\"center\">Assignment_10-Solution</h3>\n",
    "<div align=\"left\">\n",
    "    <h3 >Mentors :-</h3>\n",
    "    <h3 >Sudhanshu Kumar</h3>\n",
    "    <h3 >Krish Naik</h3>\n",
    "</div>\n",
    "\n",
    "<div align=\"right\">\n",
    "    <h3 >Submitted By :-</h3>\n",
    "    <h3 >Name :- UJJWAL KUMAR</h3>\n",
    "    <h3 >Mobile No. :- 7634900918</h3>\n",
    "    <h3 >Email :- uk9334336553@gmail.com</h3>\n",
    "</div>\n",
    "\n"
   ]
  },
  {
   "cell_type": "markdown",
   "metadata": {},
   "source": [
    "======================================================================================================================="
   ]
  },
  {
   "cell_type": "markdown",
   "metadata": {},
   "source": [
    "#### 1. Write a Python program to find sum of elements in list?\n",
    "#### 2. Write a Python program to  Multiply all numbers in the list?\n",
    "#### 3. Write a Python program to find smallest number in a list?\n",
    "#### 4. Write a Python program to find largest number in a list?\n",
    "#### 5. Write a Python program to find second largest number in a list?\n",
    "#### 6. Write a Python program to find N largest elements from a list?\n",
    "#### 7. Write a Python program to print even numbers in a list?\n",
    "#### 8. Write a Python program to print odd numbers in a List?\n",
    "#### 9. Write a Python program to Remove empty List from List?\n",
    "#### 10. Write a Python program to Cloning or Copying a list?\n",
    "#### 11. Write a Python program to Count occurrences of an element in a list?\n"
   ]
  },
  {
   "cell_type": "code",
   "execution_count": 3,
   "metadata": {},
   "outputs": [
    {
     "name": "stdout",
     "output_type": "stream",
     "text": [
      "Enter the array elements :: 1 2 3 4 5\n",
      "The sum of all elements of list ::  15\n"
     ]
    }
   ],
   "source": [
    "def sumList(arr,n):\n",
    "    sumRes = 0\n",
    "    for i in range(n):\n",
    "        sumRes += arr[i]\n",
    "        \n",
    "    return sumRes\n",
    "\n",
    "arr = list(map(int,input(\"Enter the array elements :: \").split()))\n",
    "print(\"The sum of all elements of list :: \",sumList(arr,len(arr)))"
   ]
  },
  {
   "cell_type": "code",
   "execution_count": 5,
   "metadata": {},
   "outputs": [
    {
     "name": "stdout",
     "output_type": "stream",
     "text": [
      "Enter the array elements :: 1 2 3 4 5\n",
      "The multipliation of all elements of list ::  120\n"
     ]
    }
   ],
   "source": [
    "def mulList(arr,n):\n",
    "    mulRes = 1\n",
    "    for i in range(n):\n",
    "        mulRes *= arr[i]\n",
    "        \n",
    "    return mulRes\n",
    "\n",
    "arr = list(map(int,input(\"Enter the array elements :: \").split()))\n",
    "print(\"The multipliation of all elements of list :: \",mulList(arr,len(arr)))"
   ]
  },
  {
   "cell_type": "code",
   "execution_count": 6,
   "metadata": {},
   "outputs": [
    {
     "name": "stdout",
     "output_type": "stream",
     "text": [
      "Enter the array elements :: 12 3 22 4 5 1\n",
      "The smallest among all elements of list ::  1\n"
     ]
    }
   ],
   "source": [
    "def smallest(arr,n):\n",
    "    smallestElement = arr[0]\n",
    "    for ele in arr:\n",
    "        if ele<smallestElement:\n",
    "            smallestElement = ele\n",
    "            \n",
    "    return smallestElement\n",
    "\n",
    "arr = list(map(int,input(\"Enter the array elements :: \").split()))\n",
    "print(\"The smallest among all elements of list :: \",smallest(arr,len(arr)))"
   ]
  },
  {
   "cell_type": "code",
   "execution_count": 8,
   "metadata": {},
   "outputs": [
    {
     "name": "stdout",
     "output_type": "stream",
     "text": [
      "Enter the array elements :: 12 322 443 2 223\n",
      "The largest among all elements of list ::  443\n"
     ]
    }
   ],
   "source": [
    "def largest(arr,n):\n",
    "    largestElement = arr[0]\n",
    "    for ele in arr:\n",
    "        if ele>largestElement:\n",
    "            largestElement = ele\n",
    "            \n",
    "    return largestElement\n",
    "\n",
    "arr = list(map(int,input(\"Enter the array elements :: \").split()))\n",
    "print(\"The largest among all elements of list :: \",largest(arr,len(arr)))"
   ]
  },
  {
   "cell_type": "code",
   "execution_count": 10,
   "metadata": {},
   "outputs": [
    {
     "name": "stdout",
     "output_type": "stream",
     "text": [
      "Enter the array elements :: 11 33 2 554 222\n",
      "The 2nd largest among all elements of list ::  222\n"
     ]
    }
   ],
   "source": [
    "def secondLargest(arr,n):\n",
    "    arr.sort(reverse=True)\n",
    "    return arr[1]\n",
    "\n",
    "arr = list(map(int,input(\"Enter the array elements :: \").split()))\n",
    "print(\"The 2nd largest among all elements of list :: \",secondLargest(arr,len(arr)))"
   ]
  },
  {
   "cell_type": "code",
   "execution_count": 12,
   "metadata": {},
   "outputs": [
    {
     "name": "stdout",
     "output_type": "stream",
     "text": [
      "Enter the array elements :: 12 3 43 22 56 46\n",
      "Enter the value of n :: 3\n",
      "The 3 largest among all elements of list :: [56, 46, 43] \n"
     ]
    }
   ],
   "source": [
    "def nLargest(arr,n):\n",
    "    arr.sort(reverse = True)\n",
    "    \n",
    "    if n>=0 and n<=len(arr):\n",
    "        return arr[:n]\n",
    "    \n",
    "arr = list(map(int,input(\"Enter the array elements :: \").split()))\n",
    "n = int(input(\"Enter the value of n :: \"))\n",
    "print(\"The {} largest among all elements of list :: {} \".format(n,nLargest(arr,n)))"
   ]
  },
  {
   "cell_type": "code",
   "execution_count": 13,
   "metadata": {},
   "outputs": [
    {
     "name": "stdout",
     "output_type": "stream",
     "text": [
      "Enter the array elements :: 12 3 42 33 23 56 46\n",
      "Even Numbers in the list are [12, 42, 56, 46]\n"
     ]
    }
   ],
   "source": [
    "def evenNum(arr):\n",
    "    evenList = []\n",
    "    for element in arr:\n",
    "        if element%2==0:\n",
    "            evenList.append(element)\n",
    "            \n",
    "    return evenList\n",
    "\n",
    "arr = list(map(int,input(\"Enter the array elements :: \").split()))\n",
    "\n",
    "if len(evenNum(arr))!=0:\n",
    "    print(\"Even Numbers in the list are {}\".format(evenNum(arr)))\n",
    "else:\n",
    "    print(\"Sorry no even Number are present in the list !!\")"
   ]
  },
  {
   "cell_type": "code",
   "execution_count": 14,
   "metadata": {},
   "outputs": [
    {
     "name": "stdout",
     "output_type": "stream",
     "text": [
      "Enter the array elements :: 12 3 42 33 23 56 46\n",
      "Odd Numbers in the list are [3, 33, 23]\n"
     ]
    }
   ],
   "source": [
    "def oddNum(arr):\n",
    "    oddList = []\n",
    "    for element in arr:\n",
    "        if element%2!=0:\n",
    "            oddList.append(element)\n",
    "            \n",
    "    return oddList\n",
    "\n",
    "arr = list(map(int,input(\"Enter the array elements :: \").split()))\n",
    "\n",
    "if len(oddNum(arr))!=0:\n",
    "    print(\"Odd Numbers in the list are {}\".format(oddNum(arr)))\n",
    "else:\n",
    "    print(\"Sorry no odd number are present in the list !!\")"
   ]
  },
  {
   "cell_type": "code",
   "execution_count": null,
   "metadata": {},
   "outputs": [],
   "source": [
    "mat = []\n",
    "def removeEmpty(mat,row,col):\n",
    "    for i in range(row):\n",
    "        if len(mat[i])==0:\n",
    "            mat.remove(mat[i])\n",
    "            \n",
    "    print(\"After removal of empty list new matrix is {}\".format(mat))\n",
    "row = int(input(\"Enter the row :: \"))\n",
    "col = int(input(\"Enter the column :: \"))\n",
    "mat = [[(input()) for x in range (col)] for y in range(row)]"
   ]
  },
  {
   "cell_type": "code",
   "execution_count": 1,
   "metadata": {},
   "outputs": [
    {
     "name": "stdout",
     "output_type": "stream",
     "text": [
      "Enter the array elements :: 12 32 44 2\n",
      "New array list by cloning ::  [12, 32, 44, 2]\n"
     ]
    }
   ],
   "source": [
    "arr = list(map(int,input(\"Enter the array elements :: \").split()))\n",
    "temp = arr.copy()\n",
    "print(\"New array list by cloning :: \",temp)"
   ]
  },
  {
   "cell_type": "code",
   "execution_count": 2,
   "metadata": {},
   "outputs": [
    {
     "name": "stdout",
     "output_type": "stream",
     "text": [
      "Enter the array elements :: 12 33 2 45 34 65\n",
      "Enter the value whose occurance is to be counted in above list :: 22\n",
      "Sorry no occurance is present !!\n"
     ]
    }
   ],
   "source": [
    "def countOccurance(arr,key):\n",
    "    count = 0\n",
    "    for ele in arr:\n",
    "        if key==ele:\n",
    "            count +=1\n",
    "    \n",
    "    return count\n",
    "\n",
    "arr = list(map(int,input(\"Enter the array elements :: \").split()))\n",
    "key = int(input(\"Enter the value whose occurance is to be counted in above list :: \"))\n",
    "\n",
    "if countOccurance(arr,key)!=0:\n",
    "    print(\"The occurance of {} in the present list is {}\".format(key,countOccurance(arr,key)))\n",
    "else:\n",
    "    print(\"Sorry no occurance is present !!\")"
   ]
  },
  {
   "cell_type": "code",
   "execution_count": null,
   "metadata": {},
   "outputs": [],
   "source": []
  }
 ],
 "metadata": {
  "kernelspec": {
   "display_name": "Python 3",
   "language": "python",
   "name": "python3"
  },
  "language_info": {
   "codemirror_mode": {
    "name": "ipython",
    "version": 3
   },
   "file_extension": ".py",
   "mimetype": "text/x-python",
   "name": "python",
   "nbconvert_exporter": "python",
   "pygments_lexer": "ipython3",
   "version": "3.7.6"
  }
 },
 "nbformat": 4,
 "nbformat_minor": 4
}
