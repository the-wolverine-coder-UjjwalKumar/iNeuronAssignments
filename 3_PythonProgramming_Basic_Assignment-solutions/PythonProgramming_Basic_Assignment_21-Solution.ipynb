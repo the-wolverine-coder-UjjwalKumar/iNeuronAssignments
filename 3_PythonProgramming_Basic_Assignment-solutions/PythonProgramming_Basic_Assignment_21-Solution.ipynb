{
 "cells": [
  {
   "cell_type": "markdown",
   "metadata": {},
   "source": [
    "========================================================================================================================="
   ]
  },
  {
   "cell_type": "markdown",
   "metadata": {},
   "source": [
    "<h1 align=\"center\">iNeuron-Full Stack Data Science</h1>\n",
    "<h2 align=\"center\">Python Basic</h2>\n",
    "<h3 align=\"center\">Assignment_21-Solution</h3>\n",
    "<div align=\"left\">\n",
    "    <h3 >Mentors :-</h3>\n",
    "    <h3 >Sudhanshu Kumar</h3>\n",
    "    <h3 >Krish Naik</h3>\n",
    "</div>\n",
    "\n",
    "<div align=\"right\">\n",
    "    <h3 >Submitted By :-</h3>\n",
    "    <h3 >Name :- UJJWAL KUMAR</h3>\n",
    "    <h3 >Mobile No. :- 7634900918</h3>\n",
    "    <h3 >Email :- uk9334336553@gmail.com</h3>\n",
    "</div>\n",
    "\n"
   ]
  },
  {
   "cell_type": "markdown",
   "metadata": {},
   "source": [
    "======================================================================================================================="
   ]
  },
  {
   "cell_type": "markdown",
   "metadata": {},
   "source": [
    "### Question1\n",
    "##### Write a function that takes a list and a number as arguments. Add the number to the end of the list, then remove the first element of the list. The function should then return the updated list.\n",
    "##### Examples\n",
    "##### next_in_line([5, 6, 7, 8, 9], 1) ➞ [6, 7, 8, 9, 1]\n",
    "\n",
    "##### next_in_line([7, 6, 3, 23, 17], 10) ➞ [6, 3, 23, 17, 10]\n",
    "\n",
    "##### next_in_line([1, 10, 20, 42 ], 6) ➞ [10, 20, 42, 6]\n",
    "\n",
    "##### next_in_line([], 6) ➞ \"No list has been selected\""
   ]
  },
  {
   "cell_type": "code",
   "execution_count": 2,
   "metadata": {},
   "outputs": [
    {
     "name": "stdout",
     "output_type": "stream",
     "text": [
      "5 6 7 8 9 \n",
      "1\n",
      "[6, 7, 8, 9, 1]\n"
     ]
    }
   ],
   "source": [
    "def nextInLine(inputList,num):\n",
    "    return inputList[1:]+[num]\n",
    "\n",
    "inputList = list(map(int,input().split()))\n",
    "num = int(input())\n",
    "print(nextInLine(inputList,num))"
   ]
  },
  {
   "cell_type": "markdown",
   "metadata": {},
   "source": [
    "### Question2\n",
    "##### Create the function that takes a list of dictionaries and returns the sum of people's budgets.\n",
    "##### Examples\n",
    "##### get_budgets([\n",
    "  ##### { \"name\": \"John\", \"age\": 21, \"budget\": 23000 },\n",
    "  ##### { \"name\": \"Steve\",  \"age\": 32, \"budget\": 40000 },\n",
    "  ##### { \"name\": \"Martin\",  \"age\": 16, \"budget\": 2700 }\n",
    "##### ]) ➞ 65700\n",
    "\n",
    "##### get_budgets([\n",
    "  ##### { \"name\": \"John\",  \"age\": 21, \"budget\": 29000 },\n",
    "  ##### { \"name\": \"Steve\",  \"age\": 32, \"budget\": 32000 },\n",
    "  ##### { \"name\": \"Martin\",  \"age\": 16, \"budget\": 1600 }\n",
    "##### ]) ➞ 62600\n"
   ]
  },
  {
   "cell_type": "code",
   "execution_count": 3,
   "metadata": {},
   "outputs": [
    {
     "name": "stdout",
     "output_type": "stream",
     "text": [
      "62600\n"
     ]
    }
   ],
   "source": [
    "def getBudgets(listOfDict):\n",
    "    totalBudget = 0\n",
    "    for oneDict in listOfDict:\n",
    "        totalBudget += oneDict['budget']\n",
    "    return totalBudget\n",
    "\n",
    "print(getBudgets([\n",
    "    { \"name\": \"John\", \"age\": 21, \"budget\": 29000 },\n",
    "    { \"name\": \"Steve\", \"age\": 32, \"budget\": 32000 },\n",
    "    { \"name\": \"Martin\", \"age\": 16, \"budget\": 1600 }\n",
    "    ]))"
   ]
  },
  {
   "cell_type": "markdown",
   "metadata": {},
   "source": [
    "### Question3\n",
    "##### Create a function that takes a string and returns a string with its letters in alphabetical order.\n",
    "##### Examples\n",
    "##### alphabet_soup(\"hello\") ➞ \"ehllo\"\n",
    "\n",
    "##### alphabet_soup(\"edabit\") ➞ \"abdeit\"\n",
    "\n",
    "##### alphabet_soup(\"hacker\") ➞ \"acehkr\"\n",
    "\n",
    "##### alphabet_soup(\"geek\") ➞ \"eegk\"\n",
    "\n",
    "##### alphabet_soup(\"javascript\") ➞ \"aacijprstv\""
   ]
  },
  {
   "cell_type": "code",
   "execution_count": 6,
   "metadata": {},
   "outputs": [
    {
     "name": "stdout",
     "output_type": "stream",
     "text": [
      "javascript\n",
      "aacijprstv\n"
     ]
    }
   ],
   "source": [
    "def alphabetSoup(string):\n",
    "    ans = sorted(string)\n",
    "    res = (\"\").join(ans)\n",
    "    return res\n",
    "\n",
    "print(\"{}\".format(alphabetSoup(input())))"
   ]
  },
  {
   "cell_type": "markdown",
   "metadata": {},
   "source": [
    "### Question4\n",
    "##### Suppose that you invest Rs 10,000 for 10 years at an interest rate of 6% compounded monthly. What will be the value of your investment at the end of the 10 year period?\n",
    "##### Create a function that accepts the principal p, the term in years t, the interest rate r, and the number of compounding periods per year n. The function returns the value at the end of term rounded to the nearest cent.\n",
    "##### For the example above:\n",
    "##### compound_interest(10000, 10, 0.06, 12) ➞ 18193.97\n",
    "##### Note that the interest rate is given as a decimal and n=12 because with monthly compounding there are 12 periods per year. Compounding can also be done annually, quarterly, weekly, or daily.\n",
    "\n",
    "##### Examples\n",
    "##### compound_interest(100, 1, 0.05, 1) ➞ 105.0\n",
    "\n",
    "##### compound_interest(3500, 15, 0.1, 4) ➞ 15399.26\n",
    "\n",
    "##### compound_interest(100000, 20, 0.15, 365) ➞ 2007316.26"
   ]
  },
  {
   "cell_type": "code",
   "execution_count": 7,
   "metadata": {},
   "outputs": [
    {
     "name": "stdout",
     "output_type": "stream",
     "text": [
      "10000, 10, 0.06, 12\n",
      "18193.97\n"
     ]
    }
   ],
   "source": [
    "def compoundInterest(principle,time,rate,n):\n",
    "    amount = principle*(1 + (rate/n))**(n*time)\n",
    "    return amount\n",
    "\n",
    "inputList = list(map(float,input().split(',')))\n",
    "print(\"{:.2f}\".format(compoundInterest(inputList[0],inputList[1],inputList[2],inputList[3])))"
   ]
  },
  {
   "cell_type": "markdown",
   "metadata": {},
   "source": [
    "### Question5\n",
    "##### Write a function that takes a list of elements and returns only the integers.\n",
    "##### Examples\n",
    "##### return_only_integer([9, 2, \"space\", \"car\", \"lion\", 16]) ➞ [9, 2, 16]\n",
    "\n",
    "##### return_only_integer([\"hello\", 81, \"basketball\", 123, \"fox\"]) ➞ [81, 123]\n",
    "\n",
    "##### return_only_integer([10, \"121\", 56, 20, \"car\", 3, \"lion\"]) ➞ [10, 56, 20, 3]\n",
    "\n",
    "##### return_only_integer([\"String\",  True,  3.3,  1]) ➞ [1]"
   ]
  },
  {
   "cell_type": "code",
   "execution_count": 13,
   "metadata": {},
   "outputs": [
    {
     "name": "stdout",
     "output_type": "stream",
     "text": [
      "1 2 3 a d v r 4 6\n",
      "[1, 2, 3, 4, 6]\n"
     ]
    }
   ],
   "source": [
    "def returnOnlyIntegers(inputList):\n",
    "    ans = []\n",
    "    for ele in inputList:\n",
    "        if ele.isnumeric():\n",
    "            ans.append(int(ele))\n",
    "    return ans\n",
    "\n",
    "inputList = list(map(str,input().split()))\n",
    "myRes = (returnOnlyIntegers(inputList))\n",
    "\n",
    "if len(myRes)!=0:\n",
    "    print(myRes)\n",
    "else:\n",
    "    print(\"Sorry there is no integers present in input list !!\")\n"
   ]
  },
  {
   "cell_type": "code",
   "execution_count": null,
   "metadata": {},
   "outputs": [],
   "source": []
  }
 ],
 "metadata": {
  "kernelspec": {
   "display_name": "Python 3",
   "language": "python",
   "name": "python3"
  },
  "language_info": {
   "codemirror_mode": {
    "name": "ipython",
    "version": 3
   },
   "file_extension": ".py",
   "mimetype": "text/x-python",
   "name": "python",
   "nbconvert_exporter": "python",
   "pygments_lexer": "ipython3",
   "version": "3.7.6"
  }
 },
 "nbformat": 4,
 "nbformat_minor": 4
}
