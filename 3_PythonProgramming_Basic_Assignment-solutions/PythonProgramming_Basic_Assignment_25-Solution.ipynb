{
 "cells": [
  {
   "cell_type": "markdown",
   "metadata": {},
   "source": [
    "========================================================================================================================="
   ]
  },
  {
   "cell_type": "markdown",
   "metadata": {},
   "source": [
    "<h1 align=\"center\">iNeuron-Full Stack Data Science</h1>\n",
    "<h2 align=\"center\">Python Basic</h2>\n",
    "<h3 align=\"center\">Assignment_25-Solution</h3>\n",
    "<div align=\"left\">\n",
    "    <h3 >Mentors :-</h3>\n",
    "    <h3 >Sudhanshu Kumar</h3>\n",
    "    <h3 >Krish Naik</h3>\n",
    "</div>\n",
    "\n",
    "<div align=\"right\">\n",
    "    <h3 >Submitted By :-</h3>\n",
    "    <h3 >Name :- UJJWAL KUMAR</h3>\n",
    "    <h3 >Mobile No. :- 7634900918</h3>\n",
    "    <h3 >Email :- uk9334336553@gmail.com</h3>\n",
    "</div>\n",
    "\n"
   ]
  },
  {
   "cell_type": "markdown",
   "metadata": {},
   "source": [
    "======================================================================================================================="
   ]
  },
  {
   "cell_type": "markdown",
   "metadata": {},
   "source": [
    "### Question1\n",
    "##### Create a function that takes three integer arguments (a, b, c) and returns the amount of integers which are of equal value.\n",
    "##### Examples\n",
    "##### equal(3, 4, 3) ➞ 2\n",
    "\n",
    "##### equal(1, 1, 1) ➞ 3\n",
    "\n",
    "##### equal(3, 4, 1) ➞ 0 \n",
    "##### Notes\n",
    "##### Your function must return 0, 2 or 3."
   ]
  },
  {
   "cell_type": "code",
   "execution_count": 4,
   "metadata": {},
   "outputs": [
    {
     "name": "stdout",
     "output_type": "stream",
     "text": [
      "1,2,1\n",
      "2\n"
     ]
    }
   ],
   "source": [
    "def equal(list1):\n",
    "    ans = 0\n",
    "    for ele in list1:\n",
    "        if (list1.count(ele)==2) or (list1.count(ele)== 3):\n",
    "            ans = list1.count(ele)\n",
    "            return ans\n",
    "    return ans\n",
    "    \n",
    "print(equal(list(map(int,input().split(',')))))"
   ]
  },
  {
   "cell_type": "markdown",
   "metadata": {},
   "source": [
    "### Question2\n",
    "##### Write a function that converts a dictionary into a list of keys-values tuples.\n",
    "##### Examples\n",
    "##### dict_to_list({\n",
    "  ##### \"D\": 1,\n",
    "  ##### \"B\": 2,\n",
    "  ##### \"C\": 3\n",
    "##### }) ➞ [(\"B\", 2), (\"C\", 3), (\"D\", 1)]\n",
    "\n",
    "##### dict_to_list({\n",
    "  ##### \"likes\": 2,\n",
    "  ##### \"dislikes\": 3,\n",
    "  ##### \"followers\": 10\n",
    "##### }) ➞ [(\"dislikes\", 3), (\"followers\", 10), (\"likes\", 2)]\n",
    "##### Notes\n",
    "##### Return the elements in the list in alphabetical order.\n"
   ]
  },
  {
   "cell_type": "code",
   "execution_count": 5,
   "metadata": {},
   "outputs": [
    {
     "name": "stdout",
     "output_type": "stream",
     "text": [
      "[('likes', 2), ('dislikes', 3), ('followers', 10)]\n"
     ]
    }
   ],
   "source": [
    "def dictToList(dict):\n",
    "    ans = []\n",
    "    for key,value in dict.items():\n",
    "        ans.append((key,value))\n",
    "        \n",
    "    return ans\n",
    "\n",
    "print(dictToList({\n",
    "\"likes\": 2,\n",
    "\"dislikes\": 3,\n",
    "\"followers\": 10\n",
    "}))"
   ]
  },
  {
   "cell_type": "markdown",
   "metadata": {},
   "source": [
    "### Question3\n",
    "##### Write a function that creates a dictionary with each (key, value) pair being the (lower case, upper case) versions of a letter, respectively.\n",
    "##### Examples\n",
    "##### mapping([\"p\", \"s\"]) ➞ { \"p\": \"P\", \"s\": \"S\" }\n",
    "\n",
    "##### mapping([\"a\", \"b\", \"c\"]) ➞ { \"a\": \"A\", \"b\": \"B\", \"c\": \"C\" }\n",
    "\n",
    "##### mapping([\"a\", \"v\", \"y\", \"z\"]) ➞ { \"a\": \"A\", \"v\": \"V\", \"y\": \"Y\", \"z\": \"Z\" }\n",
    "##### Notes\n",
    "##### All of the letters in the input list will always be lowercase.\n"
   ]
  },
  {
   "cell_type": "code",
   "execution_count": 7,
   "metadata": {},
   "outputs": [
    {
     "name": "stdout",
     "output_type": "stream",
     "text": [
      "{'p': 'P', 's': 'S'}\n"
     ]
    }
   ],
   "source": [
    "def mapping(list):\n",
    "    d = dict()\n",
    "    for ele in list:\n",
    "        d[ele] = chr(ord(ele)-32)\n",
    "        \n",
    "    return d\n",
    "\n",
    "print(mapping(['p','s']))"
   ]
  },
  {
   "cell_type": "markdown",
   "metadata": {},
   "source": [
    "### Question4\n",
    "##### Write a function, that replaces all vowels in a string with a specified vowel.\n",
    "##### Examples\n",
    "##### vow_replace(\"apples and bananas\", \"u\") ➞ \"upplus und bununus\"\n",
    "\n",
    "##### vow_replace(\"cheese casserole\", \"o\") ➞ \"chooso cossorolo\"\n",
    "\n",
    "##### vow_replace(\"stuffed jalapeno poppers\", \"e\") ➞ \"steffed jelepene peppers\"\n",
    "##### Notes\n",
    "##### All words will be lowercase. Y is not considered a vowel.\n"
   ]
  },
  {
   "cell_type": "code",
   "execution_count": 8,
   "metadata": {},
   "outputs": [
    {
     "name": "stdout",
     "output_type": "stream",
     "text": [
      "upplus und bununus\n"
     ]
    }
   ],
   "source": [
    "def vowReplace(string,char):\n",
    "    ans = \"\"\n",
    "    for ele in string:\n",
    "        if ele=='a' or ele=='e' or ele=='i' or ele=='o' or ele=='u':\n",
    "            ans += char\n",
    "        else:\n",
    "            ans += ele\n",
    "    return ans\n",
    "\n",
    "print(vowReplace(\"apples and bananas\",'u'))\n",
    "            "
   ]
  },
  {
   "cell_type": "markdown",
   "metadata": {},
   "source": [
    "### Question5\n",
    "##### Create a function that takes a string as input and capitalizes a letter if its ASCII code is even and returns its lower case version if its ASCII code is odd.\n",
    "##### Examples\n",
    "##### ascii_capitalize(\"to be or not to be!\") ➞ \"To Be oR NoT To Be!\"\n",
    "\n",
    "##### ascii_capitalize(\"THE LITTLE MERMAID\") ➞ \"THe LiTTLe meRmaiD\"\n",
    "\n",
    "##### ascii_capitalize(\"Oh what a beautiful morning.\") ➞ \"oH wHaT a BeauTiFuL moRNiNg.\""
   ]
  },
  {
   "cell_type": "code",
   "execution_count": 11,
   "metadata": {},
   "outputs": [
    {
     "name": "stdout",
     "output_type": "stream",
     "text": [
      "THe LiTTLe meRmaiD\n"
     ]
    }
   ],
   "source": [
    "def acsiiCapitalize(string):\n",
    "    ans = ''\n",
    "    for ele in string:\n",
    "        if ele!=\" \" and ord(ele)%2==0:\n",
    "            if ord(ele)>=97 and ord(ele)<=122:\n",
    "                ans += chr(ord(ele)-32)\n",
    "            else:\n",
    "                ans += chr(ord(ele))\n",
    "        elif ele!=\" \" and ord(ele)%2!=0:\n",
    "            if ord(ele)>=65 and ord(ele)<=90:\n",
    "                ans += chr(ord(ele)+32)\n",
    "            else:\n",
    "                ans += chr(ord(ele))\n",
    "        elif ele == \" \":\n",
    "            ans += \" \"\n",
    "            \n",
    "    return ans\n",
    "\n",
    "print(acsiiCapitalize(\"THE LITTLE MERMAID\"))"
   ]
  },
  {
   "cell_type": "code",
   "execution_count": null,
   "metadata": {},
   "outputs": [],
   "source": []
  }
 ],
 "metadata": {
  "kernelspec": {
   "display_name": "Python 3",
   "language": "python",
   "name": "python3"
  },
  "language_info": {
   "codemirror_mode": {
    "name": "ipython",
    "version": 3
   },
   "file_extension": ".py",
   "mimetype": "text/x-python",
   "name": "python",
   "nbconvert_exporter": "python",
   "pygments_lexer": "ipython3",
   "version": "3.7.6"
  }
 },
 "nbformat": 4,
 "nbformat_minor": 4
}
