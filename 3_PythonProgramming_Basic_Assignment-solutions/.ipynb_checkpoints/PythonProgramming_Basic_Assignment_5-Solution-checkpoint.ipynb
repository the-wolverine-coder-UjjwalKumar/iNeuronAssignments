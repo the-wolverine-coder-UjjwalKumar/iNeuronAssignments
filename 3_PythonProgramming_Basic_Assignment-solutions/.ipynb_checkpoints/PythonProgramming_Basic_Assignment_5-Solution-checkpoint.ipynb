{
 "cells": [
  {
   "cell_type": "markdown",
   "metadata": {},
   "source": [
    "========================================================================================================================="
   ]
  },
  {
   "cell_type": "markdown",
   "metadata": {},
   "source": [
    "<h1 align=\"center\">iNeuron-Full Stack Data Science</h1>\n",
    "<h2 align=\"center\">Python Basic</h2>\n",
    "<h3 align=\"center\">Assignment_5-Solution</h3>\n",
    "<div align=\"left\">\n",
    "    <h3 >Mentors :-</h3>\n",
    "    <h3 >Sudhanshu Kumar</h3>\n",
    "    <h3 >Krish Naik</h3>\n",
    "</div>\n",
    "\n",
    "<div align=\"right\">\n",
    "    <h3 >Submitted By :-</h3>\n",
    "    <h3 >Name :- UJJWAL KUMAR</h3>\n",
    "    <h3 >Mobile No. :- 7634900918</h3>\n",
    "    <h3 >Email :- uk9334336553@gmail.com</h3>\n",
    "</div>\n",
    "\n"
   ]
  },
  {
   "cell_type": "markdown",
   "metadata": {},
   "source": [
    "======================================================================================================================="
   ]
  },
  {
   "cell_type": "markdown",
   "metadata": {},
   "source": [
    "### 1. Write a Python Program to Find LCM?\n",
    "### 2. Write a Python Program to Find HCF?\n",
    "### 3. Write a Python Program to Convert Decimal to Binary, Octal and Hexadecimal?\n",
    "### 4. Write a Python Program To Find ASCII value of a character?\n",
    "### 5. Write a Python Program to Make a Simple Calculator with 4 basic mathematical operations?"
   ]
  },
  {
   "cell_type": "code",
   "execution_count": 2,
   "metadata": {},
   "outputs": [
    {
     "name": "stdout",
     "output_type": "stream",
     "text": [
      "Enter num 1 :: 13\n",
      "Enter num 2 :: 2\n",
      "LCM of 13 and 2 is 26.000\n"
     ]
    }
   ],
   "source": [
    "def gcd(a, b):\n",
    "    if a == 0 :\n",
    "        return b\n",
    "     \n",
    "    return gcd(b%a, a)\n",
    "\n",
    "def findLCM(num1,num2):\n",
    "    hcf  = gcd(num1,num2)\n",
    "    \n",
    "    lcm = (num1*num2)/hcf\n",
    "    \n",
    "    print(\"LCM of {} and {} is {:.3f}\".format(num1,num2,lcm))\n",
    "    \n",
    "num1 = int(input(\"Enter num 1 :: \"))\n",
    "num2 = int(input(\"Enter num 2 :: \"))\n",
    "findLCM(num1,num2)"
   ]
  },
  {
   "cell_type": "code",
   "execution_count": 5,
   "metadata": {},
   "outputs": [
    {
     "name": "stdout",
     "output_type": "stream",
     "text": [
      "Enter num 1 :: 13\n",
      "Enter num 2 :: 5\n",
      "HCF of 13 and 5 is 1\n"
     ]
    }
   ],
   "source": [
    "def gcd(a, b):\n",
    "    if a == 0 :\n",
    "        return b\n",
    "     \n",
    "    return gcd(b%a, a)\n",
    "\n",
    "num1 = int(input(\"Enter num 1 :: \"))\n",
    "num2 = int(input(\"Enter num 2 :: \"))\n",
    "print(\"HCF of {} and {} is {}\".format(num1,num2,gcd(num1,num2)))"
   ]
  },
  {
   "cell_type": "code",
   "execution_count": 7,
   "metadata": {},
   "outputs": [
    {
     "name": "stdout",
     "output_type": "stream",
     "text": [
      "Enter the decimal input :: 38\n",
      "The Binary equivalent of 38 is 100110\n",
      "The Octal equivalent of 38 is 46\n",
      "The HexaDecimal equivalent of 38 is 26\n"
     ]
    }
   ],
   "source": [
    "def convDecimal(num):\n",
    "    print(\"The Binary equivalent of {} is {}\".format(num,bin(num)[2:]))\n",
    "    print(\"The Octal equivalent of {} is {}\".format(num,oct(num)[2:]))\n",
    "    print(\"The HexaDecimal equivalent of {} is {}\".format(num,hex(num)[2:]))\n",
    "    \n",
    "num = int(input(\"Enter the decimal input :: \"))\n",
    "convDecimal(num)"
   ]
  },
  {
   "cell_type": "code",
   "execution_count": 9,
   "metadata": {},
   "outputs": [
    {
     "name": "stdout",
     "output_type": "stream",
     "text": [
      "Ente the character :: A\n",
      "ASCII value of A is 65\n"
     ]
    }
   ],
   "source": [
    "def printASCII(char):\n",
    "    print(\"ASCII value of {} is {}\".format(char,ord(char)))\n",
    "    \n",
    "char = input(\"Ente the character :: \")\n",
    "printASCII(char)"
   ]
  },
  {
   "cell_type": "code",
   "execution_count": 11,
   "metadata": {},
   "outputs": [
    {
     "name": "stdout",
     "output_type": "stream",
     "text": [
      "Enter number 1 :: 12\n",
      "ENter number 2 :: 45\n",
      "Enter add for addtion, sub for substraction, mul for multiplication, div for division :: add\n",
      "The addition value of 12.0 and 45.0 is 57.0\n"
     ]
    }
   ],
   "source": [
    "def calculator(num1,num2,operation):\n",
    "    if operation==\"add\":\n",
    "        print(\"The addition value of {} and {} is {}\".format(num1,num2,num1+num2))\n",
    "    elif operation==\"sub\":\n",
    "        print(\"The substraction value of {} and {} is {}\".format(num1,num2,num1-num2))\n",
    "    elif operation==\"mul\":\n",
    "        print(\"The multiplication value of {} and {} is {}\".format(num1,num2,num1*num2))\n",
    "    elif operation==\"div\":\n",
    "        print(\"The division value of {} and {} is {}\".format(num1,num2,num1/num2))\n",
    "    else:\n",
    "        print(\"Please enter a valid operation !!\")\n",
    "        \n",
    "num1 = float(input(\"Enter number 1 :: \"))\n",
    "num2 = float(input(\"ENter number 2 :: \"))\n",
    "operation = input(\"Enter add for addtion, sub for substraction, mul for multiplication, div for division :: \")\n",
    "\n",
    "\n",
    "calculator(num1,num2,operation)"
   ]
  },
  {
   "cell_type": "code",
   "execution_count": null,
   "metadata": {},
   "outputs": [],
   "source": []
  }
 ],
 "metadata": {
  "kernelspec": {
   "display_name": "Python 3",
   "language": "python",
   "name": "python3"
  },
  "language_info": {
   "codemirror_mode": {
    "name": "ipython",
    "version": 3
   },
   "file_extension": ".py",
   "mimetype": "text/x-python",
   "name": "python",
   "nbconvert_exporter": "python",
   "pygments_lexer": "ipython3",
   "version": "3.7.6"
  }
 },
 "nbformat": 4,
 "nbformat_minor": 4
}
