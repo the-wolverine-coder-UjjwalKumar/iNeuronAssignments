{
 "cells": [
  {
   "cell_type": "markdown",
   "metadata": {},
   "source": [
    "========================================================================================================================="
   ]
  },
  {
   "cell_type": "markdown",
   "metadata": {},
   "source": [
    "<h1 align=\"center\">iNeuron-Full Stack Data Science</h1>\n",
    "<h2 align=\"center\">Python Basic</h2>\n",
    "<h3 align=\"center\">Assignment_13-Solution</h3>\n",
    "<div align=\"left\">\n",
    "    <h3 >Mentors :-</h3>\n",
    "    <h3 >Sudhanshu Kumar</h3>\n",
    "    <h3 >Krish Naik</h3>\n",
    "</div>\n",
    "\n",
    "<div align=\"right\">\n",
    "    <h3 >Submitted By :-</h3>\n",
    "    <h3 >Name :- UJJWAL KUMAR</h3>\n",
    "    <h3 >Mobile No. :- 7634900918</h3>\n",
    "    <h3 >Email :- uk9334336553@gmail.com</h3>\n",
    "</div>\n",
    "\n"
   ]
  },
  {
   "cell_type": "markdown",
   "metadata": {},
   "source": [
    "======================================================================================================================="
   ]
  },
  {
   "cell_type": "markdown",
   "metadata": {},
   "source": [
    "### Question 1:\n",
    "##### Write a program that calculates and prints the value according to the given formula:\n",
    "##### Q = Square root of [(2 * C * D)/H]\n",
    "##### Following are the fixed values of C and H:\n",
    "##### C is 50. H is 30.\n",
    "##### D is the variable whose values should be input to your program in a comma-separated sequence.\n",
    "\n",
    "##### Example\n",
    "##### Let us assume the following comma separated input sequence is given to the program:\n",
    "##### 100,150,180\n",
    "##### The output of the program should be:\n",
    "##### 18,22,24\n"
   ]
  },
  {
   "cell_type": "code",
   "execution_count": 5,
   "metadata": {},
   "outputs": [
    {
     "name": "stdout",
     "output_type": "stream",
     "text": [
      "Enter some values with comma separated :: \n",
      "100,150,180\n",
      "18,22,24\n"
     ]
    }
   ],
   "source": [
    "import math\n",
    "def calC(D):\n",
    "    ans = []\n",
    "    C = 50\n",
    "    H = 30\n",
    "    for d in D:\n",
    "        temp = math.sqrt((2 * C * d)/H)\n",
    "        ans.append(int(temp))\n",
    "        \n",
    "    return ans\n",
    "\n",
    "print(\"Enter some values with comma separated :: \")\n",
    "D = list(map(int,input().split(\",\")))\n",
    "res = calC(D)\n",
    "for i in range(len(res)):\n",
    "    if i+1==len(res):\n",
    "        print(res[i])\n",
    "    else:\n",
    "        print(res[i],end=\",\")"
   ]
  },
  {
   "cell_type": "markdown",
   "metadata": {},
   "source": [
    "### Question 2:\n",
    "##### Write a program which takes 2 digits, X,Y as input and generates a 2-dimensional array.\n",
    "##### The element value in the i-th row and j-th column of the array should be i*j.\n",
    "##### Note: i=0,1.., X-1; j=0,1,¡Y-1.\n",
    "\n",
    "##### Example\n",
    "##### Suppose the following inputs are given to the program:\n",
    "##### 3,5\n",
    "##### Then, the output of the program should be:\n",
    "##### [[0, 0, 0, 0, 0], [0, 1, 2, 3, 4], [0, 2, 4, 6, 8]] "
   ]
  },
  {
   "cell_type": "code",
   "execution_count": 7,
   "metadata": {},
   "outputs": [
    {
     "name": "stdout",
     "output_type": "stream",
     "text": [
      "3,5\n",
      "[[0, 0, 0, 0, 0], [0, 1, 2, 3, 4], [0, 2, 4, 6, 8]]\n"
     ]
    }
   ],
   "source": [
    "inp = list(map(int,input().split(\",\")))\n",
    "x,y = inp[0],inp[1]\n",
    "\n",
    "res = []\n",
    "for i in range(x):\n",
    "    temp = []\n",
    "    for j in range(y):\n",
    "        temp.append((i*j))\n",
    "    res.append(temp)\n",
    "    \n",
    "print(res)"
   ]
  },
  {
   "cell_type": "markdown",
   "metadata": {},
   "source": [
    "### Question 3:\n",
    "##### Write a program that accepts a comma separated sequence of words as input and prints the words in a \n",
    "##### comma-separated sequence after sorting them alphabetically.\n",
    "\n",
    "##### Suppose the following input is supplied to the program:\n",
    "##### without,hello,bag,world\n",
    "\n",
    "##### Then, the output should be:\n",
    "##### bag,hello,without,world"
   ]
  },
  {
   "cell_type": "code",
   "execution_count": 11,
   "metadata": {},
   "outputs": [
    {
     "name": "stdout",
     "output_type": "stream",
     "text": [
      "without,hello,bag,world\n",
      "bag,hello,without,world\n"
     ]
    }
   ],
   "source": [
    "inputWords = list(map(str,input().split(\",\")))\n",
    "\n",
    "temp = sorted(inputWords)\n",
    "for i in range(len(temp)):\n",
    "    if i+1!=len(temp):\n",
    "        print(temp[i],end=\",\")\n",
    "    else:\n",
    "        print(temp[i])    "
   ]
  },
  {
   "cell_type": "markdown",
   "metadata": {},
   "source": [
    "### Question 4:\n",
    "##### Write a program that accepts a sequence of whitespace separated words as input and prints the words\n",
    "##### after removing all duplicate words and sorting them alphanumerically.\n",
    "\n",
    "##### Suppose the following input is supplied to the program:\n",
    "##### hello world and practice makes perfect and hello world again\n",
    "##### Then, the output should be:\n",
    "##### again and hello makes perfect practice world"
   ]
  },
  {
   "cell_type": "code",
   "execution_count": 18,
   "metadata": {},
   "outputs": [
    {
     "name": "stdout",
     "output_type": "stream",
     "text": [
      "hello world and practice makes perfect and hello world again\n",
      "again and hello makes perfect practice world\n"
     ]
    }
   ],
   "source": [
    "inputWords = list(input().split())\n",
    "temp = list(set(inputWords))\n",
    "ans = sorted(temp)\n",
    "for i in range(len(ans)):\n",
    "    if i+1!=len(ans):\n",
    "        print(ans[i],end=\" \")\n",
    "    else:\n",
    "        print(ans[i])"
   ]
  },
  {
   "cell_type": "markdown",
   "metadata": {},
   "source": [
    "### Question 5:\n",
    "##### Write a program that accepts a sentence and calculate the number of letters and digits.\n",
    "\n",
    "##### Suppose the following input is supplied to the program:\n",
    "##### hello world! 123\n",
    "\n",
    "##### Then, the output should be:\n",
    "##### LETTERS 10\n",
    "##### DIGITS 3"
   ]
  },
  {
   "cell_type": "code",
   "execution_count": 19,
   "metadata": {},
   "outputs": [
    {
     "name": "stdout",
     "output_type": "stream",
     "text": [
      "hello world! 123\n",
      "LETTERS 10\n",
      "DIGITS 3\n"
     ]
    }
   ],
   "source": [
    "string = input()\n",
    "letterCount = 0\n",
    "digitCount = 0\n",
    "\n",
    "for char in string:\n",
    "    if ord(char)>=65 and ord(char)<=90 or ord(char)>=97 and ord(char)<=122:\n",
    "        letterCount+=1\n",
    "    elif ord(char)>=48 and ord(char)<=57:\n",
    "        digitCount+=1\n",
    "    else:\n",
    "        continue\n",
    "        \n",
    "print(\"LETTERS {}\".format(letterCount))\n",
    "print(\"DIGITS {}\".format(digitCount))"
   ]
  },
  {
   "cell_type": "markdown",
   "metadata": {},
   "source": [
    "### Question 6:\n",
    "##### A website requires the users to input username and password to register.\n",
    "##### Write a program to check the validity of password input by users.\n",
    "\n",
    "##### Following are the criteria for checking the password:\n",
    "\n",
    "##### 1. At least 1 letter between [a-z]\n",
    "##### 2. At least 1 number between [0-9]\n",
    "##### 3. At least 1 letter between [A-Z]\n",
    "##### 4. At least 1 character from [$#@]\n",
    "##### 5. Minimum length of transaction password: 6\n",
    "##### 6. Maximum length of transaction password: 12\n"
   ]
  },
  {
   "cell_type": "code",
   "execution_count": 21,
   "metadata": {},
   "outputs": [
    {
     "name": "stdout",
     "output_type": "stream",
     "text": [
      "Enter password :: Hello@123\n",
      "Passwrod is in correct format !!\n"
     ]
    }
   ],
   "source": [
    "def validPassword(password):\n",
    "    if len(password)>=6 and len(password)<=12:\n",
    "        smallLetterCount = 0\n",
    "        capitalLetterCount = 0\n",
    "        digitCount = 0\n",
    "        specialCharacterCount = 0\n",
    "        for char in password:\n",
    "            if ord(char)>=65 and ord(char)<=90:\n",
    "                capitalLetterCount+=1                \n",
    "            elif ord(char)>=97 and ord(char)<=122:\n",
    "                smallLetterCount+=1\n",
    "            elif ord(char)>=48 and ord(char)<=57:\n",
    "                digitCount+=1\n",
    "            elif char in ['$','#','@']:\n",
    "                specialCharacterCount+=1\n",
    "        if smallLetterCount>=1 and capitalLetterCount>=1 and digitCount>=1 and specialCharacterCount>=1:\n",
    "            print(\"Passwrod is in correct format !!\")\n",
    "        else:\n",
    "            print(\"Password is not satisfying the format. Please try again !!\")    \n",
    "    else:\n",
    "        print(\"Passwrod invalid Minimum length is 6 and Maximum length is 12\")\n",
    "        \n",
    "password = input(\"Enter password :: \")\n",
    "validPassword(password)"
   ]
  },
  {
   "cell_type": "markdown",
   "metadata": {},
   "source": [
    "### Question 7:\n",
    "##### Your program should accept a sequence of comma separated passwords and \n",
    "##### will check them according to the above criteria. Passwords that match the criteria are to be printed, \n",
    "##### each separated by a comma.\n",
    "\n",
    "##### Example\n",
    "##### If the following passwords are given as input to the program:\n",
    "##### ABd1234@1,a F1#,2w3E*,2We3345\n",
    "##### Then, the output of the program should be:\n",
    "##### ABd1234@1"
   ]
  },
  {
   "cell_type": "code",
   "execution_count": 23,
   "metadata": {},
   "outputs": [
    {
     "name": "stdout",
     "output_type": "stream",
     "text": [
      "ABd1234@1,a F1#,2w3E*,2We3345\n",
      "ABd1234@1,"
     ]
    }
   ],
   "source": [
    "def isValidPassword(password):\n",
    "    if len(password)>=6 and len(password)<=12:\n",
    "        smallLetterCount = 0\n",
    "        capitalLetterCount = 0\n",
    "        digitCount = 0\n",
    "        specialCharacterCount = 0\n",
    "        for char in password:\n",
    "            if ord(char)>=65 and ord(char)<=90:\n",
    "                capitalLetterCount+=1                \n",
    "            elif ord(char)>=97 and ord(char)<=122:\n",
    "                smallLetterCount+=1\n",
    "            elif ord(char)>=48 and ord(char)<=57:\n",
    "                digitCount+=1\n",
    "            elif char in ['$','#','@']:\n",
    "                specialCharacterCount+=1\n",
    "        if smallLetterCount>=1 and capitalLetterCount>=1 and digitCount>=1 and specialCharacterCount>=1:\n",
    "            return True\n",
    "        else:\n",
    "            return False  \n",
    "    else:\n",
    "        return False\n",
    "\n",
    "        \n",
    "passwordL = list(map(str,input().split(\",\")))\n",
    "for password in passwordL:\n",
    "    if isValidPassword(password):\n",
    "        print(password,end = \",\")\n"
   ]
  },
  {
   "cell_type": "code",
   "execution_count": null,
   "metadata": {},
   "outputs": [],
   "source": []
  }
 ],
 "metadata": {
  "kernelspec": {
   "display_name": "Python 3",
   "language": "python",
   "name": "python3"
  },
  "language_info": {
   "codemirror_mode": {
    "name": "ipython",
    "version": 3
   },
   "file_extension": ".py",
   "mimetype": "text/x-python",
   "name": "python",
   "nbconvert_exporter": "python",
   "pygments_lexer": "ipython3",
   "version": "3.7.6"
  }
 },
 "nbformat": 4,
 "nbformat_minor": 4
}
