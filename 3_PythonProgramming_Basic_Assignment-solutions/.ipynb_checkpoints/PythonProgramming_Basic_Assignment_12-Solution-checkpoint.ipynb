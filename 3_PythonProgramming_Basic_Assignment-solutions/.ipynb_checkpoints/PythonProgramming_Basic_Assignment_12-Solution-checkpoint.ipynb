{
 "cells": [
  {
   "cell_type": "markdown",
   "metadata": {},
   "source": [
    "========================================================================================================================="
   ]
  },
  {
   "cell_type": "markdown",
   "metadata": {},
   "source": [
    "<h1 align=\"center\">iNeuron-Full Stack Data Science</h1>\n",
    "<h2 align=\"center\">Python Basic</h2>\n",
    "<h3 align=\"center\">Assignment_12-Solution</h3>\n",
    "<div align=\"left\">\n",
    "    <h3 >Mentors :-</h3>\n",
    "    <h3 >Sudhanshu Kumar</h3>\n",
    "    <h3 >Krish Naik</h3>\n",
    "</div>\n",
    "\n",
    "<div align=\"right\">\n",
    "    <h3 >Submitted By :-</h3>\n",
    "    <h3 >Name :- UJJWAL KUMAR</h3>\n",
    "    <h3 >Mobile No. :- 7634900918</h3>\n",
    "    <h3 >Email :- uk9334336553@gmail.com</h3>\n",
    "</div>\n",
    "\n"
   ]
  },
  {
   "cell_type": "markdown",
   "metadata": {},
   "source": [
    "======================================================================================================================="
   ]
  },
  {
   "cell_type": "markdown",
   "metadata": {},
   "source": [
    "#### 1. Write a Python program to Extract Unique values dictionary values?\n",
    "#### 2. Write a Python program to find the sum of all items in a dictionary?\n",
    "#### 3. Write a Python program to Merging two Dictionaries?\n",
    "#### 4. Write a Python program to convert key-values list to flat dictionary?\n",
    "#### 5. Write a Python program to insertion at the beginning in OrderedDict?\n",
    "#### 6. Write a Python program to check order of character in string using OrderedDict()?\n",
    "#### 7. Write a Python program to sort Python Dictionaries by Key or Value?"
   ]
  },
  {
   "cell_type": "code",
   "execution_count": 1,
   "metadata": {},
   "outputs": [
    {
     "name": "stdout",
     "output_type": "stream",
     "text": [
      "Given Dictionary ::  {'a': 10, 'b': 20, 'c': 30, 'd': 40, 'e': 10, 'f': 20}\n",
      "Unique values from the given dictionary  ::  {40, 10, 20, 30}\n"
     ]
    }
   ],
   "source": [
    "givenDict = {'a':10,'b':20,'c':30,'d':40,'e':10,'f':20}\n",
    "\n",
    "valuesSet = set()\n",
    "for key,values in givenDict.items():\n",
    "    valuesSet.add(values)\n",
    "    \n",
    "print(\"Given Dictionary :: \",givenDict)\n",
    "print(\"Unique values from the given dictionary  :: \",valuesSet)"
   ]
  },
  {
   "cell_type": "code",
   "execution_count": 3,
   "metadata": {},
   "outputs": [
    {
     "name": "stdout",
     "output_type": "stream",
     "text": [
      "Given Dictionary ::  {'a': 10, 'b': 20, 'c': 30, 'd': 40, 'e': 10, 'f': 20}\n",
      "Sumation value of the given dictionary  ::  130\n"
     ]
    }
   ],
   "source": [
    "givenDict = {'a':10,'b':20,'c':30,'d':40,'e':10,'f':20}\n",
    "\n",
    "valuesSum = 0\n",
    "for key,values in givenDict.items():\n",
    "    valuesSum += values\n",
    "    \n",
    "print(\"Given Dictionary :: \",givenDict)\n",
    "print(\"Sumation value of the given dictionary  :: \",valuesSum)"
   ]
  },
  {
   "cell_type": "code",
   "execution_count": 6,
   "metadata": {},
   "outputs": [
    {
     "name": "stdout",
     "output_type": "stream",
     "text": [
      "Given Dictionary 1 ::  {'a': 10, 'b': 20, 'c': 30, 'd': 40, 'e': 10, 'f': 20}\n",
      "Given Dictionary 2 ::  {'g': 0, 'h': 12}\n",
      "Resultant Dictionary ::  {'a': 10, 'b': 20, 'c': 30, 'd': 40, 'e': 10, 'f': 20, 'g': 0, 'h': 12}\n"
     ]
    }
   ],
   "source": [
    "givenDict1 = {'a':10,'b':20,'c':30,'d':40,'e':10,'f':20}\n",
    "givenDict2 = {'g':0,'h':12}\n",
    "\n",
    "resultDict = {}\n",
    "for key,value in givenDict1.items():\n",
    "    if key not in resultDict:\n",
    "        resultDict[key] = value\n",
    "        \n",
    "for key,value in givenDict2.items():\n",
    "    if key not in resultDict:\n",
    "        resultDict[key] = value\n",
    "print(\"Given Dictionary 1 :: \",givenDict1)\n",
    "print(\"Given Dictionary 2 :: \",givenDict2)\n",
    "\n",
    "\n",
    "print(\"Resultant Dictionary :: \",resultDict)"
   ]
  },
  {
   "cell_type": "code",
   "execution_count": 7,
   "metadata": {},
   "outputs": [
    {
     "name": "stdout",
     "output_type": "stream",
     "text": [
      "Given Keys List ::  ['a', 'b', 'c']\n",
      "Given Values List ::  [10, 20, 30]\n",
      "Obtained flat dictionary from given List ::  {'a': 10, 'b': 20, 'c': 30}\n"
     ]
    }
   ],
   "source": [
    "keys = ['a','b','c']\n",
    "values = [10,20,30]\n",
    "\n",
    "resultDict = dict()\n",
    "if len(keys)!=len(values):\n",
    "    print(\"Sorry dictionary can't formed due to inappropriate size of keys and values list !!\")\n",
    "else:\n",
    "    for k in range(len(keys)):\n",
    "        if keys[k] not in resultDict:\n",
    "            resultDict[keys[k]] = values[k]\n",
    "            \n",
    "    print(\"Given Keys List :: \",keys)\n",
    "    print(\"Given Values List :: \",values)\n",
    "    print(\"Obtained flat dictionary from given List :: \",resultDict)"
   ]
  },
  {
   "cell_type": "code",
   "execution_count": 9,
   "metadata": {},
   "outputs": [
    {
     "name": "stdout",
     "output_type": "stream",
     "text": [
      "Given Key+Value List ::  [{'a': 10, 'b': 20, 'c': 30}]\n",
      "Obtained flat dictionary from given List ::  {'a': 10, 'b': 20, 'c': 30}\n"
     ]
    }
   ],
   "source": [
    "valueKeyList = [{'a': 10, 'b': 20, 'c': 30}]\n",
    "\n",
    "resultDict = dict()\n",
    "\n",
    "for k in (valueKeyList):\n",
    "    resultDict.update(k)\n",
    "    \n",
    "\n",
    "print(\"Given Key+Value List :: \",valueKeyList)\n",
    "\n",
    "print(\"Obtained flat dictionary from given List :: \",resultDict)"
   ]
  },
  {
   "cell_type": "code",
   "execution_count": 13,
   "metadata": {},
   "outputs": [
    {
     "name": "stdout",
     "output_type": "stream",
     "text": [
      "Resultant Dictionary : OrderedDict([('c', 30), ('a', 10), ('b', 20)])\n"
     ]
    }
   ],
   "source": [
    "from collections import OrderedDict\n",
    "\n",
    "initalDict = OrderedDict([('a',10),('b',20)])\n",
    "\n",
    "initalDict.update({'c':30})\n",
    "initalDict.move_to_end('c', last = False)\n",
    "\n",
    "# print result\n",
    "print (\"Resultant Dictionary : \"+str(initalDict))\n"
   ]
  },
  {
   "cell_type": "code",
   "execution_count": 14,
   "metadata": {},
   "outputs": [
    {
     "name": "stdout",
     "output_type": "stream",
     "text": [
      "true\n"
     ]
    }
   ],
   "source": [
    "from collections import OrderedDict\n",
    "\n",
    "def checkOrder(input, pattern):\n",
    "\n",
    "    dict = OrderedDict.fromkeys(input)\n",
    "    ptrlen = 0\n",
    "    for key,value in dict.items():\n",
    "        if (key == pattern[ptrlen]):\n",
    "            ptrlen = ptrlen + 1\n",
    "\n",
    "        # check if we have traverse complete\n",
    "        # pattern string\n",
    "        if (ptrlen == (len(pattern))):\n",
    "            return 'true'\n",
    "\n",
    "    return 'false'\n",
    "\n",
    "\n",
    "input = 'engineers rock'\n",
    "pattern = 'egr'\n",
    "print (checkOrder(input,pattern))"
   ]
  },
  {
   "cell_type": "code",
   "execution_count": 18,
   "metadata": {},
   "outputs": [
    {
     "name": "stdout",
     "output_type": "stream",
     "text": [
      "Soritng based upon key ::  [('apple', 4), ('banana', 3), ('orange', 2), ('pear', 1)]\n",
      "Soritng based upon values ::  [('pear', 1), ('orange', 2), ('banana', 3), ('apple', 4)]\n"
     ]
    }
   ],
   "source": [
    "d = {'banana': 3, 'apple':4, 'pear': 1, 'orange': 2}\n",
    "print(\"Soritng based upon key :: \",sorted(d.items()))\n",
    "print(\"Soritng based upon values :: \",sorted(d.items(), key = lambda x:x[1]))\n"
   ]
  },
  {
   "cell_type": "code",
   "execution_count": null,
   "metadata": {},
   "outputs": [],
   "source": []
  }
 ],
 "metadata": {
  "kernelspec": {
   "display_name": "Python 3",
   "language": "python",
   "name": "python3"
  },
  "language_info": {
   "codemirror_mode": {
    "name": "ipython",
    "version": 3
   },
   "file_extension": ".py",
   "mimetype": "text/x-python",
   "name": "python",
   "nbconvert_exporter": "python",
   "pygments_lexer": "ipython3",
   "version": "3.7.6"
  }
 },
 "nbformat": 4,
 "nbformat_minor": 4
}
