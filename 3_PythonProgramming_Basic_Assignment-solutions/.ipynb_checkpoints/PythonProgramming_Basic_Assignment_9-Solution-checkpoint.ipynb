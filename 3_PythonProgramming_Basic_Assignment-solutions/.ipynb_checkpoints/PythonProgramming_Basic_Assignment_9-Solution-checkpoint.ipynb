{
 "cells": [
  {
   "cell_type": "markdown",
   "metadata": {},
   "source": [
    "========================================================================================================================="
   ]
  },
  {
   "cell_type": "markdown",
   "metadata": {},
   "source": [
    "<h1 align=\"center\">iNeuron-Full Stack Data Science</h1>\n",
    "<h2 align=\"center\">Python Basic</h2>\n",
    "<h3 align=\"center\">Assignment_9-Solution</h3>\n",
    "<div align=\"left\">\n",
    "    <h3 >Mentors :-</h3>\n",
    "    <h3 >Sudhanshu Kumar</h3>\n",
    "    <h3 >Krish Naik</h3>\n",
    "</div>\n",
    "\n",
    "<div align=\"right\">\n",
    "    <h3 >Submitted By :-</h3>\n",
    "    <h3 >Name :- UJJWAL KUMAR</h3>\n",
    "    <h3 >Mobile No. :- 7634900918</h3>\n",
    "    <h3 >Email :- uk9334336553@gmail.com</h3>\n",
    "</div>\n",
    "\n"
   ]
  },
  {
   "cell_type": "markdown",
   "metadata": {},
   "source": [
    "======================================================================================================================="
   ]
  },
  {
   "cell_type": "markdown",
   "metadata": {},
   "source": [
    "### 1. Write a Python program to check if the given number is a Disarium Number?\n",
    "### 2. Write a Python program to print all disarium numbers between 1 to 100?\n",
    "### 3. Write a Python program to check if the given number is Happy Number?\n",
    "### 4. Write a Python program to print all happy numbers between 1 and 100?\n",
    "### 5. Write a Python program to determine whether the given number is a Harshad Number?\n",
    "### 6. Write a Python program to print all pronic numbers between 1 and 100?"
   ]
  },
  {
   "cell_type": "code",
   "execution_count": 2,
   "metadata": {},
   "outputs": [
    {
     "name": "stdout",
     "output_type": "stream",
     "text": [
      "Enter the number to be checked as Disarium Number :: 175\n",
      "175 is a Disarium Number\n"
     ]
    }
   ],
   "source": [
    "def isDisarium(num):\n",
    "    temp = int(num)\n",
    "    numL = list(num)\n",
    "    sumA = 0\n",
    "    for i in range(len(numL)):\n",
    "        sumA += int(numL[i])**(i+1)\n",
    "        \n",
    "    if sumA== temp:\n",
    "        return True\n",
    "    else:\n",
    "        return False\n",
    "    \n",
    "num = input(\"Enter the number to be checked as Disarium Number :: \")\n",
    "if isDisarium(num):\n",
    "    print(\"{} is a Disarium Number\".format(num))\n",
    "else:\n",
    "    print(\"{} is not Disarium Number\".format(num))"
   ]
  },
  {
   "cell_type": "code",
   "execution_count": 3,
   "metadata": {},
   "outputs": [
    {
     "name": "stdout",
     "output_type": "stream",
     "text": [
      "Disarum Number between 1 to 100 are :: \n",
      "1 2 3 4 5 6 7 8 9 89 "
     ]
    }
   ],
   "source": [
    "# disarium numbers are those number whose value is equal to the sum of its digit power to its v=place value.\n",
    "def isDisarium(num):\n",
    "    temp = int(num)\n",
    "    numL = list(num)\n",
    "    sumA = 0\n",
    "    for i in range(len(numL)):\n",
    "        sumA += int(numL[i])**(i+1)\n",
    "        \n",
    "    if sumA== temp:\n",
    "        return True\n",
    "    else:\n",
    "        return False\n",
    "\n",
    "print(\"Disarum Number between 1 to 100 are :: \")\n",
    "for i in range(1,101):\n",
    "    if isDisarium(str(i)):\n",
    "        print(i,end=\" \")"
   ]
  },
  {
   "cell_type": "code",
   "execution_count": 4,
   "metadata": {},
   "outputs": [
    {
     "name": "stdout",
     "output_type": "stream",
     "text": [
      "Enter the number :: 13\n",
      "13 is a Happy number\n"
     ]
    }
   ],
   "source": [
    "'''\n",
    "A number is called happy if it leads to 1 after a sequence of steps wherein each step number is replaced by the \n",
    "sum of squares of its digit that is if we start with Happy Number and keep replacing\n",
    "it with digits square sum, we reach 1.\n",
    "'''\n",
    "def numSquareSum(n):\n",
    "    squareSum = 0\n",
    "    while(n):\n",
    "        squareSum += (n % 10) * (n % 10);\n",
    "        n = int(n / 10);\n",
    "    return squareSum\n",
    "\n",
    "\n",
    "def isHappynumber(n):\n",
    "    slow = n;\n",
    "    fast = n;\n",
    "    while(True):\n",
    "        slow = numSquareSum(slow);\n",
    "        fast = numSquareSum(numSquareSum(fast))\n",
    "        if(slow != fast):\n",
    "            continue;\n",
    "        else:\n",
    "            break\n",
    "    return (slow == 1)\n",
    "\n",
    "n = int(input(\"Enter the number :: \"))\n",
    "if (isHappynumber(n)):\n",
    "    print(n , \"is a Happy number\")\n",
    "else:\n",
    "    print(n , \"is not a Happy number\")"
   ]
  },
  {
   "cell_type": "code",
   "execution_count": 9,
   "metadata": {},
   "outputs": [
    {
     "name": "stdout",
     "output_type": "stream",
     "text": [
      "Happy Number between 1 to 100 :: \n",
      "1 7 10 13 19 23 28 31 32 44 49 68 70 79 82 86 91 94 97 100 "
     ]
    }
   ],
   "source": [
    "'''\n",
    "A number is called happy if it leads to 1 after a sequence of steps wherein each step number is replaced by the \n",
    "sum of squares of its digit that is if we start with Happy Number and keep replacing\n",
    "it with digits square sum, we reach 1.\n",
    "'''\n",
    "def numSquareSum(n):\n",
    "    squareSum = 0\n",
    "    while(n):\n",
    "        squareSum += (n % 10) * (n % 10);\n",
    "        n = int(n / 10);\n",
    "    return squareSum\n",
    "\n",
    "\n",
    "def isHappynumber(n):\n",
    "    slow = n;\n",
    "    fast = n;\n",
    "    while(True):\n",
    "        slow = numSquareSum(slow);\n",
    "        fast = numSquareSum(numSquareSum(fast))\n",
    "        if(slow != fast):\n",
    "            continue;\n",
    "        else:\n",
    "            break\n",
    "    return (slow == 1)\n",
    "\n",
    "print(\"Happy Number between 1 to 100 :: \")\n",
    "for i in range(1,101):\n",
    "    if (isHappynumber(i)):\n",
    "        print(i,end = \" \")"
   ]
  },
  {
   "cell_type": "code",
   "execution_count": 11,
   "metadata": {},
   "outputs": [
    {
     "name": "stdout",
     "output_type": "stream",
     "text": [
      "Enter a number to be checked as Harshad Number156\n",
      "156 is a Harshad Number\n"
     ]
    }
   ],
   "source": [
    "# harshad number are those numbers which can be divisible by its sum of its digit\n",
    "def isHarshad(num):\n",
    "    temp = num\n",
    "    sumDigits = 0\n",
    "    while temp!=0:\n",
    "        sumDigits += temp%10\n",
    "        temp = temp//10\n",
    "    \n",
    "    if num%sumDigits!=0:\n",
    "        return False\n",
    "    else:\n",
    "        return True\n",
    "    \n",
    "num = int(input(\"Enter a number to be checked as Harshad Number\"))\n",
    "if isHarshad(num):\n",
    "    print(\"{} is a Harshad Number\".format(num))\n",
    "else:\n",
    "    print(\"{} is not a Harshad Number.\".format(num))"
   ]
  },
  {
   "cell_type": "code",
   "execution_count": 12,
   "metadata": {},
   "outputs": [
    {
     "name": "stdout",
     "output_type": "stream",
     "text": [
      "Pronic numbers between 1 and 100: \n",
      "2 6 12 20 30 42 56 72 90 "
     ]
    }
   ],
   "source": [
    "# pronic number is number can be represented as a multiplication of 2 consequtive numbers\n",
    "def isPronicNumber(num):    \n",
    "    flag = False;    \n",
    "        \n",
    "    for j in range(1, num+1):    \n",
    "        if((j*(j+1)) == num):    \n",
    "            flag = True;    \n",
    "            break;    \n",
    "    return flag;    \n",
    " \n",
    "print(\"Pronic numbers between 1 and 100: \")   \n",
    "for i in range(1, 101):    \n",
    "    if(isPronicNumber(i)):    \n",
    "        print(i,end = \" \")"
   ]
  },
  {
   "cell_type": "code",
   "execution_count": null,
   "metadata": {},
   "outputs": [],
   "source": []
  }
 ],
 "metadata": {
  "kernelspec": {
   "display_name": "Python 3",
   "language": "python",
   "name": "python3"
  },
  "language_info": {
   "codemirror_mode": {
    "name": "ipython",
    "version": 3
   },
   "file_extension": ".py",
   "mimetype": "text/x-python",
   "name": "python",
   "nbconvert_exporter": "python",
   "pygments_lexer": "ipython3",
   "version": "3.7.6"
  }
 },
 "nbformat": 4,
 "nbformat_minor": 4
}
