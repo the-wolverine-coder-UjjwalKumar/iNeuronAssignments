{
 "cells": [
  {
   "cell_type": "markdown",
   "metadata": {},
   "source": [
    "========================================================================================================================="
   ]
  },
  {
   "cell_type": "markdown",
   "metadata": {},
   "source": [
    "<h1 align=\"center\">iNeuron-Full Stack Data Science</h1>\n",
    "<h2 align=\"center\">Python Basic</h2>\n",
    "<h3 align=\"center\">Assignment_19-Solution</h3>\n",
    "<div align=\"left\">\n",
    "    <h3 >Mentors :-</h3>\n",
    "    <h3 >Sudhanshu Kumar</h3>\n",
    "    <h3 >Krish Naik</h3>\n",
    "</div>\n",
    "\n",
    "<div align=\"right\">\n",
    "    <h3 >Submitted By :-</h3>\n",
    "    <h3 >Name :- UJJWAL KUMAR</h3>\n",
    "    <h3 >Mobile No. :- 7634900918</h3>\n",
    "    <h3 >Email :- uk9334336553@gmail.com</h3>\n",
    "</div>\n",
    "\n"
   ]
  },
  {
   "cell_type": "markdown",
   "metadata": {},
   "source": [
    "======================================================================================================================="
   ]
  },
  {
   "cell_type": "markdown",
   "metadata": {},
   "source": [
    "### Question1\n",
    "##### Create a function that takes a string and returns a string in which each character is repeated once.\n",
    "##### Examples\n",
    "##### double_char(\"String\") ➞ \"SSttrriinngg\"\n",
    "\n",
    "##### double_char(\"Hello World!\") ➞ \"HHeelllloo  WWoorrlldd!!\"\n",
    "\n",
    "##### double_char(\"1234!_ \") ➞ \"11223344!!__  \""
   ]
  },
  {
   "cell_type": "code",
   "execution_count": 3,
   "metadata": {},
   "outputs": [
    {
     "name": "stdout",
     "output_type": "stream",
     "text": [
      "HHeelllloo WWoorrlldd\n"
     ]
    }
   ],
   "source": [
    "def doubleChar(string):\n",
    "    newS = ''\n",
    "    for char in string:\n",
    "        if char!=\" \":\n",
    "            newS += char*2\n",
    "        else:\n",
    "            newS += ' '\n",
    "        \n",
    "    return newS\n",
    "\n",
    "print(doubleChar(\"Hello World\"))"
   ]
  },
  {
   "cell_type": "markdown",
   "metadata": {},
   "source": [
    "### Question2\n",
    "##### Create a function that reverses a boolean value and returns the string \"boolean expected\" if another variable type is given.\n",
    "##### Examples\n",
    "##### reverse(True) ➞ False\n",
    "\n",
    "##### reverse(False) ➞ True\n",
    "\n",
    "##### reverse(0) ➞ \"boolean expected\"\n",
    "\n",
    "##### reverse(None) ➞ \"boolean expected\""
   ]
  },
  {
   "cell_type": "code",
   "execution_count": 11,
   "metadata": {},
   "outputs": [
    {
     "name": "stdout",
     "output_type": "stream",
     "text": [
      "False\n"
     ]
    }
   ],
   "source": [
    "def reverse(givenInput):\n",
    "    if givenInput==True:\n",
    "        return False\n",
    "    elif givenInput==False:\n",
    "        return True\n",
    "    else:\n",
    "        return \"Boolean Expected\"\n",
    "    \n",
    "print(reverse(True))"
   ]
  },
  {
   "cell_type": "markdown",
   "metadata": {},
   "source": [
    "### Question3\n",
    "##### Create a function that returns the thickness (in meters) of a piece of paper after folding it n number of times. The paper starts off with a thickness of 0.5mm.\n",
    "##### Examples\n",
    "##### num_layers(1) ➞ \"0.001m\"\n",
    "##### Paper folded once is 1mm (equal to 0.001m)\n",
    "\n",
    "##### num_layers(4) ➞ \"0.008m\"\n",
    "##### Paper folded 4 times is 8mm (equal to 0.008m)\n",
    "\n",
    "##### num_layers(21) ➞ \"1048.576m\"\n",
    "##### Paper folded 21 times is 1048576mm (equal to 1048.576m)\n"
   ]
  },
  {
   "cell_type": "code",
   "execution_count": 14,
   "metadata": {},
   "outputs": [
    {
     "name": "stdout",
     "output_type": "stream",
     "text": [
      "1048.576\n"
     ]
    }
   ],
   "source": [
    "def numLayer(n):\n",
    "    return (2**n)*0.5*0.001\n",
    "\n",
    "print(numLayer(21))"
   ]
  },
  {
   "cell_type": "markdown",
   "metadata": {},
   "source": [
    "### Question4\n",
    "##### Create a function that takes a single string as argument and returns an ordered list containing the indices of all capital letters in the string.\n",
    "##### Examples\n",
    "##### index_of_caps(\"eDaBiT\") ➞ [1, 3, 5]\n",
    "\n",
    "##### index_of_caps(\"eQuINoX\") ➞ [1, 3, 4, 6]\n",
    "\n",
    "##### index_of_caps(\"determine\") ➞ []\n",
    "\n",
    "##### index_of_caps(\"STRIKE\") ➞ [0, 1, 2, 3, 4, 5]\n",
    "\n",
    "##### index_of_caps(\"sUn\") ➞ [1]"
   ]
  },
  {
   "cell_type": "code",
   "execution_count": 18,
   "metadata": {},
   "outputs": [
    {
     "name": "stdout",
     "output_type": "stream",
     "text": [
      "eDaBiT\n",
      "[1, 3, 5]\n"
     ]
    }
   ],
   "source": [
    "def indexOfCaps(string):\n",
    "    ans = []\n",
    "    for i in range(len(string)):\n",
    "        if ord(string[i])>=65 and ord(string[i])<=90:\n",
    "            ans.append(i)\n",
    "            \n",
    "    return ans\n",
    "\n",
    "result = indexOfCaps(input())\n",
    "if len(result)!=0:\n",
    "    print(result)\n",
    "else:\n",
    "    print(\"Sorry we don't have any capital letters in the input string !!\")"
   ]
  },
  {
   "cell_type": "markdown",
   "metadata": {},
   "source": [
    "### Question5\n",
    "##### Using list comprehensions, create a function that finds all even numbers from 1 to the given number.\n",
    "##### Examples\n",
    "##### find_even_nums(8) ➞ [2, 4, 6, 8]\n",
    "\n",
    "##### find_even_nums(4) ➞ [2, 4]\n",
    "\n",
    "##### find_even_nums(2) ➞ [2]"
   ]
  },
  {
   "cell_type": "code",
   "execution_count": 19,
   "metadata": {},
   "outputs": [
    {
     "name": "stdout",
     "output_type": "stream",
     "text": [
      "8\n",
      "[2, 4, 6, 8]\n"
     ]
    }
   ],
   "source": [
    "def findEvenNum(n):\n",
    "    ans = []\n",
    "    if n>=2:\n",
    "        temp = 2\n",
    "        while temp<=n:\n",
    "            ans.append(temp)\n",
    "            temp += 2\n",
    "        return ans\n",
    "    else:\n",
    "        return ans\n",
    "n = int(input())\n",
    "res = findEvenNum(n)\n",
    "if len(res)!=0:\n",
    "    print(res)\n",
    "else:\n",
    "    print(\"Sorry no even numbers lies below {}\".format(n))"
   ]
  },
  {
   "cell_type": "code",
   "execution_count": null,
   "metadata": {},
   "outputs": [],
   "source": []
  }
 ],
 "metadata": {
  "kernelspec": {
   "display_name": "Python 3",
   "language": "python",
   "name": "python3"
  },
  "language_info": {
   "codemirror_mode": {
    "name": "ipython",
    "version": 3
   },
   "file_extension": ".py",
   "mimetype": "text/x-python",
   "name": "python",
   "nbconvert_exporter": "python",
   "pygments_lexer": "ipython3",
   "version": "3.7.6"
  }
 },
 "nbformat": 4,
 "nbformat_minor": 4
}
