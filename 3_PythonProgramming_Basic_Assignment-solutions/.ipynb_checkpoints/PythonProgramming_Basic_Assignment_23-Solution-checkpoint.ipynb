{
 "cells": [
  {
   "cell_type": "markdown",
   "metadata": {},
   "source": [
    "========================================================================================================================="
   ]
  },
  {
   "cell_type": "markdown",
   "metadata": {},
   "source": [
    "<h1 align=\"center\">iNeuron-Full Stack Data Science</h1>\n",
    "<h2 align=\"center\">Python Basic</h2>\n",
    "<h3 align=\"center\">Assignment_23-Solution</h3>\n",
    "<div align=\"left\">\n",
    "    <h3 >Mentors :-</h3>\n",
    "    <h3 >Sudhanshu Kumar</h3>\n",
    "    <h3 >Krish Naik</h3>\n",
    "</div>\n",
    "\n",
    "<div align=\"right\">\n",
    "    <h3 >Submitted By :-</h3>\n",
    "    <h3 >Name :- UJJWAL KUMAR</h3>\n",
    "    <h3 >Mobile No. :- 7634900918</h3>\n",
    "    <h3 >Email :- uk9334336553@gmail.com</h3>\n",
    "</div>\n",
    "\n"
   ]
  },
  {
   "cell_type": "markdown",
   "metadata": {},
   "source": [
    "======================================================================================================================="
   ]
  },
  {
   "cell_type": "markdown",
   "metadata": {},
   "source": [
    "### Question 1\n",
    "##### Create a function that takes a number as an argument and returns True or False depending on whether the number is symmetrical or not. A number is symmetrical when it is the same as its reverse.\n",
    "##### Examples\n",
    "##### is_symmetrical(7227) ➞ True\n",
    "\n",
    "##### is_symmetrical(12567) ➞ False\n",
    "\n",
    "##### is_symmetrical(44444444) ➞ True\n",
    "\n",
    "##### is_symmetrical(9939) ➞ False\n",
    "\n",
    "##### is_symmetrical(1112111) ➞ True"
   ]
  },
  {
   "cell_type": "code",
   "execution_count": 1,
   "metadata": {},
   "outputs": [
    {
     "name": "stdout",
     "output_type": "stream",
     "text": [
      "7227\n",
      "True\n"
     ]
    }
   ],
   "source": [
    "def isSymmetrical(num):\n",
    "    return num == num[::-1]\n",
    "\n",
    "print(isSymmetrical(input()))"
   ]
  },
  {
   "cell_type": "markdown",
   "metadata": {},
   "source": [
    "### Question 2\n",
    "##### Given a string of numbers separated by a comma and space, return the product of the numbers.\n",
    "##### Examples\n",
    "##### multiply_nums(\"2, 3\") ➞ 6\n",
    "\n",
    "##### multiply_nums(\"1, 2, 3, 4\") ➞ 24\n",
    "\n",
    "##### multiply_nums(\"54, 75, 453, 0\") ➞ 0\n",
    "\n",
    "##### multiply_nums(\"10, -2\") ➞ -20"
   ]
  },
  {
   "cell_type": "code",
   "execution_count": 3,
   "metadata": {},
   "outputs": [
    {
     "name": "stdout",
     "output_type": "stream",
     "text": [
      "1,2,3,4\n",
      "24\n"
     ]
    }
   ],
   "source": [
    "def multiplyNums(list1):\n",
    "    mulResult = 1\n",
    "    for ele in list1:\n",
    "        mulResult *= ele\n",
    "        \n",
    "    return mulResult\n",
    "\n",
    "inputList = list(map(int,input().split(\",\")))\n",
    "print(multiplyNums(inputList))"
   ]
  },
  {
   "cell_type": "markdown",
   "metadata": {},
   "source": [
    "### Question 3\n",
    "##### Create a function that squares every digit of a number.\n",
    "##### Examples\n",
    "##### square_digits(9119) ➞ 811181\n",
    "\n",
    "##### square_digits(2483) ➞ 416649\n",
    "\n",
    "##### square_digits(3212) ➞ 9414\n",
    "##### Notes\n",
    "##### The function receives an integer and must return an integer.\n"
   ]
  },
  {
   "cell_type": "code",
   "execution_count": 4,
   "metadata": {},
   "outputs": [
    {
     "name": "stdout",
     "output_type": "stream",
     "text": [
      "2483\n",
      "416649\n"
     ]
    }
   ],
   "source": [
    "def squareDisgits(num):\n",
    "    ans = ''\n",
    "    for ele in num:\n",
    "        temp = int(ele)**2\n",
    "        ans += str(temp)\n",
    "        \n",
    "    return ans\n",
    "\n",
    "print(squareDisgits(input()))"
   ]
  },
  {
   "cell_type": "markdown",
   "metadata": {},
   "source": [
    "### Question 4\n",
    "##### Create a function that sorts a list and removes all duplicate items from it.\n",
    "##### Examples\n",
    "##### setify([1, 3, 3, 5, 5]) ➞ [1, 3, 5]\n",
    "\n",
    "##### setify([4, 4, 4, 4]) ➞ [4]\n",
    "\n",
    "##### setify([5, 7, 8, 9, 10, 15]) ➞ [5, 7, 8, 9, 10, 15]\n",
    "\n",
    "##### setify([3, 3, 3, 2, 1]) ➞ [1, 2, 3]"
   ]
  },
  {
   "cell_type": "code",
   "execution_count": 6,
   "metadata": {},
   "outputs": [
    {
     "name": "stdout",
     "output_type": "stream",
     "text": [
      "5,7,8,9,10,15\n",
      "[5, 7, 8, 9, 10, 15]\n"
     ]
    }
   ],
   "source": [
    "def setify(list1):\n",
    "    ans = (sorted(list(set(list1))))\n",
    "    return ans\n",
    "\n",
    "\n",
    "result = (setify(list(map(int,input().split(\",\")))))\n",
    "print(result)"
   ]
  },
  {
   "cell_type": "markdown",
   "metadata": {},
   "source": [
    "### Question 5\n",
    "##### Create a function that returns the mean of all digits.\n",
    "##### Examples\n",
    "##### mean(42) ➞ 3\n",
    "\n",
    "##### mean(12345) ➞ 3\n",
    "\n",
    "##### mean(666) ➞ 6\n",
    "##### Notes\n",
    "##### The mean of all digits is the sum of digits / how many digits there are (e.g. mean of digits in 512 is (5+1+2)/3(number of digits) = 8/3=2).\n",
    "##### The mean will always be an integer.\n"
   ]
  },
  {
   "cell_type": "code",
   "execution_count": 7,
   "metadata": {},
   "outputs": [
    {
     "name": "stdout",
     "output_type": "stream",
     "text": [
      "12345\n",
      "3\n"
     ]
    }
   ],
   "source": [
    "def mean(num):\n",
    "    n = len(num)\n",
    "    \n",
    "    sumA = 0\n",
    "    for ele in num:\n",
    "        sumA += int(ele)\n",
    "        \n",
    "    return sumA//n\n",
    "\n",
    "print(mean(input()))"
   ]
  },
  {
   "cell_type": "code",
   "execution_count": null,
   "metadata": {},
   "outputs": [],
   "source": []
  }
 ],
 "metadata": {
  "kernelspec": {
   "display_name": "Python 3",
   "language": "python",
   "name": "python3"
  },
  "language_info": {
   "codemirror_mode": {
    "name": "ipython",
    "version": 3
   },
   "file_extension": ".py",
   "mimetype": "text/x-python",
   "name": "python",
   "nbconvert_exporter": "python",
   "pygments_lexer": "ipython3",
   "version": "3.7.6"
  }
 },
 "nbformat": 4,
 "nbformat_minor": 4
}
