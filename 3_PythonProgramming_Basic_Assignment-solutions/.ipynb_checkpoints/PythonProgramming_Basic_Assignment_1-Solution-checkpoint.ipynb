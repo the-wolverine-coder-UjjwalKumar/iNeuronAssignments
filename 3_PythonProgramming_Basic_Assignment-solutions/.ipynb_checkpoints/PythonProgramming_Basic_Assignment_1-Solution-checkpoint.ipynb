{
 "cells": [
  {
   "cell_type": "markdown",
   "metadata": {},
   "source": [
    "========================================================================================================================="
   ]
  },
  {
   "cell_type": "markdown",
   "metadata": {},
   "source": [
    "<h1 align=\"center\">iNeuron-Full Stack Data Science</h1>\n",
    "<h2 align=\"center\">Python Basic</h2>\n",
    "<h3 align=\"center\">Assignment_1-Solution</h3>\n",
    "<div align=\"left\">\n",
    "    <h3 >Mentors :-</h3>\n",
    "    <h3 >Sudhanshu Kumar</h3>\n",
    "    <h3 >Krish Naik</h3>\n",
    "</div>\n",
    "\n",
    "<div align=\"right\">\n",
    "    <h3 >Submitted By :-</h3>\n",
    "    <h3 >Name :- UJJWAL KUMAR</h3>\n",
    "    <h3 >Mobile No. :- 7634900918</h3>\n",
    "    <h3 >Email :- uk9334336553@gmail.com</h3>\n",
    "</div>\n",
    "\n"
   ]
  },
  {
   "cell_type": "markdown",
   "metadata": {},
   "source": [
    "======================================================================================================================="
   ]
  },
  {
   "cell_type": "markdown",
   "metadata": {},
   "source": [
    "### 1. Write a Python program to print \"Hello Python\"?\n",
    "### 2. Write a Python program to do arithmetical operations addition and division.?\n",
    "### 3. Write a Python program to find the area of a triangle?\n",
    "### 4. Write a Python program to swap two variables?\n",
    "### 5. Write a Python program to generate a random number?"
   ]
  },
  {
   "cell_type": "code",
   "execution_count": 1,
   "metadata": {},
   "outputs": [
    {
     "name": "stdout",
     "output_type": "stream",
     "text": [
      "Hello Python\n"
     ]
    }
   ],
   "source": [
    "def printHello():\n",
    "    print(\"Hello Python\")\n",
    "    \n",
    "printHello()"
   ]
  },
  {
   "cell_type": "code",
   "execution_count": 7,
   "metadata": {},
   "outputs": [
    {
     "name": "stdout",
     "output_type": "stream",
     "text": [
      "Enter number 1 :: 12\n",
      "Enter number 2 :: 23\n",
      "The addition value of 12 and 23 is :: 35\n",
      "The divison value of 12 and 23 is :: 0.5217391304347826\n"
     ]
    }
   ],
   "source": [
    "def arithmeticFunction(num1, num2):\n",
    "        print(\"The addition value of {} and {} is :: {}\".format(num1,num2,num1+num2))\n",
    "        print(\"The divison value of {} and {} is :: {}\".format(num1,num2,num1/num2)) \n",
    "        \n",
    "\n",
    "num1 = int(input(\"Enter number 1 :: \"))\n",
    "num2 = int(input(\"Enter number 2 :: \"))\n",
    "arithmeticFunction(num1,num2)"
   ]
  },
  {
   "cell_type": "code",
   "execution_count": 2,
   "metadata": {},
   "outputs": [
    {
     "name": "stdout",
     "output_type": "stream",
     "text": [
      "Enter base of triangle :: 12\n",
      "Enter the height of triangle :: 4\n",
      "Area of triange is ::  24.0\n"
     ]
    }
   ],
   "source": [
    "def findAreaTriangle(base,height):\n",
    "    print(\"Area of triange is :: \",(base*height)/2)\n",
    "    \n",
    "base = float(input(\"Enter base of triangle :: \"))\n",
    "height  = float(input(\"Enter the height of triangle :: \"))\n",
    "findAreaTriangle(base,height)"
   ]
  },
  {
   "cell_type": "code",
   "execution_count": 1,
   "metadata": {},
   "outputs": [
    {
     "name": "stdout",
     "output_type": "stream",
     "text": [
      "Enter num1 :: 12\n",
      "Enter num2 :: 11\n",
      "Before swapping num1 is 12 and num2 is 11\n",
      "After swapping num1 is 11 and num2 is 12\n"
     ]
    }
   ],
   "source": [
    "def swap(num1,num2):\n",
    "    print(\"Before swapping num1 is {} and num2 is {}\".format(num1,num2))\n",
    "    num1,num2 = num2,num1\n",
    "    print(\"After swapping num1 is {} and num2 is {}\".format(num1,num2))\n",
    "    \n",
    "num1 = int(input(\"Enter num1 :: \"))\n",
    "num2 = int(input(\"Enter num2 :: \"))\n",
    "swap(num1,num2)"
   ]
  },
  {
   "cell_type": "code",
   "execution_count": 8,
   "metadata": {},
   "outputs": [
    {
     "name": "stdout",
     "output_type": "stream",
     "text": [
      "Randomly generated number is ::  0.38011940554874457\n"
     ]
    }
   ],
   "source": [
    "import random\n",
    "\n",
    "def geneateRandomNumber():\n",
    "    n = random.random()\n",
    "    print(\"Randomly generated number is :: \",n)\n",
    "    \n",
    "geneateRandomNumber()"
   ]
  },
  {
   "cell_type": "code",
   "execution_count": null,
   "metadata": {},
   "outputs": [],
   "source": []
  }
 ],
 "metadata": {
  "kernelspec": {
   "display_name": "Python 3",
   "language": "python",
   "name": "python3"
  },
  "language_info": {
   "codemirror_mode": {
    "name": "ipython",
    "version": 3
   },
   "file_extension": ".py",
   "mimetype": "text/x-python",
   "name": "python",
   "nbconvert_exporter": "python",
   "pygments_lexer": "ipython3",
   "version": "3.7.6"
  }
 },
 "nbformat": 4,
 "nbformat_minor": 4
}
