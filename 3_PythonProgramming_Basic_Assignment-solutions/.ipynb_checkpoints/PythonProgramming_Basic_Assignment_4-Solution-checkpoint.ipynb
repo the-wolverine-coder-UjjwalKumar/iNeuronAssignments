{
 "cells": [
  {
   "cell_type": "markdown",
   "metadata": {},
   "source": [
    "========================================================================================================================="
   ]
  },
  {
   "cell_type": "markdown",
   "metadata": {},
   "source": [
    "<h1 align=\"center\">iNeuron-Full Stack Data Science</h1>\n",
    "<h2 align=\"center\">Python Basic</h2>\n",
    "<h3 align=\"center\">Assignment_4-Solution</h3>\n",
    "<div align=\"left\">\n",
    "    <h3 >Mentors :-</h3>\n",
    "    <h3 >Sudhanshu Kumar</h3>\n",
    "    <h3 >Krish Naik</h3>\n",
    "</div>\n",
    "\n",
    "<div align=\"right\">\n",
    "    <h3 >Submitted By :-</h3>\n",
    "    <h3 >Name :- UJJWAL KUMAR</h3>\n",
    "    <h3 >Mobile No. :- 7634900918</h3>\n",
    "    <h3 >Email :- uk9334336553@gmail.com</h3>\n",
    "</div>\n",
    "\n"
   ]
  },
  {
   "cell_type": "markdown",
   "metadata": {},
   "source": [
    "======================================================================================================================="
   ]
  },
  {
   "cell_type": "markdown",
   "metadata": {},
   "source": [
    "### 1. Write a Python Program to Find the Factorial of a Number?\n",
    "### 2. Write a Python Program to Display the multiplication Table?\n",
    "### 3. Write a Python Program to Print the Fibonacci sequence?\n",
    "### 4. Write a Python Program to Check Armstrong Number?\n",
    "### 5. Write a Python Program to Find Armstrong Number in an Interval?\n",
    "### 6. Write a Python Program to Find the Sum of Natural Numbers?"
   ]
  },
  {
   "cell_type": "code",
   "execution_count": 1,
   "metadata": {},
   "outputs": [
    {
     "name": "stdout",
     "output_type": "stream",
     "text": [
      "Enter the number :: 5\n"
     ]
    },
    {
     "data": {
      "text/plain": [
       "120"
      ]
     },
     "execution_count": 1,
     "metadata": {},
     "output_type": "execute_result"
    }
   ],
   "source": [
    "def factorial(num):\n",
    "    if num<1:\n",
    "        return 0\n",
    "    \n",
    "    if num==1:\n",
    "        return 1\n",
    "    \n",
    "    if num>1:\n",
    "        return num * factorial(num-1)\n",
    "    \n",
    "num = int(input(\"Enter the number :: \"))\n",
    "factorial(num)"
   ]
  },
  {
   "cell_type": "code",
   "execution_count": 3,
   "metadata": {},
   "outputs": [
    {
     "name": "stdout",
     "output_type": "stream",
     "text": [
      "Enter the number :: 5\n",
      "Multiplication Table\n",
      "5 x 1 = 5\n",
      "5 x 2 = 10\n",
      "5 x 3 = 15\n",
      "5 x 4 = 20\n",
      "5 x 5 = 25\n",
      "5 x 6 = 30\n",
      "5 x 7 = 35\n",
      "5 x 8 = 40\n",
      "5 x 9 = 45\n",
      "5 x 10 = 50\n"
     ]
    }
   ],
   "source": [
    "def multiplicationTable(num):\n",
    "    \n",
    "    for i in range(1,11):\n",
    "        print(\"{} x {} = {}\".format(num,i,num*i))\n",
    "        \n",
    "num = int(input(\"Enter the number :: \"))\n",
    "print(\"Multiplication Table\")\n",
    "multiplicationTable(num)"
   ]
  },
  {
   "cell_type": "code",
   "execution_count": 12,
   "metadata": {},
   "outputs": [
    {
     "name": "stdout",
     "output_type": "stream",
     "text": [
      "[0, 1, 1, 2, 3, 5, 8, 13, 21, 34]\n"
     ]
    }
   ],
   "source": [
    "def fibonaciNumSequence(num):\n",
    "    res = [0,1]\n",
    "    for i in range(2,num):\n",
    "        res.insert(i,(res[i-2] + res[i-1]))\n",
    "    print(res) \n",
    "    \n",
    "fibonaciNumSequence(10)\n",
    "        "
   ]
  },
  {
   "cell_type": "code",
   "execution_count": 18,
   "metadata": {},
   "outputs": [
    {
     "name": "stdout",
     "output_type": "stream",
     "text": [
      "Enter the number :: 370\n",
      "370 is Armstrong number\n"
     ]
    }
   ],
   "source": [
    "def isArmstrong(num):\n",
    "    sumAns = 0\n",
    "    temp = num\n",
    "    while temp!=0:\n",
    "        digit = temp%10\n",
    "        sumAns += digit**3\n",
    "        temp = temp//10\n",
    "        \n",
    "    if sumAns == num:\n",
    "        return True\n",
    "    else:\n",
    "        return False\n",
    "    \n",
    "num = int(input(\"Enter the number :: \"))\n",
    "if isArmstrong(num):\n",
    "    print(\"{} is Armstrong number\".format(num))\n",
    "else:\n",
    "    print(\"{} is Not Armstrong number\".format(num))\n",
    "    "
   ]
  },
  {
   "cell_type": "code",
   "execution_count": 20,
   "metadata": {},
   "outputs": [
    {
     "name": "stdout",
     "output_type": "stream",
     "text": [
      "Enter the Lower end of range :: 150\n",
      "Enter the Upper end of range :: 400\n",
      "List of armstrong number in between 150 to 400\n",
      "[153, 370, 371]\n"
     ]
    }
   ],
   "source": [
    "def isArmstrong(num):\n",
    "    sumAns = 0\n",
    "    temp = num\n",
    "    while temp!=0:\n",
    "        digit = temp%10\n",
    "        sumAns += digit**3\n",
    "        temp = temp//10\n",
    "        \n",
    "    if sumAns == num:\n",
    "        return True\n",
    "    else:\n",
    "        return False\n",
    "    \n",
    "def inRangeArm(a,b):\n",
    "    ans = []\n",
    "    for i in range(a,b+1):\n",
    "        if isArmstrong(i):\n",
    "            ans.append(i)\n",
    "    print(\"List of armstrong number in between {} to {}\".format(a,b))        \n",
    "    print(ans)\n",
    "        \n",
    "        \n",
    "a = int(input(\"Enter the Lower end of range :: \"))\n",
    "b = int(input(\"Enter the Upper end of range :: \"))\n",
    "\n",
    "inRangeArm(a,b)"
   ]
  },
  {
   "cell_type": "code",
   "execution_count": 22,
   "metadata": {},
   "outputs": [
    {
     "name": "stdout",
     "output_type": "stream",
     "text": [
      "Enter the number :: 12\n",
      "Sum of natural numbers upto 12 ia 78.0\n"
     ]
    }
   ],
   "source": [
    "def sumNatural(num):\n",
    "    print(\"Sum of natural numbers upto {} ia {}\".format(num,(num*(num+1)/2)))\n",
    "    \n",
    "num = int(input(\"Enter the number :: \"))\n",
    "sumNatural(num)"
   ]
  },
  {
   "cell_type": "code",
   "execution_count": null,
   "metadata": {},
   "outputs": [],
   "source": []
  }
 ],
 "metadata": {
  "kernelspec": {
   "display_name": "Python 3",
   "language": "python",
   "name": "python3"
  },
  "language_info": {
   "codemirror_mode": {
    "name": "ipython",
    "version": 3
   },
   "file_extension": ".py",
   "mimetype": "text/x-python",
   "name": "python",
   "nbconvert_exporter": "python",
   "pygments_lexer": "ipython3",
   "version": "3.7.6"
  }
 },
 "nbformat": 4,
 "nbformat_minor": 4
}
