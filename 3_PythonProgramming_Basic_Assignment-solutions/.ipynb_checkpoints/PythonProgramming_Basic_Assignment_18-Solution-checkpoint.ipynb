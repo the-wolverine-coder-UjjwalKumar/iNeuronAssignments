{
 "cells": [
  {
   "cell_type": "markdown",
   "metadata": {},
   "source": [
    "========================================================================================================================="
   ]
  },
  {
   "cell_type": "markdown",
   "metadata": {},
   "source": [
    "<h1 align=\"center\">iNeuron-Full Stack Data Science</h1>\n",
    "<h2 align=\"center\">Python Basic</h2>\n",
    "<h3 align=\"center\">Assignment_18-Solution</h3>\n",
    "<div align=\"left\">\n",
    "    <h3 >Mentors :-</h3>\n",
    "    <h3 >Sudhanshu Kumar</h3>\n",
    "    <h3 >Krish Naik</h3>\n",
    "</div>\n",
    "\n",
    "<div align=\"right\">\n",
    "    <h3 >Submitted By :-</h3>\n",
    "    <h3 >Name :- UJJWAL KUMAR</h3>\n",
    "    <h3 >Mobile No. :- 7634900918</h3>\n",
    "    <h3 >Email :- uk9334336553@gmail.com</h3>\n",
    "</div>\n",
    "\n"
   ]
  },
  {
   "cell_type": "markdown",
   "metadata": {},
   "source": [
    "======================================================================================================================="
   ]
  },
  {
   "cell_type": "markdown",
   "metadata": {},
   "source": [
    "### Question 1\n",
    "##### Create a function that takes a list of non-negative integers and strings and return a new list without the strings.\n",
    "##### Examples\n",
    "##### filter_list([1, 2, \"a\", \"b\"]) ➞ [1, 2]\n",
    "\n",
    "##### filter_list([1, \"a\", \"b\", 0, 15]) ➞ [1, 0, 15]\n",
    "\n",
    "##### filter_list([1, 2, \"aasf\", \"1\", \"123\", 123]) ➞ [1, 2, 123]"
   ]
  },
  {
   "cell_type": "code",
   "execution_count": 4,
   "metadata": {},
   "outputs": [
    {
     "name": "stdout",
     "output_type": "stream",
     "text": [
      "1 2 d r 4 5\n",
      "[1, 2, 4, 5]\n"
     ]
    }
   ],
   "source": [
    "def purifiedList(inputList):\n",
    "    ans = []\n",
    "    for i in inputList:\n",
    "        if i.isnumeric():\n",
    "            ans.append(int(i))\n",
    "            \n",
    "    return ans\n",
    "\n",
    "result = purifiedList(list(input().split()))\n",
    "if len(result)!=0:\n",
    "    print(result)\n",
    "else:\n",
    "    print('Sorry no integers is present in the given list !!')"
   ]
  },
  {
   "cell_type": "markdown",
   "metadata": {},
   "source": [
    "### Question 2\n",
    "##### The \"Reverser\" takes a string as input and returns that string in reverse order, with the opposite case.\n",
    "##### Examples\n",
    "##### reverse(\"Hello World\") ➞ \"DLROw OLLEh\"\n",
    "\n",
    "##### reverse(\"ReVeRsE\") ➞ \"eSrEvEr\"\n",
    "\n",
    "##### reverse(\"Radar\") ➞ \"RADAr\""
   ]
  },
  {
   "cell_type": "code",
   "execution_count": 5,
   "metadata": {},
   "outputs": [
    {
     "name": "stdout",
     "output_type": "stream",
     "text": [
      "ReVeRsE\n",
      "eSrEvEr\n"
     ]
    }
   ],
   "source": [
    "def reverse(string):\n",
    "    newS = string[::-1]\n",
    "    new = \"\"\n",
    "    for char in newS:\n",
    "        if ord(char)>=65 and ord(char)<=90:\n",
    "            new += chr(ord(char)+32)\n",
    "        elif ord(char)>=97 and ord(char)<=122:\n",
    "            new += chr(ord(char)-32)\n",
    "        \n",
    "    return new\n",
    "\n",
    "print(reverse(input()))"
   ]
  },
  {
   "cell_type": "markdown",
   "metadata": {},
   "source": [
    "### Question 3\n",
    "##### You can assign variables from lists like this:\n",
    "##### lst = [1, 2, 3, 4, 5, 6]\n",
    "##### first = lst[0]\n",
    "##### middle = lst[1:-1]\n",
    "##### last = lst[-1]\n",
    "\n",
    "##### print(first) ➞ outputs 1\n",
    "##### print(middle) ➞ outputs [2, 3, 4, 5]\n",
    "##### print(last) ➞ outputs 6\n",
    "##### With Python 3, you can assign variables from lists in a much more succinct way. Create variables first, middle and last from the given list using destructuring assignment (check the Resources tab for some examples), where:\n",
    "##### first  ➞ 1\n",
    "\n",
    "##### middle ➞ [2, 3, 4, 5]\n",
    "\n",
    "##### last ➞ 6\n",
    "##### Your task is to unpack the list writeyourcodehere into three variables, being first, middle,\n",
    "##### and last, with middle being everything in between the first and last element. Then print all three variables."
   ]
  },
  {
   "cell_type": "code",
   "execution_count": 7,
   "metadata": {},
   "outputs": [
    {
     "name": "stdout",
     "output_type": "stream",
     "text": [
      "1 2 3 4 5 6 \n",
      "First -> 1\n",
      "Middle -> [2, 3, 4, 5]\n",
      "Last -> 6\n"
     ]
    }
   ],
   "source": [
    "inputList = list(map(int,input().split()))\n",
    "first,middle,last = inputList[0],inputList[1:-1],inputList[-1] \n",
    "print(\"First -> {}\".format(first))\n",
    "print(\"Middle -> {}\".format(middle))\n",
    "print(\"Last -> {}\".format(last))"
   ]
  },
  {
   "cell_type": "markdown",
   "metadata": {},
   "source": [
    "### Question 4\n",
    "##### Write a function that calculates the factorial of a number recursively.\n",
    "##### Examples\n",
    "##### factorial(5) ➞ 120\n",
    "\n",
    "##### factorial(3) ➞ 6\n",
    "\n",
    "##### factorial(1) ➞ 1\n",
    "\n",
    "##### factorial(0) ➞ 1\n"
   ]
  },
  {
   "cell_type": "code",
   "execution_count": 8,
   "metadata": {},
   "outputs": [
    {
     "name": "stdout",
     "output_type": "stream",
     "text": [
      "5\n",
      "120\n"
     ]
    }
   ],
   "source": [
    "def factorial(n):\n",
    "    if n<0:\n",
    "        return -1\n",
    "    elif n==0 or n==1:\n",
    "        return 1\n",
    "    else:\n",
    "        return n*factorial(n-1)\n",
    "    \n",
    "print(factorial(int(input())))"
   ]
  },
  {
   "cell_type": "markdown",
   "metadata": {},
   "source": [
    "### Question 5\n",
    "##### Write a function that moves all elements of one type to the end of the list.\n",
    "##### Examples\n",
    "##### move_to_end([1, 3, 2, 4, 4, 1], 1) ➞ [3, 2, 4, 4, 1, 1]\n",
    "##### Move all the 1s to the end of the array.\n",
    "\n",
    "##### move_to_end([7, 8, 9, 1, 2, 3, 4], 9) ➞ [7, 8, 1, 2, 3, 4, 9]\n",
    "\n",
    "##### move_to_end([\"a\", \"a\", \"a\", \"b\"], \"a\") ➞ [\"b\", \"a\", \"a\", \"a\"]"
   ]
  },
  {
   "cell_type": "code",
   "execution_count": 9,
   "metadata": {},
   "outputs": [
    {
     "name": "stdout",
     "output_type": "stream",
     "text": [
      "[3, 2, 4, 4, 1, 1]\n"
     ]
    }
   ],
   "source": [
    "def moveToEnd(arr,key):\n",
    "    left = []\n",
    "    right  = []\n",
    "    if key not in arr:\n",
    "        return arr\n",
    "    else:\n",
    "        for element in arr:\n",
    "            if element!=key:\n",
    "                left.append(element)\n",
    "            else:\n",
    "                right.append(element)\n",
    "                \n",
    "        return left + right\n",
    "    \n",
    "print(moveToEnd([1,3,2,4,4,1],1))"
   ]
  },
  {
   "cell_type": "code",
   "execution_count": null,
   "metadata": {},
   "outputs": [],
   "source": []
  }
 ],
 "metadata": {
  "kernelspec": {
   "display_name": "Python 3",
   "language": "python",
   "name": "python3"
  },
  "language_info": {
   "codemirror_mode": {
    "name": "ipython",
    "version": 3
   },
   "file_extension": ".py",
   "mimetype": "text/x-python",
   "name": "python",
   "nbconvert_exporter": "python",
   "pygments_lexer": "ipython3",
   "version": "3.7.6"
  }
 },
 "nbformat": 4,
 "nbformat_minor": 4
}
