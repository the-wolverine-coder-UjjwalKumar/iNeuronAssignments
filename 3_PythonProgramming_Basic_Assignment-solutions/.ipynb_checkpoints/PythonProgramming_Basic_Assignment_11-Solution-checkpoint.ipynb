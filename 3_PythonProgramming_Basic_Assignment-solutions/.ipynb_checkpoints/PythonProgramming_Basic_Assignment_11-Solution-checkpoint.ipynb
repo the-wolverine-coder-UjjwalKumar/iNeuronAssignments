{
 "cells": [
  {
   "cell_type": "markdown",
   "metadata": {},
   "source": [
    "========================================================================================================================="
   ]
  },
  {
   "cell_type": "markdown",
   "metadata": {},
   "source": [
    "<h1 align=\"center\">iNeuron-Full Stack Data Science</h1>\n",
    "<h2 align=\"center\">Python Basic</h2>\n",
    "<h3 align=\"center\">Assignment_11-Solution</h3>\n",
    "<div align=\"left\">\n",
    "    <h3 >Mentors :-</h3>\n",
    "    <h3 >Sudhanshu Kumar</h3>\n",
    "    <h3 >Krish Naik</h3>\n",
    "</div>\n",
    "\n",
    "<div align=\"right\">\n",
    "    <h3 >Submitted By :-</h3>\n",
    "    <h3 >Name :- UJJWAL KUMAR</h3>\n",
    "    <h3 >Mobile No. :- 7634900918</h3>\n",
    "    <h3 >Email :- uk9334336553@gmail.com</h3>\n",
    "</div>\n",
    "\n"
   ]
  },
  {
   "cell_type": "markdown",
   "metadata": {},
   "source": [
    "======================================================================================================================="
   ]
  },
  {
   "cell_type": "markdown",
   "metadata": {},
   "source": [
    "#### 1. Write a Python program to find words which are greater than given length k?\n",
    "#### 2. Write a Python program for removing i-th character from a string?\n",
    "#### 3. Write a Python program to split and join a string?\n",
    "#### 4. Write a Python to check if a given string is binary string or not?\n",
    "#### 5. Write a Python program to find uncommon words from two Strings?\n",
    "#### 6. Write a Python to find all duplicate characters in string?\n",
    "#### 7. Write a Python Program to check if a string contains any special character?"
   ]
  },
  {
   "cell_type": "code",
   "execution_count": 2,
   "metadata": {},
   "outputs": [
    {
     "name": "stdout",
     "output_type": "stream",
     "text": [
      "Enter some words :: hello world I am ujjwal kumar\n",
      "Enter the length of word for filtering :: 4\n",
      "Words whose length are greater than 4 is ['hello', 'world', 'ujjwal', 'kumar']\n"
     ]
    }
   ],
   "source": [
    "def isGreaterWord(wordList,k):\n",
    "    ans = []\n",
    "    for word in wordList:\n",
    "        if len(word)>k:\n",
    "            ans.append(word)\n",
    "        else:\n",
    "            continue\n",
    "    return ans\n",
    "\n",
    "wordList = list(input(\"Enter some words :: \").split())\n",
    "k = int(input(\"Enter the length of word for filtering :: \"))\n",
    "if len(isGreaterWord(wordList,k))!=0:\n",
    "    print(\"Words whose length are greater than {} is {}\".format(k,isGreaterWord(wordList,k)))\n",
    "else:\n",
    "    print(\"Sorry no words present whose length is greater than {}\".format(k))"
   ]
  },
  {
   "cell_type": "code",
   "execution_count": 1,
   "metadata": {},
   "outputs": [
    {
     "name": "stdout",
     "output_type": "stream",
     "text": [
      "Enter a new string :: hello everyone\n",
      "Enter the index value whose character want to delete :: 3\n",
      "The string after removal of 3th char is helo everyone\n"
     ]
    }
   ],
   "source": [
    "def removeIchar(string,index):\n",
    "    if index>=len(string):\n",
    "        print(\"Sorry Index is out of range Cam't delete the character\")\n",
    "    else:\n",
    "        snew = ''\n",
    "        for i in range(len(string)):\n",
    "            if i!=index-1:\n",
    "                snew += string[i]\n",
    "                \n",
    "        print(\"The string after removal of {}th char is {}\".format(index,snew))\n",
    "        \n",
    "string = input(\"Enter a new string :: \")\n",
    "index = int(input(\"Enter the index value whose character want to delete :: \"))\n",
    "removeIchar(string,index)       "
   ]
  },
  {
   "cell_type": "code",
   "execution_count": 10,
   "metadata": {},
   "outputs": [
    {
     "name": "stdout",
     "output_type": "stream",
     "text": [
      "Enter a string seperated by comma (,) :: hello,I,am,Ujjwal,Kumar\n",
      "String before splitiing ::  hello,I,am,Ujjwal,Kumar\n",
      "String after spliiting based upon comma (,) ::  ['hello', 'I', 'am', 'Ujjwal', 'Kumar']\n",
      "String after joing with hyphen (-) is ::  hello-I-am-Ujjwal-Kumar\n"
     ]
    }
   ],
   "source": [
    "string = input(\"Enter a string seperated by comma (,) :: \")\n",
    "print(\"String before splitiing :: \",string)\n",
    "sList = (string.split(\",\"))\n",
    "print(\"String after spliiting based upon comma (,) :: \",sList)\n",
    "\n",
    "temp = '-'\n",
    "ans = temp.join(sList)\n",
    "    \n",
    "print(\"String after joing with hyphen (-) is :: \",ans)"
   ]
  },
  {
   "cell_type": "code",
   "execution_count": 12,
   "metadata": {},
   "outputs": [
    {
     "name": "stdout",
     "output_type": "stream",
     "text": [
      "Enter a string to be checked as binary string :: 0101001\n",
      "Yes given string 0101001 is binary string !!\n"
     ]
    }
   ],
   "source": [
    "def isStringBinary(string):\n",
    "    for char in string:\n",
    "        if not(ord((char))>=48 and ord((char))<= 49):\n",
    "            return False\n",
    "        \n",
    "    return True\n",
    "\n",
    "string = input(\"Enter a string to be checked as binary string :: \")\n",
    "if isStringBinary(string):\n",
    "    print(\"Yes given string {} is binary string !!\".format(string))\n",
    "else:\n",
    "    print(\"No given string {} is not a binary string!!\".format(string))            "
   ]
  },
  {
   "cell_type": "code",
   "execution_count": 15,
   "metadata": {},
   "outputs": [
    {
     "name": "stdout",
     "output_type": "stream",
     "text": [
      "Enter string 1 :: hello ujjwal I am python\n",
      "Enter string 2 :: hello ram I love snake\n",
      "Uncommon words in String 1 and String 2 is  ::  {'love', 'I', 'hello', 'am', 'snake', 'ram', 'pythonhello', 'ujjwal'}\n"
     ]
    }
   ],
   "source": [
    "string1 = input(\"Enter string 1 :: \")\n",
    "string2 = input(\"Enter string 2 :: \")\n",
    "temp = list((string1+\" \" +string2).split())\n",
    "print(\"Uncommon words in String 1 and String 2 is  :: \",(set(temp)))"
   ]
  },
  {
   "cell_type": "code",
   "execution_count": 17,
   "metadata": {},
   "outputs": [
    {
     "name": "stdout",
     "output_type": "stream",
     "text": [
      "Enter the string hello world I am ujjwal \n",
      "Duplicate characters present in the given string is :: {'a', ' ', 'j', 'o', 'l', 'w'}\n"
     ]
    }
   ],
   "source": [
    "def duplicateChar(string):\n",
    "    ans = []\n",
    "    for char in string:\n",
    "        if string.count(char)>1:\n",
    "            ans.append(char)\n",
    "            \n",
    "    return ans\n",
    "\n",
    "string = input(\"Enter the string :: \")\n",
    "\n",
    "if len(duplicateChar(string))!=0:\n",
    "    print(\"Duplicate characters present in the given string is :: {}\".format(set(duplicateChar(string))))\n",
    "else:\n",
    "    print(\"All characters are unique !!\")"
   ]
  },
  {
   "cell_type": "code",
   "execution_count": 18,
   "metadata": {},
   "outputs": [
    {
     "name": "stdout",
     "output_type": "stream",
     "text": [
      "Enter the string :: hello' ## 12 \n",
      "Yes string contains special character !!\n"
     ]
    }
   ],
   "source": [
    "def checkSpecialChar(string):\n",
    "    for char in string:\n",
    "        if char!=\" \":\n",
    "            if not(ord(char)>=65 and ord(char)<=90 or ord(char)>=97 and ord(char)<=122 or ord(char)>=48 and ord(char)<=57):\n",
    "                return True\n",
    "            \n",
    "    return False\n",
    "\n",
    "string = input(\"Enter the string :: \")\n",
    "if checkSpecialChar(string):\n",
    "    print(\"Yes string contains special character !!\")\n",
    "else:\n",
    "    print(\"No string doesn't contain the special character. !!\")"
   ]
  },
  {
   "cell_type": "code",
   "execution_count": null,
   "metadata": {},
   "outputs": [],
   "source": []
  }
 ],
 "metadata": {
  "kernelspec": {
   "display_name": "Python 3",
   "language": "python",
   "name": "python3"
  },
  "language_info": {
   "codemirror_mode": {
    "name": "ipython",
    "version": 3
   },
   "file_extension": ".py",
   "mimetype": "text/x-python",
   "name": "python",
   "nbconvert_exporter": "python",
   "pygments_lexer": "ipython3",
   "version": "3.7.6"
  }
 },
 "nbformat": 4,
 "nbformat_minor": 4
}
