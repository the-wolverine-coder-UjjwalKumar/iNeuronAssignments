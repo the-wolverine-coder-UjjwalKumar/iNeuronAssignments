{
 "cells": [
  {
   "cell_type": "markdown",
   "metadata": {},
   "source": [
    "========================================================================================================================="
   ]
  },
  {
   "cell_type": "markdown",
   "metadata": {},
   "source": [
    "<h1 align=\"center\">iNeuron-Full Stack Data Science</h1>\n",
    "<h2 align=\"center\">Python Basic</h2>\n",
    "<h3 align=\"center\">Assignment_7-Solution</h3>\n",
    "<div align=\"left\">\n",
    "    <h3 >Mentors :-</h3>\n",
    "    <h3 >Sudhanshu Kumar</h3>\n",
    "    <h3 >Krish Naik</h3>\n",
    "</div>\n",
    "\n",
    "<div align=\"right\">\n",
    "    <h3 >Submitted By :-</h3>\n",
    "    <h3 >Name :- UJJWAL KUMAR</h3>\n",
    "    <h3 >Mobile No. :- 7634900918</h3>\n",
    "    <h3 >Email :- uk9334336553@gmail.com</h3>\n",
    "</div>\n",
    "\n"
   ]
  },
  {
   "cell_type": "markdown",
   "metadata": {},
   "source": [
    "======================================================================================================================="
   ]
  },
  {
   "cell_type": "markdown",
   "metadata": {},
   "source": [
    "### 1. Write a Python Program to find sum of array?\n",
    "### 2. Write a Python Program to find largest element in an array?\n",
    "### 3. Write a Python Program for array rotation?\n",
    "### 4. Write a Python Program to Split the array and add the first part to the end?\n",
    "### 5. Write a Python Program to check if given array is Monotonic?\n"
   ]
  },
  {
   "cell_type": "code",
   "execution_count": 2,
   "metadata": {},
   "outputs": [
    {
     "name": "stdout",
     "output_type": "stream",
     "text": [
      "Enter the array element by space separted :: \n",
      "1 2 3 4 5\n",
      "The sum of the given array is  15\n"
     ]
    }
   ],
   "source": [
    "def sumArray(arr):\n",
    "    sumA = 0\n",
    "    for element in arr:\n",
    "        sumA += element\n",
    "        \n",
    "    print(\"The sum of the given array is \",sumA)\n",
    "print(\"Enter the array element by space separted :: \")    \n",
    "arr = list(map(int,input().split()))\n",
    "sumArray(arr)"
   ]
  },
  {
   "cell_type": "code",
   "execution_count": 3,
   "metadata": {},
   "outputs": [
    {
     "name": "stdout",
     "output_type": "stream",
     "text": [
      "Enter the array element by space separted :: \n",
      "1 2 4 5 2\n",
      "The maximum element in the given array is ::  5\n"
     ]
    }
   ],
   "source": [
    "def maxElement(arr):\n",
    "    maxE = arr[0]\n",
    "    for i in arr:\n",
    "        if i>=maxE:\n",
    "            maxE = i\n",
    "    \n",
    "    print(\"The maximum element in the given array is :: \",maxE)\n",
    "\n",
    "print(\"Enter the array element by space separted :: \")    \n",
    "arr = list(map(int,input().split()))\n",
    "maxElement(arr)"
   ]
  },
  {
   "cell_type": "code",
   "execution_count": 4,
   "metadata": {},
   "outputs": [
    {
     "name": "stdout",
     "output_type": "stream",
     "text": [
      "Enter the array element by space separted :: \n",
      "1 2 3 4 5\n",
      "Enter left for LeftRotation/ right for Right Rotation :: left\n",
      "Enter the limit :: 3\n",
      "After 3 times left rotation arr will became :: [4, 5, 1, 2, 3]\n"
     ]
    }
   ],
   "source": [
    "def leftRotation(arr,limit):\n",
    "    actualLimit = limit%len(arr)\n",
    "    finalArr = arr[limit:] + arr[:limit]\n",
    "    print(\"After {} times left rotation arr will became :: {}\".format(limit,finalArr))\n",
    "    \n",
    "def rightRotation(arr,limit):\n",
    "    actualLimit = limit%len(arr)\n",
    "    finalArr = arr[:limit] + arr[limit:]\n",
    "    print(\"After {} times right rotation arr will became :: {}\".format(limit,finalArr))\n",
    "    \n",
    "    \n",
    "print(\"Enter the array element by space separted :: \")    \n",
    "arr = list(map(int,input().split()))\n",
    "rotationDir = input(\"Enter left for LeftRotation/ right for Right Rotation :: \")\n",
    "limit = int(input(\"Enter the limit :: \"))\n",
    "\n",
    "if rotationDir==\"left\":\n",
    "    leftRotation(arr,limit)\n",
    "elif rotationDir==\"right\":\n",
    "    rightRotation(arr,limit)\n",
    "else:\n",
    "    print(\"Please select the valid direction !!\")"
   ]
  },
  {
   "cell_type": "code",
   "execution_count": 6,
   "metadata": {},
   "outputs": [
    {
     "name": "stdout",
     "output_type": "stream",
     "text": [
      "Enter the array element by space separted :: \n",
      "1 2 3 4 5 6\n",
      "Enter the Split Index :: 2\n",
      "Array after spliting from 2 index and adding the front to end :: [3, 4, 5, 6, 1, 2]\n"
     ]
    }
   ],
   "source": [
    "def splitAndEnd(arr,splitIndex):\n",
    "    actualIndex = splitIndex%len(arr)\n",
    "    finalArr = arr[actualIndex:] + arr[:actualIndex]\n",
    "    print(\"Array after spliting from {} index and adding the front to end :: {}\".format(actualIndex,finalArr))\n",
    "    \n",
    "print(\"Enter the array element by space separted :: \")    \n",
    "arr = list(map(int,input().split()))\n",
    "splitIndex = int(input(\"Enter the Split Index :: \"))\n",
    "splitAndEnd(arr,splitIndex)"
   ]
  },
  {
   "cell_type": "code",
   "execution_count": 8,
   "metadata": {},
   "outputs": [
    {
     "name": "stdout",
     "output_type": "stream",
     "text": [
      "Enter the array element by space separted :: \n",
      "1 2 7 3 2\n",
      "No the given array is not monotonic\n"
     ]
    }
   ],
   "source": [
    "def isMonotonic(A):\n",
    "  \n",
    "    return (all(A[i] <= A[i + 1] for i in range(len(A) - 1)) or\n",
    "            all(A[i] >= A[i + 1] for i in range(len(A) - 1)))\n",
    "\n",
    "print(\"Enter the array element by space separted :: \")    \n",
    "arr = list(map(int,input().split()))\n",
    "if isMonotonic(arr):\n",
    "    print(\"Yes the given array is monotonic\")\n",
    "else:\n",
    "    print(\"No the given array is not monotonic\")"
   ]
  },
  {
   "cell_type": "code",
   "execution_count": null,
   "metadata": {},
   "outputs": [],
   "source": []
  }
 ],
 "metadata": {
  "kernelspec": {
   "display_name": "Python 3",
   "language": "python",
   "name": "python3"
  },
  "language_info": {
   "codemirror_mode": {
    "name": "ipython",
    "version": 3
   },
   "file_extension": ".py",
   "mimetype": "text/x-python",
   "name": "python",
   "nbconvert_exporter": "python",
   "pygments_lexer": "ipython3",
   "version": "3.7.6"
  }
 },
 "nbformat": 4,
 "nbformat_minor": 4
}
