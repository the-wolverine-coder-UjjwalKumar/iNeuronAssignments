{
 "cells": [
  {
   "cell_type": "markdown",
   "metadata": {},
   "source": [
    "========================================================================================================================="
   ]
  },
  {
   "cell_type": "markdown",
   "metadata": {},
   "source": [
    "<h1 align=\"center\">iNeuron-Full Stack Data Science</h1>\n",
    "<h2 align=\"center\">Python Basic</h2>\n",
    "<h3 align=\"center\">Assignment_16-Solution</h3>\n",
    "<div align=\"left\">\n",
    "    <h3 >Mentors :-</h3>\n",
    "    <h3 >Sudhanshu Kumar</h3>\n",
    "    <h3 >Krish Naik</h3>\n",
    "</div>\n",
    "\n",
    "<div align=\"right\">\n",
    "    <h3 >Submitted By :-</h3>\n",
    "    <h3 >Name :- UJJWAL KUMAR</h3>\n",
    "    <h3 >Mobile No. :- 7634900918</h3>\n",
    "    <h3 >Email :- uk9334336553@gmail.com</h3>\n",
    "</div>\n",
    "\n"
   ]
  },
  {
   "cell_type": "markdown",
   "metadata": {},
   "source": [
    "======================================================================================================================="
   ]
  },
  {
   "cell_type": "markdown",
   "metadata": {},
   "source": [
    "### Question1. \n",
    "##### Write a function that stutters a word as if someone is struggling to read it. The first two letters are repeated twice with an ellipsis ... and space after each, and then the word is pronounced with a question mark ?.\n",
    "##### Examples\n",
    "##### stutter(\"incredible\") ➞ \"in... in... incredible?\"\n",
    "\n",
    "##### stutter(\"enthusiastic\") ➞ \"en... en... enthusiastic?\"\n",
    "\n",
    "##### stutter(\"outstanding\") ➞ \"ou... ou... outstanding?\"\n",
    "\n",
    "##### Hint :- Assume all input is in lower case and at least two characters long.\n"
   ]
  },
  {
   "cell_type": "code",
   "execution_count": 4,
   "metadata": {},
   "outputs": [
    {
     "name": "stdout",
     "output_type": "stream",
     "text": [
      "outstanding\n",
      "ou... ou... outstanding\n"
     ]
    }
   ],
   "source": [
    "def isShutter(word):\n",
    "    print(word[:2]+\"... \"+word[:2]+\"... \"+word)\n",
    "    \n",
    "word = (input())\n",
    "isShutter(word)"
   ]
  },
  {
   "cell_type": "markdown",
   "metadata": {},
   "source": [
    "### Question 2.\n",
    "##### Create a function that takes an angle in radians and returns the corresponding angle in degrees rounded to one decimal place.\n",
    "##### Examples\n",
    "##### radians_to_degrees(1) ➞ 57.3\n",
    "\n",
    "##### radians_to_degrees(20) ➞ 1145.9\n",
    "\n",
    "##### radians_to_degrees(50) ➞ 2864.8"
   ]
  },
  {
   "cell_type": "code",
   "execution_count": 9,
   "metadata": {},
   "outputs": [
    {
     "name": "stdout",
     "output_type": "stream",
     "text": [
      "50\n",
      "2864.8\n"
     ]
    }
   ],
   "source": [
    "def radianToDegree(radian):\n",
    "    if radian>=1:\n",
    "        return 57.2958*radian\n",
    "    \n",
    "print(\"{:.1f}\".format(radianToDegree(int(input()))))"
   ]
  },
  {
   "cell_type": "markdown",
   "metadata": {},
   "source": [
    "### Question 3.\n",
    "##### In this challenge, establish if a given integer num is a Curzon number. If 1 plus 2 elevated to num is exactly divisible by 1 plus 2 multiplied by num, then num is a Curzon number.\n",
    "##### Given a non-negative integer num, implement a function that returns True if num is a Curzon number, or False otherwise.\n",
    "##### Examples\n",
    "##### is_curzon(5) ➞ True\n",
    "##### 2 ** 5 + 1 = 33\n",
    "##### 2 * 5 + 1 = 11\n",
    "##### 33 is a multiple of 11\n",
    "\n",
    "##### is_curzon(10) ➞ False\n",
    "##### 2 ** 10 + 1 = 1025\n",
    "##### 2 * 10 + 1 = 21\n",
    "##### 1025 is not a multiple of 21\n",
    "\n",
    "##### is_curzon(14) ➞ True\n",
    "##### 2 ** 14 + 1 = 16385\n",
    "##### 2 * 14 + 1 = 29\n",
    "##### 16385 is a multiple of 29"
   ]
  },
  {
   "cell_type": "code",
   "execution_count": 11,
   "metadata": {},
   "outputs": [
    {
     "name": "stdout",
     "output_type": "stream",
     "text": [
      "True\n"
     ]
    }
   ],
   "source": [
    "def isCurzonNumber(num):\n",
    "    temp = 2**num + 1\n",
    "    temp2 = 2*num + 1\n",
    "    \n",
    "    return (temp%temp2==0)\n",
    "\n",
    "print(isCurzonNumber(14))"
   ]
  },
  {
   "cell_type": "markdown",
   "metadata": {},
   "source": [
    "### Question 4.\n",
    "##### Given the side length x find the area of a hexagon.\n",
    "##### A = (3 x sqrt(3) x s^2 ) / 2\n",
    "\n",
    "##### Examples\n",
    "##### area_of_hexagon(1) ➞ 2.6\n",
    "\n",
    "##### area_of_hexagon(2) ➞ 10.4\n",
    "\n",
    "##### area_of_hexagon(3) ➞ 23.4"
   ]
  },
  {
   "cell_type": "code",
   "execution_count": 12,
   "metadata": {},
   "outputs": [
    {
     "name": "stdout",
     "output_type": "stream",
     "text": [
      "3\n",
      "23.4\n"
     ]
    }
   ],
   "source": [
    "def areaOFHexagon(length):\n",
    "    return (3*(3**0.5)*(length**2))/2\n",
    "\n",
    "print(\"{:.1f}\".format(areaOFHexagon(int(input()))))"
   ]
  },
  {
   "cell_type": "markdown",
   "metadata": {},
   "source": [
    "### Question 5. \n",
    "##### Create a function that returns a base-2 (binary) representation of a base-10 (decimal) string number. To convert is simple: ((2) means base-2 and (10) means base-10) 010101001(2) = 1 + 8 + 32 + 128.\n",
    "##### Going from right to left, the value of the most right bit is 1, now from that every bit to the left will be x2 the value, value of an 8 bit binary numbers are (256, 128, 64, 32, 16, 8, 4, 2, 1).\n",
    "##### Examples\n",
    "##### binary(1) ➞ \"1\"\n",
    "##### 1*1 = 1\n",
    "\n",
    "##### binary(5) ➞ \"101\"\n",
    "##### 1*1 + 1*4 = 5\n",
    "\n",
    "##### binary(10) ➞ \"1010\"\n",
    "##### 1*2 + 1*8 = 10"
   ]
  },
  {
   "cell_type": "code",
   "execution_count": 13,
   "metadata": {},
   "outputs": [
    {
     "name": "stdout",
     "output_type": "stream",
     "text": [
      "5\n",
      "101\n"
     ]
    }
   ],
   "source": [
    "def calBinary(num):\n",
    "    return bin(num)[2:]\n",
    "\n",
    "print(calBinary(int(input())))"
   ]
  },
  {
   "cell_type": "code",
   "execution_count": null,
   "metadata": {},
   "outputs": [],
   "source": []
  }
 ],
 "metadata": {
  "kernelspec": {
   "display_name": "Python 3",
   "language": "python",
   "name": "python3"
  },
  "language_info": {
   "codemirror_mode": {
    "name": "ipython",
    "version": 3
   },
   "file_extension": ".py",
   "mimetype": "text/x-python",
   "name": "python",
   "nbconvert_exporter": "python",
   "pygments_lexer": "ipython3",
   "version": "3.7.6"
  }
 },
 "nbformat": 4,
 "nbformat_minor": 4
}
