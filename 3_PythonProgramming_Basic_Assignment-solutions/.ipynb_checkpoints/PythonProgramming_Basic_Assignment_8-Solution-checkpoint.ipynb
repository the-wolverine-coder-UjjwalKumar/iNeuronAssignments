{
 "cells": [
  {
   "cell_type": "markdown",
   "metadata": {},
   "source": [
    "========================================================================================================================="
   ]
  },
  {
   "cell_type": "markdown",
   "metadata": {},
   "source": [
    "<h1 align=\"center\">iNeuron-Full Stack Data Science</h1>\n",
    "<h2 align=\"center\">Python Basic</h2>\n",
    "<h3 align=\"center\">Assignment_8-Solution</h3>\n",
    "<div align=\"left\">\n",
    "    <h3 >Mentors :-</h3>\n",
    "    <h3 >Sudhanshu Kumar</h3>\n",
    "    <h3 >Krish Naik</h3>\n",
    "</div>\n",
    "\n",
    "<div align=\"right\">\n",
    "    <h3 >Submitted By :-</h3>\n",
    "    <h3 >Name :- UJJWAL KUMAR</h3>\n",
    "    <h3 >Mobile No. :- 7634900918</h3>\n",
    "    <h3 >Email :- uk9334336553@gmail.com</h3>\n",
    "</div>\n",
    "\n"
   ]
  },
  {
   "cell_type": "markdown",
   "metadata": {},
   "source": [
    "======================================================================================================================="
   ]
  },
  {
   "cell_type": "markdown",
   "metadata": {},
   "source": [
    "### 1. Write a Python Program to Add Two Matrices?\n",
    "### 2. Write a Python Program to Multiply Two Matrices?\n",
    "### 3. Write a Python Program to Transpose a Matrix?\n",
    "### 4. Write a Python Program to Sort Words in Alphabetic Order?\n",
    "### 5. Write a Python Program to Remove Punctuation From a String?\n"
   ]
  },
  {
   "cell_type": "code",
   "execution_count": 2,
   "metadata": {},
   "outputs": [
    {
     "name": "stdout",
     "output_type": "stream",
     "text": [
      "Enter number row for matrix 1 :: 2\n",
      "Enter number col for matrix 1 :: 2\n",
      "Enter the elements in  matrix 1 :: \n",
      "1\n",
      "2\n",
      "3\n",
      "4\n",
      "Enter number row for matrix 2 :: 2\n",
      "Enter number col for matrix 2 :: 2\n",
      "Enter the elements in  matrix 2 :: \n",
      "1\n",
      "1\n",
      "1\n",
      "1\n",
      "[[2, 3], [4, 5]]\n"
     ]
    }
   ],
   "source": [
    "def addMatrix(row1,col1,mat1,row2,col2,mat2):\n",
    "    if row1!=row2 or col1!=col2:\n",
    "        print(\"Matrix are not compatible for addition please check size !!\")\n",
    "    else:\n",
    "        resultMat = []\n",
    "        for i in range(row1):\n",
    "            temp = []\n",
    "            for j in range(col1):\n",
    "                temp.append(0)\n",
    "            resultMat.append(temp)\n",
    "            \n",
    "        \n",
    "        for i in range(row1):\n",
    "            for j in range(col1):\n",
    "                resultMat[i][j] = mat1[i][j] + mat2[i][j]\n",
    "                \n",
    "        print(resultMat)\n",
    "        \n",
    "row1 = int(input(\"Enter number row for matrix 1 :: \"))\n",
    "col1 = int(input(\"Enter number col for matrix 1 :: \"))\n",
    "print(\"Enter the elements in  matrix 1 :: \")\n",
    "mat1 = []\n",
    "for i in range(row1):          # A for loop for row entries\n",
    "    a =[]\n",
    "    for j in range(col1):      # A for loop for column entries\n",
    "         a.append(int(input()))\n",
    "    mat1.append(a)\n",
    "    \n",
    "row2 = int(input(\"Enter number row for matrix 2 :: \"))\n",
    "col2 = int(input(\"Enter number col for matrix 2 :: \"))\n",
    "print(\"Enter the elements in  matrix 2 :: \")\n",
    "mat2 = []\n",
    "for i in range(row2):\n",
    "    a =[]\n",
    "    for j in range(col2):\n",
    "         a.append(int(input()))\n",
    "    mat2.append(a)\n",
    "    \n",
    "addMatrix(row1,col1,mat1,row2,col2,mat2)"
   ]
  },
  {
   "cell_type": "code",
   "execution_count": 9,
   "metadata": {},
   "outputs": [
    {
     "name": "stdout",
     "output_type": "stream",
     "text": [
      "Enter number row for matrix 1 :: 3\n",
      "Enter number col for matrix 1 :: 1\n",
      "Enter the elements in  matrix 1 :: \n",
      "1\n",
      "2\n",
      "3\n",
      "Matrix 1 ::  [[1], [2], [3]]\n",
      "Enter number row for matrix 2 :: 1\n",
      "Enter number col for matrix 2 :: 3\n",
      "Enter the elements in  matrix 2 :: \n",
      "1\n",
      "2\n",
      "3\n",
      "Matrix 2 ::  [[1, 2, 3]]\n",
      "Matrix after multiplication\n",
      "[[1, 2, 3], [2, 4, 6], [3, 6, 9]]\n"
     ]
    }
   ],
   "source": [
    "def matrixMultiplication(row1,col1,mat1,row2,col2,mat2):\n",
    "    if col1!=row2:\n",
    "        print(\"Can't multiply the matrix please check the size !!\")\n",
    "    else:   \n",
    "        matMul = []\n",
    "        for row in range(row1):\n",
    "            temp = []\n",
    "            for col in range(col2):\n",
    "                temp.append(0)\n",
    "\n",
    "            matMul.append(temp)\n",
    "        \n",
    "        for row in range(row1):\n",
    "            for col in range(col2):\n",
    "                tempS = 0\n",
    "                for k in range(row2):\n",
    "                    tempS += mat1[row][k]*mat2[k][col]\n",
    "                matMul[row][col] = tempS\n",
    "        '''      \n",
    "        for i in range(len(mat1)):\n",
    "\n",
    "            # iterating by coloum by B\n",
    "            for j in range(len(mat2[0])):\n",
    "\n",
    "                # iterating by rows of B\n",
    "                for k in range(len(mat2)):\n",
    "                    matMul[i][j] += mat1[i][k] * mat2[k][j]\n",
    "        '''\n",
    "        print(\"Matrix after multiplication\")\n",
    "        print(matMul)\n",
    "    \n",
    "\n",
    "row1 = int(input(\"Enter number row for matrix 1 :: \"))\n",
    "col1 = int(input(\"Enter number col for matrix 1 :: \"))\n",
    "print(\"Enter the elements in  matrix 1 :: \")\n",
    "mat1 = []\n",
    "for i in range(row1):          # A for loop for row entries\n",
    "    a =[]\n",
    "    for j in range(col1):      # A for loop for column entries\n",
    "         a.append(int(input()))\n",
    "    mat1.append(a)\n",
    "    \n",
    "print(\"Matrix 1 :: \",mat1)\n",
    "\n",
    "row2 = int(input(\"Enter number row for matrix 2 :: \"))\n",
    "col2 = int(input(\"Enter number col for matrix 2 :: \"))\n",
    "print(\"Enter the elements in  matrix 2 :: \")\n",
    "mat2 = []\n",
    "for i in range(row2):\n",
    "    a =[]\n",
    "    for j in range(col2):\n",
    "         a.append(int(input()))\n",
    "    mat2.append(a)\n",
    "print(\"Matrix 2 :: \",mat2) \n",
    "\n",
    "matrixMultiplication(row1,col1,mat1,row2,col2,mat2)          "
   ]
  },
  {
   "cell_type": "code",
   "execution_count": 11,
   "metadata": {},
   "outputs": [
    {
     "name": "stdout",
     "output_type": "stream",
     "text": [
      "Enter number row for matrix 1 :: 3\n",
      "Enter number col for matrix 1 :: 3\n",
      "Enter the elements in  matrix 1 :: \n",
      "1\n",
      "2\n",
      "3\n",
      "4\n",
      "5\n",
      "6\n",
      "7\n",
      "8\n",
      "9\n",
      "Matrix 1 ::  [[1, 2, 3], [4, 5, 6], [7, 8, 9]]\n",
      "After transpose the matrix is :: \n",
      "[[1, 4, 7], [2, 5, 8], [3, 6, 9]]\n"
     ]
    }
   ],
   "source": [
    "def transpose(row1,col1,mat1):\n",
    "    \n",
    "    for row in range(row1):\n",
    "        for col in range(col1):\n",
    "            if row!=col and col>row:\n",
    "                mat1[row][col],mat1[col][row] = mat1[col][row],mat1[row][col]\n",
    "                \n",
    "    print(\"After transpose the matrix is :: \")\n",
    "    print(mat1)\n",
    "    \n",
    "row1 = int(input(\"Enter number row for matrix 1 :: \"))\n",
    "col1 = int(input(\"Enter number col for matrix 1 :: \"))\n",
    "print(\"Enter the elements in  matrix 1 :: \")\n",
    "mat1 = []\n",
    "for i in range(row1):          # A for loop for row entries\n",
    "    a =[]\n",
    "    for j in range(col1):      # A for loop for column entries\n",
    "         a.append(int(input()))\n",
    "    mat1.append(a)\n",
    "    \n",
    "print(\"Matrix 1 :: \",mat1)\n",
    "transpose(row1,col1,mat1)"
   ]
  },
  {
   "cell_type": "code",
   "execution_count": 1,
   "metadata": {},
   "outputs": [
    {
     "name": "stdout",
     "output_type": "stream",
     "text": [
      "Enter words :: \n",
      "hello ujjwal kumar is a good boy\n",
      "Words in sorted manner ::  ['a', 'boy', 'good', 'hello', 'is', 'kumar', 'ujjwal']\n"
     ]
    }
   ],
   "source": [
    "def sortWord(wordList):\n",
    "    wordList.sort()\n",
    "    print(\"Words in sorted manner :: \",wordList)\n",
    "\n",
    "print(\"Enter words :: \")\n",
    "wordList = list(map(str,input().split()))\n",
    "sortWord(wordList)"
   ]
  },
  {
   "cell_type": "code",
   "execution_count": 4,
   "metadata": {},
   "outputs": [
    {
     "name": "stdout",
     "output_type": "stream",
     "text": [
      "Please enter the string with some punctuations :: hello, I am foog; \n",
      "hello, I am foog; \n",
      "['hello,', 'I', 'am', 'foog;', '']\n",
      "hello, I am foog; \n",
      "['hello', ' I am foog; ']\n",
      "hello, I am foog; \n",
      "['hello, I am foog; ']\n",
      "hello, I am foog; \n",
      "['hello, I am foog', ' ']\n",
      "hello, I am foog; \n",
      "['hello, I am foog; ']\n",
      "New String after removal of punctuations\n",
      "hello, I am foog; \n"
     ]
    }
   ],
   "source": [
    "punctuations = [' ',',',':',';','-']\n",
    "inputString = input(\"Please enter the string with some punctuations :: \")\n",
    "tempL = []\n",
    "for symbol in punctuations:\n",
    "    print(inputString)\n",
    "    tempL = inputString.split(symbol)\n",
    "    print(tempL)\n",
    "    \n",
    "print(\"New String after removal of punctuations\")\n",
    "newS = \"\"\n",
    "for word in tempL:\n",
    "    newS += word\n",
    "    \n",
    "print(newS)\n"
   ]
  },
  {
   "cell_type": "code",
   "execution_count": null,
   "metadata": {},
   "outputs": [],
   "source": []
  }
 ],
 "metadata": {
  "kernelspec": {
   "display_name": "Python 3",
   "language": "python",
   "name": "python3"
  },
  "language_info": {
   "codemirror_mode": {
    "name": "ipython",
    "version": 3
   },
   "file_extension": ".py",
   "mimetype": "text/x-python",
   "name": "python",
   "nbconvert_exporter": "python",
   "pygments_lexer": "ipython3",
   "version": "3.7.6"
  }
 },
 "nbformat": 4,
 "nbformat_minor": 4
}
