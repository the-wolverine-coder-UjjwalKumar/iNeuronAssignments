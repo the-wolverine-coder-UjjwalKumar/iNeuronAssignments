{
 "cells": [
  {
   "cell_type": "markdown",
   "metadata": {},
   "source": [
    "========================================================================================================================="
   ]
  },
  {
   "cell_type": "markdown",
   "metadata": {},
   "source": [
    "<h1 align=\"center\">iNeuron-Full Stack Data Science</h1>\n",
    "<h2 align=\"center\">Python Basic</h2>\n",
    "<h3 align=\"center\">Assignment_15-Solution</h3>\n",
    "<div align=\"left\">\n",
    "    <h3 >Mentors :-</h3>\n",
    "    <h3 >Sudhanshu Kumar</h3>\n",
    "    <h3 >Krish Naik</h3>\n",
    "</div>\n",
    "\n",
    "<div align=\"right\">\n",
    "    <h3 >Submitted By :-</h3>\n",
    "    <h3 >Name :- UJJWAL KUMAR</h3>\n",
    "    <h3 >Mobile No. :- 7634900918</h3>\n",
    "    <h3 >Email :- uk9334336553@gmail.com</h3>\n",
    "</div>\n",
    "\n"
   ]
  },
  {
   "cell_type": "markdown",
   "metadata": {},
   "source": [
    "======================================================================================================================="
   ]
  },
  {
   "cell_type": "markdown",
   "metadata": {},
   "source": [
    "### Question 1:\n",
    "#### Please write a program using generator to print the numbers which can be divisible by 5 and 7 between 0 and n in comma separated form while n is input by console.\n",
    "#### Example:\n",
    "#### If the following n is given as input to the program:\n",
    "#### 100\n",
    "#### Then, the output of the program should be:\n",
    "#### 0,35,70"
   ]
  },
  {
   "cell_type": "code",
   "execution_count": null,
   "metadata": {},
   "outputs": [],
   "source": [
    "def isMul(n):\n",
    "    ans = 0\n",
    "    while ans<n:\n",
    "        if ans%5==0 and ans%7==0:\n",
    "            yield ans\n",
    "            ans +=1\n",
    "\n",
    "            \n",
    "for i in isMul(50):\n",
    "    print(i)        "
   ]
  },
  {
   "cell_type": "markdown",
   "metadata": {},
   "source": [
    "### Question 2:\n",
    "##### Please write a program using generator to print the even numbers between 0 and n in comma separated form while n is input by console.\n",
    "#### Example:\n",
    "#### If the following n is given as input to the program:\n",
    "#### 10\n",
    "#### Then, the output of the program should be:\n",
    "#### 0,2,4,6,8,10"
   ]
  },
  {
   "cell_type": "code",
   "execution_count": 2,
   "metadata": {},
   "outputs": [
    {
     "name": "stdout",
     "output_type": "stream",
     "text": [
      "0\n",
      "2\n",
      "4\n",
      "6\n",
      "8\n",
      "10\n",
      "12\n",
      "14\n",
      "16\n",
      "18\n",
      "20\n",
      "22\n",
      "24\n",
      "26\n",
      "28\n",
      "30\n",
      "32\n",
      "34\n",
      "36\n",
      "38\n",
      "40\n",
      "42\n",
      "44\n",
      "46\n",
      "48\n"
     ]
    }
   ],
   "source": [
    "def isEven(n):\n",
    "    ans = 0\n",
    "    while ans<n:\n",
    "        if ans%2==0:\n",
    "            yield ans\n",
    "            ans +=2\n",
    "\n",
    "for i in isEven(50):\n",
    "    print(i)   "
   ]
  },
  {
   "cell_type": "markdown",
   "metadata": {},
   "source": [
    "### Question 3:\n",
    "##### The Fibonacci Sequence is computed based on the following formula:\n",
    "##### f(n)=0 if n=0\n",
    "##### f(n)=1 if n=1\n",
    "##### f(n)=f(n-1)+f(n-2) if n>1\n",
    "##### Please write a program using list comprehension to print the Fibonacci Sequence in comma separated form with a given n input by console.\n",
    "##### Example:\n",
    "##### If the following n is given as input to the program:\n",
    "##### 7\n",
    "\n",
    "#### Then, the output of the program should be:\n",
    "#### 0,1,1,2,3,5,8,13"
   ]
  },
  {
   "cell_type": "code",
   "execution_count": 3,
   "metadata": {},
   "outputs": [
    {
     "name": "stdout",
     "output_type": "stream",
     "text": [
      "7\n",
      "[0, 1, 1, 2, 3, 5, 8, 13, 21]\n"
     ]
    }
   ],
   "source": [
    "n = int(input())\n",
    "fiboList = [0,1]  \n",
    "[fiboList.append(fiboList[-2]+fiboList[-1]) for n in range(n)]\n",
    "print(fiboList)  "
   ]
  },
  {
   "cell_type": "markdown",
   "metadata": {},
   "source": [
    "### Question 4:\n",
    "##### Assuming that we have some email addresses in the \"username@companyname.com\" format, please write program to print the user name of a given email address. Both user names and company names are composed of letters only.\n",
    "##### Example:\n",
    "##### If the following email address is given as input to the program:\n",
    "##### john@google.com\n",
    "##### Then, the output of the program should be:\n",
    "##### john"
   ]
  },
  {
   "cell_type": "code",
   "execution_count": 4,
   "metadata": {},
   "outputs": [
    {
     "name": "stdout",
     "output_type": "stream",
     "text": [
      "Enter email address :: hello@gamil.com\n",
      "User name :: hello\n"
     ]
    }
   ],
   "source": [
    "email = input(\"Enter email address :: \")\n",
    "uList = email.split(\"@\")\n",
    "print(\"User name :: {}\".format(uList[0]))"
   ]
  },
  {
   "cell_type": "markdown",
   "metadata": {},
   "source": [
    "### Question 5:\n",
    "#### Define a class named Shape and its subclass Square. The Square class has an init function which takes a \n",
    "#### length as argument. Both classes have a area function which can print the area of the shape where Shape's area is 0 by default.\n"
   ]
  },
  {
   "cell_type": "code",
   "execution_count": 6,
   "metadata": {},
   "outputs": [
    {
     "name": "stdout",
     "output_type": "stream",
     "text": [
      "Area of square ::  100\n"
     ]
    }
   ],
   "source": [
    "class Shape():\n",
    "    def area(self):\n",
    "        print(\"area\")\n",
    "        \n",
    "class Square(Shape):\n",
    "    def __init__(self,n):\n",
    "        self.n = n\n",
    "        \n",
    "    def getArea(self):\n",
    "        print(\"Area of square :: \",(self.n**2))\n",
    "        \n",
    "sq = Square(10)\n",
    "sq.getArea()"
   ]
  },
  {
   "cell_type": "code",
   "execution_count": null,
   "metadata": {},
   "outputs": [],
   "source": []
  }
 ],
 "metadata": {
  "kernelspec": {
   "display_name": "Python 3",
   "language": "python",
   "name": "python3"
  },
  "language_info": {
   "codemirror_mode": {
    "name": "ipython",
    "version": 3
   },
   "file_extension": ".py",
   "mimetype": "text/x-python",
   "name": "python",
   "nbconvert_exporter": "python",
   "pygments_lexer": "ipython3",
   "version": "3.7.6"
  }
 },
 "nbformat": 4,
 "nbformat_minor": 4
}
