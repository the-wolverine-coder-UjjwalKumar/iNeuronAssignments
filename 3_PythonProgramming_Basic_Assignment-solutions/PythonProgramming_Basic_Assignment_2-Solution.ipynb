{
 "cells": [
  {
   "cell_type": "markdown",
   "metadata": {},
   "source": [
    "========================================================================================================================="
   ]
  },
  {
   "cell_type": "markdown",
   "metadata": {},
   "source": [
    "<h1 align=\"center\">iNeuron-Full Stack Data Science</h1>\n",
    "<h2 align=\"center\">Python Basic</h2>\n",
    "<h3 align=\"center\">Assignment_2-Solution</h3>\n",
    "<div align=\"left\">\n",
    "    <h3 >Mentors :-</h3>\n",
    "    <h3 >Sudhanshu Kumar</h3>\n",
    "    <h3 >Krish Naik</h3>\n",
    "</div>\n",
    "\n",
    "<div align=\"right\">\n",
    "    <h3 >Submitted By :-</h3>\n",
    "    <h3 >Name :- UJJWAL KUMAR</h3>\n",
    "    <h3 >Mobile No. :- 7634900918</h3>\n",
    "    <h3 >Email :- uk9334336553@gmail.com</h3>\n",
    "</div>\n",
    "\n"
   ]
  },
  {
   "cell_type": "markdown",
   "metadata": {},
   "source": [
    "======================================================================================================================="
   ]
  },
  {
   "cell_type": "markdown",
   "metadata": {},
   "source": [
    "### 1. Write a Python program to convert kilometers to miles?\n",
    "### 2. Write a Python program to convert Celsius to Fahrenheit?\n",
    "### 3. Write a Python program to display calendar?\n",
    "### 4. Write a Python program to solve quadratic equation?\n",
    "### 5. Write a Python program to swap two variables without temp variable?"
   ]
  },
  {
   "cell_type": "code",
   "execution_count": 1,
   "metadata": {},
   "outputs": [
    {
     "name": "stdout",
     "output_type": "stream",
     "text": [
      "Please enter kilometer value :: 123\n",
      "123.0 kilometer in miles is equal to 76.432\n"
     ]
    }
   ],
   "source": [
    "try:\n",
    "    def convKilometerToMiles(kilometer):\n",
    "        miles = kilometer * 0.6214\n",
    "        print(\"{} kilometer in miles is equal to {:.3f}\".format(kilometer,miles))\n",
    "except:\n",
    "    print(\"Please enter a valid kilomenter !!\")\n",
    "    \n",
    "kilometer = float(input(\"Please enter kilometer value :: \"))    \n",
    "convKilometerToMiles(kilometer)"
   ]
  },
  {
   "cell_type": "code",
   "execution_count": 27,
   "metadata": {},
   "outputs": [
    {
     "name": "stdout",
     "output_type": "stream",
     "text": [
      "Please enter celsius value :: 13\n",
      "13.0 celsius is equal to 55.400 Fahrenhiet\n"
     ]
    }
   ],
   "source": [
    "try:\n",
    "    def convCelsiusToFahrenhiet(celsius):\n",
    "        fahrenhiet = (celsius*9)/5 + 32\n",
    "        print(\"{} celsius is equal to {:.3f} Fahrenhiet\".format(celsius,fahrenhiet))\n",
    "except:\n",
    "    print(\"Please enter a vlid celsius !!\")  \n",
    "celsius = float(input(\"Please enter celsius value :: \"))    \n",
    "convCelsiusToFahrenhiet(celsius)"
   ]
  },
  {
   "cell_type": "code",
   "execution_count": 14,
   "metadata": {},
   "outputs": [
    {
     "name": "stdout",
     "output_type": "stream",
     "text": [
      "                                  2021\n",
      "\n",
      "      January                   February                   March\n",
      "Mo Tu We Th Fr Sa Su      Mo Tu We Th Fr Sa Su      Mo Tu We Th Fr Sa Su\n",
      "             1  2  3       1  2  3  4  5  6  7       1  2  3  4  5  6  7\n",
      " 4  5  6  7  8  9 10       8  9 10 11 12 13 14       8  9 10 11 12 13 14\n",
      "11 12 13 14 15 16 17      15 16 17 18 19 20 21      15 16 17 18 19 20 21\n",
      "18 19 20 21 22 23 24      22 23 24 25 26 27 28      22 23 24 25 26 27 28\n",
      "25 26 27 28 29 30 31                                29 30 31\n",
      "\n",
      "       April                      May                       June\n",
      "Mo Tu We Th Fr Sa Su      Mo Tu We Th Fr Sa Su      Mo Tu We Th Fr Sa Su\n",
      "          1  2  3  4                      1  2          1  2  3  4  5  6\n",
      " 5  6  7  8  9 10 11       3  4  5  6  7  8  9       7  8  9 10 11 12 13\n",
      "12 13 14 15 16 17 18      10 11 12 13 14 15 16      14 15 16 17 18 19 20\n",
      "19 20 21 22 23 24 25      17 18 19 20 21 22 23      21 22 23 24 25 26 27\n",
      "26 27 28 29 30            24 25 26 27 28 29 30      28 29 30\n",
      "                          31\n",
      "\n",
      "        July                     August                  September\n",
      "Mo Tu We Th Fr Sa Su      Mo Tu We Th Fr Sa Su      Mo Tu We Th Fr Sa Su\n",
      "          1  2  3  4                         1             1  2  3  4  5\n",
      " 5  6  7  8  9 10 11       2  3  4  5  6  7  8       6  7  8  9 10 11 12\n",
      "12 13 14 15 16 17 18       9 10 11 12 13 14 15      13 14 15 16 17 18 19\n",
      "19 20 21 22 23 24 25      16 17 18 19 20 21 22      20 21 22 23 24 25 26\n",
      "26 27 28 29 30 31         23 24 25 26 27 28 29      27 28 29 30\n",
      "                          30 31\n",
      "\n",
      "      October                   November                  December\n",
      "Mo Tu We Th Fr Sa Su      Mo Tu We Th Fr Sa Su      Mo Tu We Th Fr Sa Su\n",
      "             1  2  3       1  2  3  4  5  6  7             1  2  3  4  5\n",
      " 4  5  6  7  8  9 10       8  9 10 11 12 13 14       6  7  8  9 10 11 12\n",
      "11 12 13 14 15 16 17      15 16 17 18 19 20 21      13 14 15 16 17 18 19\n",
      "18 19 20 21 22 23 24      22 23 24 25 26 27 28      20 21 22 23 24 25 26\n",
      "25 26 27 28 29 30 31      29 30                     27 28 29 30 31\n",
      "\n"
     ]
    }
   ],
   "source": [
    "try:\n",
    "    import calendar\n",
    "    def displayCalenderByYear(year):\n",
    "        cal = calendar.calendar(year)\n",
    "        print(cal)\n",
    "        \n",
    "    displayCalenderByYear(2021)\n",
    "except:\n",
    "    print(\"Please enter a valid year !!\")"
   ]
  },
  {
   "cell_type": "code",
   "execution_count": 23,
   "metadata": {},
   "outputs": [
    {
     "name": "stdout",
     "output_type": "stream",
     "text": [
      "Note : take quadratic equations as ax^2 + bx + c\n",
      "Provide the value of a, b, c \n",
      "8\n",
      "5\n",
      "9\n",
      "Roots are Complex.\n",
      "Root-1 ::  -0.3125  + i 16.217274740226856\n",
      "Root-2 ::  -0.3125  - i 16.217274740226856\n"
     ]
    }
   ],
   "source": [
    "try:\n",
    "    import math\n",
    "    def solveQuadratic(a,b,c):\n",
    "        D = b**2 - 4 * a * c  \n",
    "        sqrtD = math.sqrt(abs(D))\n",
    "  \n",
    "        if D > 0:  \n",
    "            print(\"Roots are real and different.\")  \n",
    "            print(\"Root-1 :: \",(-b + sqrtD) / (2 * a))  \n",
    "            print(\"Root-2 :: \",(-b - sqrtD) / (2 * a))  \n",
    "        elif D == 0:  \n",
    "            print(\"Roots are real and same.\")  \n",
    "            print(\"Both the roots are :: \"-b / (2 * a))  \n",
    "        else:  \n",
    "            print(\"Roots are Complex.\")  \n",
    "            print(\"Root-1 :: \",- b / (2 * a), \" + i\", sqrtD)  \n",
    "            print(\"Root-2 :: \",- b / (2 * a), \" - i\", sqrtD)\n",
    "except:\n",
    "    print(\"Please provide a valid inputs as coffiecient of x^2 and X and c. !!\")\n",
    "    \n",
    "print(\"Note : take quadratic equations as ax^2 + bx + c\")\n",
    "print(\"Provide the value of a, b, c \")\n",
    "a = float(input())\n",
    "b = float(input())\n",
    "c = float(input())\n",
    "solveQuadratic(a,b,c)"
   ]
  },
  {
   "cell_type": "code",
   "execution_count": 26,
   "metadata": {},
   "outputs": [
    {
     "name": "stdout",
     "output_type": "stream",
     "text": [
      "Enter num1 :: 12\n",
      "Enter num2 :: 34\n",
      "Before Swap num1 = 12 and num2 = 34\n",
      "After Swap num1 = 34 and num2 = 12\n"
     ]
    }
   ],
   "source": [
    "def swapWithoutTemp(num1,num2):\n",
    "    print(\"Before Swap num1 = {} and num2 = {}\".format(num1,num2))\n",
    "    num1,num2 = num2,num1\n",
    "    print(\"After Swap num1 = {} and num2 = {}\".format(num1,num2))\n",
    "    \n",
    "num1 = int(input(\"Enter num1 :: \"))\n",
    "num2 = int(input(\"Enter num2 :: \"))\n",
    "swapWithoutTemp(num1,num2)"
   ]
  },
  {
   "cell_type": "code",
   "execution_count": null,
   "metadata": {},
   "outputs": [],
   "source": []
  }
 ],
 "metadata": {
  "kernelspec": {
   "display_name": "Python 3",
   "language": "python",
   "name": "python3"
  },
  "language_info": {
   "codemirror_mode": {
    "name": "ipython",
    "version": 3
   },
   "file_extension": ".py",
   "mimetype": "text/x-python",
   "name": "python",
   "nbconvert_exporter": "python",
   "pygments_lexer": "ipython3",
   "version": "3.7.6"
  }
 },
 "nbformat": 4,
 "nbformat_minor": 4
}
