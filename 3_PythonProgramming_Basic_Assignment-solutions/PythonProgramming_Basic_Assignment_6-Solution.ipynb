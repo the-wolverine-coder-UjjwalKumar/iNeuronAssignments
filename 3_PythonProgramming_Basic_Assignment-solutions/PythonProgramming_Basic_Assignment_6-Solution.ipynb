{
 "cells": [
  {
   "cell_type": "markdown",
   "metadata": {},
   "source": [
    "========================================================================================================================="
   ]
  },
  {
   "cell_type": "markdown",
   "metadata": {},
   "source": [
    "<h1 align=\"center\">iNeuron-Full Stack Data Science</h1>\n",
    "<h2 align=\"center\">Python Basic</h2>\n",
    "<h3 align=\"center\">Assignment_6-Solution</h3>\n",
    "<div align=\"left\">\n",
    "    <h3 >Mentors :-</h3>\n",
    "    <h3 >Sudhanshu Kumar</h3>\n",
    "    <h3 >Krish Naik</h3>\n",
    "</div>\n",
    "\n",
    "<div align=\"right\">\n",
    "    <h3 >Submitted By :-</h3>\n",
    "    <h3 >Name :- UJJWAL KUMAR</h3>\n",
    "    <h3 >Mobile No. :- 7634900918</h3>\n",
    "    <h3 >Email :- uk9334336553@gmail.com</h3>\n",
    "</div>\n",
    "\n"
   ]
  },
  {
   "cell_type": "markdown",
   "metadata": {},
   "source": [
    "======================================================================================================================="
   ]
  },
  {
   "cell_type": "markdown",
   "metadata": {},
   "source": [
    "### 1. Write a Python Program to Display Fibonacci Sequence Using Recursion?\n",
    "### 2. Write a Python Program to Find Factorial of Number Using Recursion?\n",
    "### 3. Write a Python Program to calculate your Body Mass Index?\n",
    "### 4. Write a Python Program to calculate the natural logarithm of any number?\n",
    "### 5. Write a Python Program for cube sum of first n natural numbers?"
   ]
  },
  {
   "cell_type": "code",
   "execution_count": 4,
   "metadata": {},
   "outputs": [
    {
     "name": "stdout",
     "output_type": "stream",
     "text": [
      "Enter the value of n :: 3\n",
      "2\n"
     ]
    }
   ],
   "source": [
    "def fibo(n):\n",
    "    if n==0:\n",
    "        return 0\n",
    "    if n==1:\n",
    "        return 1\n",
    "    return fibo(n-1)+fibo(n-2)\n",
    "\n",
    "n = int(input(\"Enter the value of n :: \"))\n",
    "print(fibo(n))"
   ]
  },
  {
   "cell_type": "code",
   "execution_count": 5,
   "metadata": {},
   "outputs": [
    {
     "name": "stdout",
     "output_type": "stream",
     "text": [
      "Enter the value of n :: 15\n",
      "1307674368000\n"
     ]
    }
   ],
   "source": [
    "def factorial(n):\n",
    "    if n==1:\n",
    "        return 1\n",
    "    return n * factorial(n-1)\n",
    "\n",
    "n = int(input(\"Enter the value of n :: \"))\n",
    "print(factorial(n))"
   ]
  },
  {
   "cell_type": "code",
   "execution_count": 6,
   "metadata": {},
   "outputs": [
    {
     "name": "stdout",
     "output_type": "stream",
     "text": [
      "Enter the weight in kilograms :: 12\n",
      "Enter the height in meters :: 3\n",
      "BMI for the given weight and height is 1.333\n"
     ]
    }
   ],
   "source": [
    "def calBodyMassIndex(weight,height):\n",
    "    print(\"BMI for the given weight and height is {:.3f}\".format(weight/height**2))\n",
    "    \n",
    "weight = float(input(\"Enter the weight in kilograms :: \"))\n",
    "height = float(input(\"Enter the height in meters :: \"))\n",
    "calBodyMassIndex(weight,height)"
   ]
  },
  {
   "cell_type": "code",
   "execution_count": 8,
   "metadata": {},
   "outputs": [
    {
     "name": "stdout",
     "output_type": "stream",
     "text": [
      "Enter the value of number :: 10\n",
      "The logarithmic value of 10.0 is 1.0\n"
     ]
    }
   ],
   "source": [
    "import math\n",
    "def findLogValue(num):\n",
    "    print(\"The logarithmic value of {} is {}\".format(num,math.log10(num)))\n",
    "    \n",
    "num = float(input(\"Enter the value of number :: \"))\n",
    "findLogValue(num)"
   ]
  },
  {
   "cell_type": "code",
   "execution_count": 9,
   "metadata": {},
   "outputs": [
    {
     "name": "stdout",
     "output_type": "stream",
     "text": [
      "Enter the value of number :: 6\n",
      "The cube of first n natural number upto 6 is 441.0\n"
     ]
    }
   ],
   "source": [
    "def cubeSum(n):\n",
    "    print(\"The cube of first n natural number upto {} is {}\".format(n,((n*(n+1)/2)**2)))\n",
    "    \n",
    "n = int(input(\"Enter the value of number :: \"))\n",
    "cubeSum(n)"
   ]
  },
  {
   "cell_type": "code",
   "execution_count": null,
   "metadata": {},
   "outputs": [],
   "source": []
  }
 ],
 "metadata": {
  "kernelspec": {
   "display_name": "Python 3",
   "language": "python",
   "name": "python3"
  },
  "language_info": {
   "codemirror_mode": {
    "name": "ipython",
    "version": 3
   },
   "file_extension": ".py",
   "mimetype": "text/x-python",
   "name": "python",
   "nbconvert_exporter": "python",
   "pygments_lexer": "ipython3",
   "version": "3.7.6"
  }
 },
 "nbformat": 4,
 "nbformat_minor": 4
}
