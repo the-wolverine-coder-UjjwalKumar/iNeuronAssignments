{
 "cells": [
  {
   "cell_type": "markdown",
   "metadata": {},
   "source": [
    "========================================================================================================================="
   ]
  },
  {
   "cell_type": "markdown",
   "metadata": {},
   "source": [
    "<h1 align=\"center\">iNeuron-Full Stack Data Science</h1>\n",
    "<h2 align=\"center\">Python Basic</h2>\n",
    "<h3 align=\"center\">Assignment_2-Solution</h3>\n",
    "<div align=\"left\">\n",
    "    <h3 >Mentors :-</h3>\n",
    "    <h3 >Sudhanshu Kumar</h3>\n",
    "    <h3 >Krish Naik</h3>\n",
    "</div>\n",
    "\n",
    "<div align=\"right\">\n",
    "    <h3 >Submitted By :-</h3>\n",
    "    <h3 >Name :- UJJWAL KUMAR</h3>\n",
    "    <h3 >Mobile No. :- 7634900918</h3>\n",
    "    <h3 >Email :- uk9334336553@gmail.com</h3>\n",
    "</div>\n",
    "\n"
   ]
  },
  {
   "cell_type": "markdown",
   "metadata": {},
   "source": [
    "======================================================================================================================="
   ]
  },
  {
   "cell_type": "markdown",
   "metadata": {},
   "source": [
    "#### 1. What are the Boolean data type&#39;s two values? How do you go about writing them?"
   ]
  },
  {
   "cell_type": "code",
   "execution_count": null,
   "metadata": {},
   "outputs": [],
   "source": [
    "<strong>Answer :-</strong>\n",
    "    <br>\n",
    "    We are having two values for the boolean data type and that is true and false.\n",
    "    \n",
    "    Syntax :- True or False"
   ]
  },
  {
   "cell_type": "code",
   "execution_count": 3,
   "metadata": {},
   "outputs": [
    {
     "name": "stdout",
     "output_type": "stream",
     "text": [
      "<class 'bool'>\n"
     ]
    }
   ],
   "source": [
    "print(type(True))"
   ]
  },
  {
   "cell_type": "code",
   "execution_count": 4,
   "metadata": {},
   "outputs": [
    {
     "name": "stdout",
     "output_type": "stream",
     "text": [
      "<class 'bool'>\n"
     ]
    }
   ],
   "source": [
    "print(type(False))"
   ]
  },
  {
   "cell_type": "markdown",
   "metadata": {},
   "source": [
    "#### 2. What are the three different types of Boolean operators?"
   ]
  },
  {
   "cell_type": "markdown",
   "metadata": {},
   "source": [
    "<strong>Answer :-</strong>\n",
    "\n",
    "|      Boolean operator      |                      Explaination                           | \n",
    "| :------------------------: | :---------------------------------------------------------: | \n",
    "|        and                 | it gives true when both the value are true.                 |\n",
    "|        or                  | it gives true when any of the value are true.               |\n",
    "|        not                 | it gives true when the value is false and vice-versa.       |\n",
    "    "
   ]
  },
  {
   "cell_type": "markdown",
   "metadata": {},
   "source": [
    "#### 3. Make a list of each Boolean operator&#39;s truth tables (i.e. every possible combination of Boolean values for the operator and what it evaluate)."
   ]
  },
  {
   "cell_type": "markdown",
   "metadata": {},
   "source": [
    "<strong>Answer :-</strong>\n",
    "<br>\n",
    "<br>\n",
    "    <strong>AND :-</strong>\n",
    "        \n",
    "|    Input1    |   Input2     |    Result   | \n",
    "| :----------: | :-----------:| :----------:| \n",
    "|     True     |    True      |     True    |\n",
    "|     True     |    False     |     False   |\n",
    "|     False    |    True      |     False   |\n",
    "|     False    |    False     |     False   |\n",
    "\n",
    "<br>\n",
    "<br>\n",
    "    <strong>OR :-</strong>\n",
    "        \n",
    "|    Input1    |   Input2     |    Result   | \n",
    "| :----------: | :-----------:| :----------:| \n",
    "|     True     |    True      |     True    |\n",
    "|     True     |    False     |     True    |\n",
    "|     False    |    True      |     True    |\n",
    "|     False    |    False     |     False   |\n",
    "\n",
    "<br>\n",
    "<br>\n",
    "    <strong>NOT :-</strong>\n",
    "        \n",
    "|    Input1    |   Result     | \n",
    "| :----------: | :-----------:| \n",
    "|     True     |    False     |\n",
    "|     False    |    True      |\n",
    "\n",
    "\n",
    "        "
   ]
  },
  {
   "cell_type": "markdown",
   "metadata": {},
   "source": [
    "#### 4. What are the values of the following expressions?\n",
    "\n",
    "(5 > 4) and (3 == 5)<br>\n",
    "not (5 > 4)<br>\n",
    "(5 > 4) or (3 == 5)<br>\n",
    "not ((5 > 4) or (3 == 5))<br>\n",
    "(True and True) and (True == False)<br>\n",
    "(not False) or (not True)"
   ]
  },
  {
   "cell_type": "code",
   "execution_count": 7,
   "metadata": {},
   "outputs": [
    {
     "data": {
      "text/plain": [
       "False"
      ]
     },
     "execution_count": 7,
     "metadata": {},
     "output_type": "execute_result"
    }
   ],
   "source": [
    "(5 > 4) and (3 == 5)"
   ]
  },
  {
   "cell_type": "code",
   "execution_count": 8,
   "metadata": {},
   "outputs": [
    {
     "data": {
      "text/plain": [
       "False"
      ]
     },
     "execution_count": 8,
     "metadata": {},
     "output_type": "execute_result"
    }
   ],
   "source": [
    "not (5 > 4)"
   ]
  },
  {
   "cell_type": "code",
   "execution_count": 9,
   "metadata": {},
   "outputs": [
    {
     "data": {
      "text/plain": [
       "True"
      ]
     },
     "execution_count": 9,
     "metadata": {},
     "output_type": "execute_result"
    }
   ],
   "source": [
    "(5 > 4) or (3 == 5)"
   ]
  },
  {
   "cell_type": "code",
   "execution_count": 10,
   "metadata": {},
   "outputs": [
    {
     "data": {
      "text/plain": [
       "False"
      ]
     },
     "execution_count": 10,
     "metadata": {},
     "output_type": "execute_result"
    }
   ],
   "source": [
    "not ((5 > 4) or (3 == 5))"
   ]
  },
  {
   "cell_type": "code",
   "execution_count": 11,
   "metadata": {},
   "outputs": [
    {
     "data": {
      "text/plain": [
       "False"
      ]
     },
     "execution_count": 11,
     "metadata": {},
     "output_type": "execute_result"
    }
   ],
   "source": [
    "(True and True) and (True == False)"
   ]
  },
  {
   "cell_type": "code",
   "execution_count": 12,
   "metadata": {},
   "outputs": [
    {
     "data": {
      "text/plain": [
       "True"
      ]
     },
     "execution_count": 12,
     "metadata": {},
     "output_type": "execute_result"
    }
   ],
   "source": [
    "(not False) or (not True)"
   ]
  },
  {
   "cell_type": "markdown",
   "metadata": {},
   "source": [
    "#### 5. What are the six different types of reference operators?"
   ]
  },
  {
   "cell_type": "markdown",
   "metadata": {},
   "source": [
    "<strong>Answer :-</strong>\n",
    "    <strong>Python groups the operators in the following sections based upon it's functionality :</strong>\n",
    "Arithmetic operators.<br>\n",
    "Assignment operators.<br>\n",
    "Comparison operators.<br>\n",
    "Logical operators.<br>\n",
    "Identity operators.<br>\n",
    "Bitwise operators.<br>"
   ]
  },
  {
   "cell_type": "markdown",
   "metadata": {},
   "source": [
    "#### 6. How do you tell the difference between the equal to and assignment operators?"
   ]
  },
  {
   "cell_type": "markdown",
   "metadata": {},
   "source": [
    "<strong>Answer :-</strong>\n",
    "    when we write a expression with double = operators then it checks where LHS is equal to RHS.<br>\n",
    "    For example.:- a == b ==> it will return true if value of a is equal to b\n",
    "    \n",
    "   when we write a expression with single = operators then it assign the value RHS to LHS.<br>\n",
    "    For example.:- a = 5 ==> it will return a with value 5   "
   ]
  },
  {
   "cell_type": "markdown",
   "metadata": {},
   "source": [
    "#### 7. Describe a condition and when you would use one."
   ]
  },
  {
   "cell_type": "markdown",
   "metadata": {},
   "source": [
    "<strong>Answer :-</strong>\n",
    "    <br>\n",
    "    <strong>Condition :-</strong> It can be defined as a expression which will help us to take some decision based upon it's outcome. It is used when we have to take a decision in our code."
   ]
  },
  {
   "cell_type": "markdown",
   "metadata": {},
   "source": [
    "#### 8. Recognize the following three blocks in this code:\n",
    "\n",
    "##### spam = 0\n",
    "##### if spam == 10:\n",
    "##### print(\"eggs\")\n",
    "\n",
    "##### if spam > 5:\n",
    "#####         print(\"bacon\")\n",
    "##### else:\n",
    "#####        print(\"ham\")\n",
    "##### print(\"spam\")\n",
    "##### print(\"spam\")"
   ]
  },
  {
   "cell_type": "code",
   "execution_count": 15,
   "metadata": {},
   "outputs": [
    {
     "name": "stdout",
     "output_type": "stream",
     "text": [
      "ham\n",
      "spam\n"
     ]
    }
   ],
   "source": [
    "spam = 0\n",
    "if spam == 10:\n",
    "    print(\"eggs\")\n",
    "    \n",
    "if spam > 5:\n",
    "    print(\"bacon\")\n",
    "else:\n",
    "    print(\"ham\")\n",
    "    \n",
    "print(\"spam\")"
   ]
  },
  {
   "cell_type": "markdown",
   "metadata": {},
   "source": [
    "#### 9. Create a programme that prints. If 1 is stored in spam, prints Hello; if 2 is stored in spam, prints Howdy; and if 3 is stored in spam, prints Salutations ! if there's something else in spam."
   ]
  },
  {
   "cell_type": "code",
   "execution_count": 16,
   "metadata": {},
   "outputs": [
    {
     "name": "stdout",
     "output_type": "stream",
     "text": [
      "Enter the value in spam :: 2\n",
      "Howdy\n"
     ]
    }
   ],
   "source": [
    "spam = int(input(\"Enter the value in spam :: \"))\n",
    "\n",
    "if spam==1:\n",
    "    print(\"Hello\")\n",
    "    \n",
    "elif spam==2:\n",
    "    print(\"Howdy\")\n",
    "    \n",
    "elif spam==3:\n",
    "    print(\"Salutaions !\")\n",
    "\n",
    "else:\n",
    "    print(\"No conditions matched.\")"
   ]
  },
  {
   "cell_type": "markdown",
   "metadata": {},
   "source": [
    "#### 10. If your programme is stuck in an endless loop, what keys can you press?"
   ]
  },
  {
   "cell_type": "markdown",
   "metadata": {},
   "source": [
    "<strong>Answer :-</strong>\n",
    "    If we are working in command line Ctrl + C. <br>\n",
    "    If we are working in Jupyter Notebook then stop the kernel "
   ]
  },
  {
   "cell_type": "markdown",
   "metadata": {},
   "source": [
    "#### 11. How can you tell the difference between break and continue?"
   ]
  },
  {
   "cell_type": "markdown",
   "metadata": {},
   "source": [
    "<strong>Answer :-</strong>\n",
    "<br>\n",
    "    <strong>break :-</strong> this keyword is used when we want to exit from the loop when certain condition is satisfied.\n",
    "    <br>\n",
    "    <strong>continue :-</strong> this keyword is used when we want to go to the new iteration value and skipping the rest statements writen below the continue keyword and within the loop"
   ]
  },
  {
   "cell_type": "markdown",
   "metadata": {},
   "source": [
    "#### 12. In a for loop, what is the difference between range(10), range(0, 10), and range(0, 10, 1)?"
   ]
  },
  {
   "cell_type": "code",
   "execution_count": 21,
   "metadata": {},
   "outputs": [
    {
     "name": "stdout",
     "output_type": "stream",
     "text": [
      "0 1 2 3 4 5 6 7 8 9 \n",
      "--------------\n",
      "0 1 2 3 4 5 6 7 8 9 \n",
      "--------------\n",
      "0 1 2 3 4 5 6 7 8 9 "
     ]
    }
   ],
   "source": [
    "for i in range(10):         #Reason here just specified the ending point in range function which is excluded\n",
    "    print(i,end=\" \")\n",
    "\n",
    "print(\"\\n--------------\")\n",
    "for i in range(0,10):      # Reason here the starting and ending point is specified\n",
    "    print(i,end=\" \")\n",
    "\n",
    "print(\"\\n--------------\")\n",
    "for i in range(0,10,1):    # Reason here the starting, ending and step is mentioned \n",
    "    print(i,end=\" \")"
   ]
  },
  {
   "cell_type": "markdown",
   "metadata": {},
   "source": [
    "#### 13. Using a for loop, write a short programme that prints the numbers 1 to 10 Then, using a while loop, create an identical programme that prints the numbers 1 to 10."
   ]
  },
  {
   "cell_type": "code",
   "execution_count": 1,
   "metadata": {},
   "outputs": [
    {
     "name": "stdout",
     "output_type": "stream",
     "text": [
      "1 2 3 4 5 6 7 8 9 10 \n",
      "-----Using While Loop-----\n",
      "1 2 3 4 5 6 7 8 9 10 "
     ]
    }
   ],
   "source": [
    "for i in range(1,11):\n",
    "    print(i,end=\" \")\n",
    "    \n",
    "print(\"\\n-----Using While Loop-----\")\n",
    "i = 1\n",
    "while i < 11:\n",
    "    print(i,end=\" \")\n",
    "    i +=1"
   ]
  },
  {
   "cell_type": "markdown",
   "metadata": {},
   "source": [
    "#### 14. If you had a bacon() function within a spam module, how would you call it after importing spam?"
   ]
  },
  {
   "cell_type": "markdown",
   "metadata": {},
   "source": [
    "<strong>Answer :-</strong>\n",
    "<br>\n",
    "import spam as s<br>\n",
    "s.bacon()"
   ]
  },
  {
   "cell_type": "code",
   "execution_count": null,
   "metadata": {},
   "outputs": [],
   "source": []
  }
 ],
 "metadata": {
  "kernelspec": {
   "display_name": "Python 3",
   "language": "python",
   "name": "python3"
  },
  "language_info": {
   "codemirror_mode": {
    "name": "ipython",
    "version": 3
   },
   "file_extension": ".py",
   "mimetype": "text/x-python",
   "name": "python",
   "nbconvert_exporter": "python",
   "pygments_lexer": "ipython3",
   "version": "3.7.6"
  }
 },
 "nbformat": 4,
 "nbformat_minor": 4
}
