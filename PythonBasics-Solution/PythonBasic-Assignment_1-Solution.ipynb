{
 "cells": [
  {
   "cell_type": "markdown",
   "metadata": {},
   "source": [
    "========================================================================================================================="
   ]
  },
  {
   "cell_type": "markdown",
   "metadata": {},
   "source": [
    "<h1 align=\"center\">iNeuron-Full Stack Data Science</h1>\n",
    "<h2 align=\"center\">Python Basic</h2>\n",
    "<h3 align=\"center\">Assignment_1-Solution</h3>\n",
    "<div align=\"left\">\n",
    "    <h3 >Mentors :-</h3>\n",
    "    <h3 >Sudhanshu Kumar</h3>\n",
    "    <h3 >Krish Naik</h3>\n",
    "</div>\n",
    "\n",
    "<div align=\"right\">\n",
    "    <h3 >Submitted By :-</h3>\n",
    "    <h3 >Name :- UJJWAL KUMAR</h3>\n",
    "    <h3 >Mobile No. :- 7634900918</h3>\n",
    "    <h3 >Email :- uk9334336553@gmail.com</h3>\n",
    "</div>\n",
    "\n"
   ]
  },
  {
   "cell_type": "markdown",
   "metadata": {},
   "source": [
    "======================================================================================================================="
   ]
  },
  {
   "cell_type": "code",
   "execution_count": null,
   "metadata": {},
   "outputs": [],
   "source": []
  },
  {
   "cell_type": "markdown",
   "metadata": {},
   "source": [
    "### 1. What are the differences between operators and values in the following?\n",
    "#### *\n",
    "#### \"Hello\"\n",
    "#### -87.8\n",
    "#### -\n",
    "#### /\n",
    "#### +\n",
    "#### 6"
   ]
  },
  {
   "cell_type": "markdown",
   "metadata": {},
   "source": [
    "<strong>Answer - 1 :-</strong> \n",
    "<p><strong>Operators</strong>:-\n",
    "        Operators are special symbols that is used to perform arithmetic or logical calculations. \n",
    "</p>\n",
    "<p><strong>Values/Operand</strong>:-\n",
    "        The value that the operator operates on it is called as operand.\n",
    "        For example: 5 + 6 = 11 Here, + is the operator that performs addition. \n",
    "                         5 and 6 are the operands/value and 11 is the output of the operation.\n",
    "</p>\n",
    "            \n",
    "        "
   ]
  },
  {
   "cell_type": "markdown",
   "metadata": {},
   "source": [
    "|     Input       |                  Output                       | \n",
    "| :-------------: | :-------------------------------------------: | \n",
    "|       *         | Binary Operator (multiplication)              |\n",
    "|      \"Hello\"    | Sting and value                               |\n",
    "|      -87.8      | - is uranry operator 87.8 is value of operand |\n",
    "|       -         | Binary operator (substraction)                |\n",
    "|       /         | Binary operator (division)                    | \n",
    "|       +         | Binary operator (addition)                    | \n",
    "|       6         | Value of operand                              | "
   ]
  },
  {
   "cell_type": "markdown",
   "metadata": {},
   "source": [
    "#### 2. What is the difference between string and variable? \n",
    "####     spam\n",
    "####    'spam'"
   ]
  },
  {
   "cell_type": "markdown",
   "metadata": {},
   "source": [
    "<strong>Answer - 2 :-</strong>\n",
    "\n",
    "<strong>String :-</strong>\n",
    "              In Python, Strings are arrays of bytes representing Unicode characters. However, Python does not have a character data type, a single character is simply a string with a length of 1. Square brackets can be used to access elements of the string\n",
    "    \n",
    "<strong>Variable :-</strong>\n",
    "    Variables are nothing but reserved memory locations to store values. This means that when you create a variable you reserve some space in memory. Based on the data type of a variable, the interpreter allocates memory and decides what can be stored in the reserved memory.\n",
    "    \n",
    "|     Input       |                        Output                               | \n",
    "| :-------------: | :---------------------------------------------------------: | \n",
    "|       spam      | it can be treated as a variable name                        |\n",
    "|      \"spam\"     | it can be treated as a string because it is enclosed in \" \".|\n"
   ]
  },
  {
   "cell_type": "markdown",
   "metadata": {},
   "source": [
    "#### 3. Describe three different data forms."
   ]
  },
  {
   "cell_type": "markdown",
   "metadata": {},
   "source": [
    "<strong>Answer - 3 :-</strong>\n",
    "All most all programming languages support basic data types of integer numbers, \n",
    "floating-point numbers , complex numbers , string and Booleans especially in Python."
   ]
  },
  {
   "cell_type": "code",
   "execution_count": 2,
   "metadata": {},
   "outputs": [
    {
     "name": "stdout",
     "output_type": "stream",
     "text": [
      "<class 'int'>\n"
     ]
    }
   ],
   "source": [
    "print(type(5))"
   ]
  },
  {
   "cell_type": "code",
   "execution_count": 3,
   "metadata": {},
   "outputs": [
    {
     "name": "stdout",
     "output_type": "stream",
     "text": [
      "<class 'float'>\n"
     ]
    }
   ],
   "source": [
    "print(type(12.4))"
   ]
  },
  {
   "cell_type": "code",
   "execution_count": 4,
   "metadata": {},
   "outputs": [
    {
     "name": "stdout",
     "output_type": "stream",
     "text": [
      "<class 'complex'>\n"
     ]
    }
   ],
   "source": [
    "print(type(2+5j))"
   ]
  },
  {
   "cell_type": "code",
   "execution_count": 5,
   "metadata": {},
   "outputs": [
    {
     "name": "stdout",
     "output_type": "stream",
     "text": [
      "<class 'str'>\n"
     ]
    }
   ],
   "source": [
    "print(type(\"iNeuron\"))"
   ]
  },
  {
   "cell_type": "code",
   "execution_count": 6,
   "metadata": {},
   "outputs": [
    {
     "name": "stdout",
     "output_type": "stream",
     "text": [
      "<class 'bool'>\n"
     ]
    }
   ],
   "source": [
    "print(type(True))"
   ]
  },
  {
   "cell_type": "markdown",
   "metadata": {},
   "source": [
    "#### 4. What makes up an expression? What are the functions of all expressions?"
   ]
  },
  {
   "cell_type": "markdown",
   "metadata": {},
   "source": [
    "<strong>Answer :-</strong>\n",
    "    <strong>Expression :-</strong>An expression is a combination of operators, constants and variables. \n",
    "    An expression may consist of one or more operands, and zero or more operators to produce a value.\n",
    "    \n",
    "<strong>Types of Expressions :-</strong>\n",
    "<br>\n",
    "Expressions may be of the following types :-\n",
    "\n",
    "|     Expression type/function       |                                          Explaination                                               | \n",
    "| :--------------------------------: | :-------------------------------------------------------------------------------------------------: | \n",
    "|       **Constant expressions**     | Constant Expressions consists of only constant values. A constant value is one that doesn’t change. |\n",
    "|       **Integral expressions**     | Integral Expressions are those which produce integer results after implementing all the automatic and explicit type conversions.|\n",
    "|       **Floating expressions**     | Float Expressions are which produce floating point results after implementing all the automatic and explicit type conversions.|\n",
    "|       **Relational expressions**   | Relational Expressions yield results of type bool which takes a value true or false. When arithmetic expressions are used on either side of a relational operator, they will be evaluated first and then the results compared. Relational expressions are also known as Boolean expressions.|\n",
    "|       **Logical expressions**      | Logical Expressions combine two or more relational expressions and produces bool type results.|\n",
    "|       **Bitwise expressions**      | Bitwise Expressions are used to manipulate data at bit level. They are basically used for testing or shifting bits.|\n",
    "        \n",
    "    "
   ]
  },
  {
   "cell_type": "markdown",
   "metadata": {},
   "source": [
    "#### 5. What's the difference between a declaration and an expression?"
   ]
  },
  {
   "cell_type": "markdown",
   "metadata": {},
   "source": [
    "<strong>Answer :-</strong>\n",
    "    <strong>Declaration :-</strong>Declaration of a variable is for informing to the compiler the following information: name of the variable, type of value it holds and the initial value if any it takes. i.e., declaration gives details about the properties of a variable.\n",
    "    <br>\n",
    "    <strong>Expression :-</strong>An expression is a combination of operators, constants and variables. \n",
    "    An expression may consist of one or more operands, and zero or more operators to produce a value."
   ]
  },
  {
   "cell_type": "markdown",
   "metadata": {},
   "source": [
    "#### 6. After running the following code, what does the variable bacon contain?\n",
    "##### bacon = 22\n",
    "#### bacon + 1"
   ]
  },
  {
   "cell_type": "code",
   "execution_count": 9,
   "metadata": {},
   "outputs": [
    {
     "data": {
      "text/plain": [
       "22"
      ]
     },
     "execution_count": 9,
     "metadata": {},
     "output_type": "execute_result"
    }
   ],
   "source": [
    "bacon = 22\n",
    "bacon + 1 # Reason why the value is not changed because the value of bacon is updated but it is not stored anywhere.\n",
    "bacon"
   ]
  },
  {
   "cell_type": "markdown",
   "metadata": {},
   "source": [
    "#### 7. What should the values of the following two terms be?\n",
    "\n",
    "#### 'spam' + 'spamspam'\n",
    "##### 'spam'* 3"
   ]
  },
  {
   "cell_type": "code",
   "execution_count": 10,
   "metadata": {},
   "outputs": [
    {
     "data": {
      "text/plain": [
       "'spamspamspam'"
      ]
     },
     "execution_count": 10,
     "metadata": {},
     "output_type": "execute_result"
    }
   ],
   "source": [
    "\"spam\" + \"spamspam\" #Reason simple string concatination"
   ]
  },
  {
   "cell_type": "code",
   "execution_count": 11,
   "metadata": {},
   "outputs": [
    {
     "data": {
      "text/plain": [
       "'spamspamspam'"
      ]
     },
     "execution_count": 11,
     "metadata": {},
     "output_type": "execute_result"
    }
   ],
   "source": [
    "\"spam\" * 3 #generating a string repeatidly 3 time. This is a shortcut way to generate it."
   ]
  },
  {
   "cell_type": "markdown",
   "metadata": {},
   "source": [
    "#### 8. Why is it that eggs is a true variable name but 100 is not?"
   ]
  },
  {
   "cell_type": "markdown",
   "metadata": {},
   "source": [
    "<strong>Answer :-</strong>\n",
    "<br>\n",
    "    <strong>eggs :-</strong> It follows the proper convention of declaring a variable name. Hence it is accepted as a variable name\n",
    "    <br>\n",
    "    <strong>100  :-</strong> It doesn't satisfies the convention. A variable name cannot starts with a number and hence it is not a valid variable name"
   ]
  },
  {
   "cell_type": "markdown",
   "metadata": {},
   "source": [
    "#### 9. Which of the following three functions may be used to convert a value to an integer, a floating-point number, or a string?"
   ]
  },
  {
   "cell_type": "markdown",
   "metadata": {},
   "source": [
    "    \n",
    "|  Function Name   |                                          Explaination                                          | \n",
    "| :--------------: | :--------------------------------------------------------------------------------------------: | \n",
    "|      int()       | This function is used to convert the vlue into integer provided the input arguments are valid. |\n",
    "|      float()     | This function is used to convert the vlue into float provided the input arguments are valid.   |\n",
    "|      str()       | This function is used to convert the vlue into string provided the input arguments are valid.  |"
   ]
  },
  {
   "cell_type": "markdown",
   "metadata": {},
   "source": [
    "#### 10. What is the error caused by this expression? What would you do about it?\n",
    "\n",
    "#### \"I have eaten \" + 99 + \"burritos.\""
   ]
  },
  {
   "cell_type": "markdown",
   "metadata": {},
   "source": [
    "<strong>Answer :-</strong>\n",
    "    <br>\n",
    "    Here error occured while we execute the above expression and that is can't concatinate string with integers."
   ]
  },
  {
   "cell_type": "code",
   "execution_count": 14,
   "metadata": {},
   "outputs": [
    {
     "ename": "TypeError",
     "evalue": "can only concatenate str (not \"int\") to str",
     "output_type": "error",
     "traceback": [
      "\u001b[1;31m---------------------------------------------------------------------------\u001b[0m",
      "\u001b[1;31mTypeError\u001b[0m                                 Traceback (most recent call last)",
      "\u001b[1;32m<ipython-input-14-f4d92bc05d02>\u001b[0m in \u001b[0;36m<module>\u001b[1;34m\u001b[0m\n\u001b[1;32m----> 1\u001b[1;33m \u001b[1;34m\"I have eaten \"\u001b[0m \u001b[1;33m+\u001b[0m \u001b[1;36m99\u001b[0m \u001b[1;33m+\u001b[0m \u001b[1;34m\"burritos.\"\u001b[0m\u001b[1;33m\u001b[0m\u001b[1;33m\u001b[0m\u001b[0m\n\u001b[0m",
      "\u001b[1;31mTypeError\u001b[0m: can only concatenate str (not \"int\") to str"
     ]
    }
   ],
   "source": [
    "\"I have eaten \" + 99 + \"burritos.\""
   ]
  },
  {
   "cell_type": "code",
   "execution_count": null,
   "metadata": {},
   "outputs": [],
   "source": []
  }
 ],
 "metadata": {
  "kernelspec": {
   "display_name": "Python 3",
   "language": "python",
   "name": "python3"
  },
  "language_info": {
   "codemirror_mode": {
    "name": "ipython",
    "version": 3
   },
   "file_extension": ".py",
   "mimetype": "text/x-python",
   "name": "python",
   "nbconvert_exporter": "python",
   "pygments_lexer": "ipython3",
   "version": "3.7.6"
  }
 },
 "nbformat": 4,
 "nbformat_minor": 4
}
